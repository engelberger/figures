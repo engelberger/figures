{
  "nbformat": 4,
  "nbformat_minor": 0,
  "metadata": {
    "colab": {
      "name": "lab12_AbinitioFoldingTutorial_Pyrosetta.ipynb",
      "provenance": [],
      "collapsed_sections": [
        "rSxJGITc1tBU"
      ],
      "toc_visible": true
    },
    "kernelspec": {
      "name": "python3",
      "display_name": "Python 3"
    }
  },
  "cells": [
    {
      "cell_type": "markdown",
      "metadata": {
        "id": "TTn0im17RKAk"
      },
      "source": [
        "#Lab.12 / IBM3202 – Protein folding *ab initio* using Rosetta"
      ]
    },
    {
      "cell_type": "markdown",
      "metadata": {
        "id": "HImm2gBRR6Xf"
      },
      "source": [
        "#Theoretical aspects. \n",
        "Why can we perform structure predictions for a given protein sequence?"
      ]
    },
    {
      "cell_type": "markdown",
      "metadata": {
        "id": "ARYtS662SC-T"
      },
      "source": [
        "As we already saw in the homology modelling tutorial there is a growing need to solve the 3D structure of proteins. As evolution has evolved from a finite number of families of proteins there are usually closely related proteins that has been already solved and can be used in strategies as the aforementioned homology modelling. But there is also a chance of you encountering a protein with no closely related homologs which has been already structurally solved, in this last case scenario we can use modelling derived from first principles or more commonly refered as *Ab initio* modelling, which is template agnostic.\n",
        "\n"
      ]
    },
    {
      "cell_type": "markdown",
      "metadata": {
        "id": "_HRMjMeeTfOs"
      },
      "source": [
        "As we have discussed during the course, there are many ways you can predict a protein’s structure by knowing only its sequence: homology-based comparative modelling, determination of coevolutionary couplings using a myriad of homologous protein sequences and ab initio structure prediction. Ab initio comes from the Latin and means “from first principles”, in which the idea is to arrive at a protein structure just by knowing the principles governing protein folding."
      ]
    },
    {
      "cell_type": "markdown",
      "metadata": {
        "id": "IKjxOMBoaqqc"
      },
      "source": [
        "Where do these principles come from? As we have seen in our lectures, the ever-increasing number of solved protein structures by different methods (X-ray, NMR, cryoEM) has enabled to define that, regardless their primary sequence, proteins do not explore all possible configurations. This very simple observation enabled further use of this information to perform statistical analysis of the different conformations that a protein sequences usually explore: typical amino acid environments and distances between amino acids in any given protein, secondary structure predictions based on sequence information alone, angle and distance geometries between secondary structure elements, dihedral distributions of backbones and side chains, etc. Then, this information can be used to define energy functions which enable us to determine which structures are more probable for a given sequence (an inverse folding problem).\n"
      ]
    },
    {
      "cell_type": "markdown",
      "metadata": {
        "id": "ojBSonugasAx"
      },
      "source": [
        "While this method has been used for several protein structure predictions, the exponential growth of the conformational space of a protein that can be explored by a given protein sequence with respect to its protein length severely limits its use to proteins with fewer than 100 residues. The rationale behind such exact number is that a protein domain, i.e. considered as a region (sequence) of a protein that can fold independently onto a given structure by its own, typically has a maximum in its typical length distribution at ~100 residues for most proteins (**Fig 1**). Thus, there seems to be an optimal number of residues that allow proteins to form a hydrophobic core big enough to stably fold."
      ]
    },
    {
      "cell_type": "markdown",
      "metadata": {
        "id": "HBp5K9IOsQzi"
      },
      "source": [
        "<figure>\n",
        "<center>\n",
        "<img src=\"https://ars.els-cdn.com/content/image/1-s2.0-S1359027898000042-gr3.gif\"/>\n",
        "\n",
        "<figcaption>FIGURE 1. Length distribution of proteins domains. The arrow represents the maximum of the distribution, which in turn represents the minimum of a folding energy function that depends solely on the entropic cost of packing a n-polymer, the hydration cost for its radios of gyration, and the average internal enthalpy of contact formation.  <br> Adapted from Xu & Nussinov (1998)<i> Folding & Design.</i></figcaption></center>\n",
        "</figure>"
      ]
    },
    {
      "cell_type": "markdown",
      "metadata": {
        "id": "RoM2js2obWYH"
      },
      "source": [
        "Although this is used as a general rule, there are plenty of exceptions as shown in the above distribution, of domains that form well below or beyond the optimal 100 ± 40 residues. Some extremely short proteins can adopt stable structures in solution (i.e. the β-stable hairpin we studied through MD, or the villin head we are about to fold), and immensely large proteins that can form a huge hydrophobic core. This noisy distribution highlights that there is not a unique solution to the protein folding problem, and the principles governing the folding of ideal, regular-sized globular proteins may not be the same than that of outlier, small domains. Today, we will put that to the test."
      ]
    },
    {
      "cell_type": "markdown",
      "metadata": {
        "id": "W8Q2C-sBblS4"
      },
      "source": [
        "#General Overview "
      ]
    },
    {
      "cell_type": "markdown",
      "metadata": {
        "id": "VNpLsgP1boQf"
      },
      "source": [
        "In this tutorial, we will employ Rosetta to predict the protein structure of the 35-residue headpiece of villin from G. gallus. Although compiling may be messy, and the documentation is awfully dispersed and obscure through tens of different versions and small unannounced modifications, Rosetta is by far the most successful engine in de novo design and prediction of proteins structures (Kaufmann *et al.* (2010) *Biochemistry*).\n",
        "\n",
        "Briefly, we will perform the following tasks:\n",
        "\n",
        "Part I – Prepare the fragment libraries required for protein structure prediction using Rosetta \n",
        "\n",
        "Part II – Execute Rosetta to generate 10 ab initio models\n",
        "\n",
        "Part III – Analyze the results using py3Dmol and Rosetta\n",
        "\n",
        "Part IV – Prepare a larger number of models (>10,000) using two different fragment libraries"
      ]
    },
    {
      "cell_type": "markdown",
      "metadata": {
        "id": "Q55MC985bhoJ"
      },
      "source": [
        "##Folding protocol overview\n"
      ]
    },
    {
      "cell_type": "markdown",
      "metadata": {
        "id": "K4r7VDTkULy0"
      },
      "source": [
        "As stated in the **AbinitioRelax [documentation](https://)** \n",
        "\n",
        "> The AbinitioRelax application consists of two main steps. \n",
        "1. The first step is a coarse-grained fragment-based search through conformational space using a knowledge-based \"centroid\" score function that favors protein-like features (Abinitio). \n",
        "2. The second optional step is all-atom refinement using the Rosetta full-atom forcefield (Relax). The \"Relax\" step is considerably more compute-intensive and time-consuming than the first step. \n",
        "\n",
        "There is also commented the fact that:\n",
        "\n",
        "> For increased conformational sampling, this application is easily parallelized by executing numerous jobs each using a unique random number seed (see Options section below). This is typically done by submitting multiple jobs to a computer cluster or distributed grid. Since the full-atom energy function is very sensitive to imperfect atomic interactions and more noise will exist with insufficient sampling, convergence towards the native structure may require a significant amount of sampling. Additionally, to increase your chance of sampling the correct topology, a diverse set of homologous sequences, preferably with sequence changes that may have a greater impact on sampling like deletions and differences in conserved positions, may also be run since a homologue may converge towards the native structure with significantly less sampling (See Bradley *et al.* (2005). Toward high-resolution de novo structure prediction for small proteins. *Science*, 309(5742), 1868-1871).\n",
        "\n",
        "\n",
        "\n",
        "\n"
      ]
    },
    {
      "cell_type": "markdown",
      "metadata": {
        "id": "fQbd_TeklIb0"
      },
      "source": [
        "## Folding.py\n",
        "This script performs fragment insertion for an input protein sequence. The\n",
        "sequence may be explicit, in a FASTA file, or in a PDB file. Two fragment files,\n",
        "preferably one longer than the other, must also be provided. Fragment insertion\n",
        "is accompanied by a Monte Carlo assessment allowing the conformation to escape\n",
        "local minima. Output structures from this protocol are intended to proceed into\n",
        "a refinement step (such as that in refinement.py) to produce reasonable\n",
        "estimates of the protein conformation.\n",
        "\n",
        "Instructions:\n",
        "\n",
        "1. ensure that your PDB file is in the current directory\n",
        "2. run the script:\n",
        "  - from commandline  \n",
        "      - > python D060_Folding.py\n",
        "  - from within python/ipython              \n",
        "      - run D060_Folding.py\n",
        "\n",
        "Author: Evan H. Baugh\n",
        "    revised and motivated by Robert Schleif\n",
        "\n",
        "Updated by Boon Uranukul, 6/9/12\n",
        "Simplified special constant seed initialization ~ Labonte\n",
        "\n",
        "References:\n",
        "    P. Bradley, K. Misura, and D. Baker, \"Toward high-resolution de novo\n",
        "        structure prediction for small proteins\", *Science* 309 (5742)\n",
        "        1868-1871 (2005).\n",
        "\n",
        "\"\"\""
      ]
    },
    {
      "cell_type": "markdown",
      "metadata": {
        "id": "sCahXpkxlX-T"
      },
      "source": [
        "## The complete folding protocol, steps included in the \"sample_folding\" definition"
      ]
    },
    {
      "cell_type": "markdown",
      "metadata": {
        "id": "vqzFPKS9lVLg"
      },
      "source": [
        "\n",
        "\n",
        "This sample script is setup for usage with\n",
        "    commandline arguments,\n",
        "    default running within a python interpreter,\n",
        "    or for import within a python interpreter,\n",
        "        (exposing the sample_folding method)\n",
        "\n",
        "The method sample_folding:\n",
        "1.  creates a pose from the desired sequence (fullatom)\n",
        "2.  set all of the pose's backbone torsion angles\n",
        "3.  creates a (fullatom) reference copy of the pose\n",
        "4.  creates Movers for switching between fullatom and centroid\n",
        "5.  convert both poses to centroid\n",
        "6.  creates a MoveMap with all backbone torsion angles free\n",
        "7.  sets up ClassicFragmentMovers for inserting fragments backbone structures for long and short fragments\n",
        "8.  creates RepeatMovers for the long and short fragment Movers\n",
        "9.  create a PyMOL_Observer for viewing intermediate output\n",
        "10. creates low and high resolution ScoreFunctions\n",
        "11. sets up a RepeatMover on a TrialMover of a SequenceMover setup the TrialMover\n",
        "      \n",
        "      -  create a SequenceMover with the:\n",
        "          - RepeatMover on the long fragment Mover\n",
        "          - RepeatMoversepeatMover on the short fragment Mover\n",
        "\n",
        "      -  create a MonteCarlo object for assessing moves\n",
        "      -  create the TrialMover (on the SequenceMover)\n",
        "      -  create the RepeatMover (on the TrialMover)\n",
        "12. creates a (Py)JobDistributor for managing multiple trajectories\n",
        "13. stores the original score evaluation (centroid)\n",
        "14. performs low-resolution folding:\n",
        "  - set necessary variables\n",
        "      - reload the starting (centroid) pose\n",
        "      - change the pose's PDBInfo.name, for the PyMOLMover\n",
        "      - reset the MonteCarlo object (for the TrialMover)\n",
        "  - perform sampling and assessment using the final RepeatMover\n",
        "  - convert the lowest scoring decoy to fullatom using the SequenceMover\n",
        "  - export the (lowest scoring) decoy structure\n",
        "      - recover the lowest scoring (centroid) decoy\n",
        "      - store the decoy score\n",
        "      - convert the decoy to fullatom\n",
        "      - guess potential disulfide bridges\n",
        "      - output the decoy structure using the PyJobDistributor\n",
        "      - export the decoy structure using the PyMOL_Observer\n",
        "15. outputs the score evaluations\n",
        "\n",
        "The second method, guess_disulfides, is called in sample_folding to print out\n",
        "cysteine residues which are close to each other in the decoy structure.\n"
      ]
    },
    {
      "cell_type": "markdown",
      "metadata": {
        "id": "yZeHMrpWcdzz"
      },
      "source": [
        "#Part I – Prepare the fragment libraries required for protein structure prediction using Rosetta"
      ]
    },
    {
      "cell_type": "markdown",
      "metadata": {
        "id": "gO0B8VE3cj-n"
      },
      "source": [
        "The sequence of the protein for which we want to predict its structure, the **G34L mutant** of the headpiece subdomain of the **Villin** protein from *G. gallus*, is the following:\n",
        "> MLSDEDFKAFGMTRSAFANLPLWKQQNLKKEKLLF\n",
        "\n",
        "The first thing we need to do is to generate a fragment library that we will require for modelling our protein. As you remember from the lectures, these libraries are essential for closing loops between segments and for determining the most probable local structure for a given sequence.\n",
        "\n",
        "To generate these libraries, we recommend using **Robetta (http://old.robetta.org/)**, a webserver that is kept by the same laboratory in charge of maintaining Rosetta. Here, one typically will go onto the “Submit” section of the Fragment Library service, and then input the name of the target protein in the “Target Name” field and its full sequence in Fasta format in the “Paste Fasta” field. Finally, we would normally press “Submit” to start the fragment library generation."
      ]
    },
    {
      "cell_type": "markdown",
      "metadata": {
        "id": "gRpdqFS7c0xK"
      },
      "source": [
        "Depending on the protein sequence length, these fragment library generations can take up to several hours. Therefore, we are providing these files for your uninterrupted work (0- fragment_libraries/villin folder). If you take a quick look onto these files, you should see:\n",
        "\n",
        "* 3-residue long fragment file (i.e. aat000_03...)\n",
        "\n",
        "* 9-residue long fragment file (i.e. aat000_09...)\n",
        "\n",
        "* 3 temporal files (i.e. *.dat, *.check, *.checkpoint)\n",
        "\n",
        "* a Fasta file with your sequence (i.e. *.fasta)\n",
        "\n",
        "* 3 secondary structure prediction files (i.e. *.jufo_ss, *.psipred, *.psipred_ss2)\n",
        "\n",
        "* a database file (i.e. *.rdb)"
      ]
    },
    {
      "cell_type": "markdown",
      "metadata": {
        "id": "NyWAWqFxddgs"
      },
      "source": [
        "We are only interested in the fragment files. Open one of them in a text editor to examine its content. For each, 200 fragments will be generated, and the content is as follows:\n"
      ]
    },
    {
      "cell_type": "markdown",
      "metadata": {
        "id": "8VFxin_LdgVd"
      },
      "source": [
        "* Column -- Meaning\n",
        "* 1 -- blank\n",
        "\n",
        "* 2-5 -- PDB code for the fragment origin\n",
        "\n",
        "* 7 -- chain ID for the origin PDB\n",
        "\n",
        "* 9-13 -- PDB residue number for the origin PDB\n",
        "\n",
        "* 15 -- amino acid identity in the origin PDB\n",
        "\n",
        "* 17 -- secondary structure for the origin PDB (Helix, Loop, Extended/beta) 19-27 -- phi\n",
        "\n",
        "* 28-36 -- psi\n",
        "\n",
        "* 37-45 -- omega\n",
        "\n",
        "* 46-54 -- C-alpha x coordinate for origin PDB (optional)\n",
        "\n",
        "* 55-63 -- C-alpha y coordinate for origin PDB (optional)\n",
        "\n",
        "* 65-73 -- C-alpha z coordinate for origin PDB (optional)\n",
        "\n",
        "* 74-79 -- unknown (unused)\n",
        "\n",
        "* 80-85 -- unknown (unused)\n",
        "\n",
        "* 86 -- Literal \"P\" (unused)\n",
        "\n",
        "* 87-89 -- fragment position number, pose numbered (unused)\n",
        "\n",
        "* 91 -- Literal \"F\"(unused)\n",
        "\n",
        "* 92-94 -- fragment number (unused)\n",
        "\n",
        "**QUESTION!!** \n",
        "* Why are the position coordinate of the fragments optional?\n",
        "* Why we do not require any information about the structural coordinates of the rest of the atoms?"
      ]
    },
    {
      "cell_type": "markdown",
      "metadata": {
        "id": "QVHm1u1pmrvp"
      },
      "source": [
        "# Part II Execute Rosetta to generate 10 *ab initio* models\n",
        "\n",
        "Once we have generated the fragment libraries, we will employ them along with Rosetta. In its core, Rosetta is quite similar to Gromacs in that it consists of a series of individual applications or codes that share in common a language and libraries. In this case, we will use the application named **AbinitioRelax**. To examine this application in detail, please Google the name of the application followed by Rosetta, and you’ll immediately find the documentation page alongside with useful references. **Do it. Seriously. Rosetta is an extremely convoluted and complicated program!**"
      ]
    },
    {
      "cell_type": "code",
      "metadata": {
        "id": "BasFTps1bPtS"
      },
      "source": [
        "# Notebook setup\n",
        "import sys\n",
        "if 'google.colab' in sys.modules:\n",
        "    !pip install pyrosettacolabsetup\n",
        "    import pyrosettacolabsetup\n",
        "    pyrosettacolabsetup.setup()\n",
        "    print (\"Notebook is set for PyRosetta use in Colab.  Have fun!\")"
      ],
      "execution_count": null,
      "outputs": []
    },
    {
      "cell_type": "markdown",
      "metadata": {
        "id": "VAaC0ezm5lHD"
      },
      "source": [
        "Here we copy test files for running the method"
      ]
    },
    {
      "cell_type": "code",
      "metadata": {
        "id": "9DrGx1TfeQUQ"
      },
      "source": [
        "!wget https://github.com/engelberger/ibm3202/raw/master/villin.zip\n"
      ],
      "execution_count": null,
      "outputs": []
    },
    {
      "cell_type": "code",
      "metadata": {
        "id": "g6cFyIrVRmpI"
      },
      "source": [
        "!unzip villin.zip"
      ],
      "execution_count": null,
      "outputs": []
    },
    {
      "cell_type": "markdown",
      "metadata": {
        "id": "5RH87G8R7JS5"
      },
      "source": [
        "Here we create the outs folder needed for saving the results from folding"
      ]
    },
    {
      "cell_type": "code",
      "metadata": {
        "id": "2NQMSFmM1eAa",
        "outputId": "269ba804-3da2-4f08-cb69-d064ba09604d",
        "colab": {
          "base_uri": "https://localhost:8080/"
        }
      },
      "source": [
        "%cd villin\n",
        "!mkdir outs"
      ],
      "execution_count": 9,
      "outputs": [
        {
          "output_type": "stream",
          "text": [
            "/content/villin\n"
          ],
          "name": "stdout"
        }
      ]
    },
    {
      "cell_type": "code",
      "metadata": {
        "id": "gSdET33TryY1",
        "outputId": "de54cff5-eadd-4e56-9f39-6de227c4ca1c",
        "colab": {
          "base_uri": "https://localhost:8080/"
        }
      },
      "source": [
        "!rm ./outs/fold_output*"
      ],
      "execution_count": 10,
      "outputs": [
        {
          "output_type": "stream",
          "text": [
            "rm: cannot remove './outs/fold_output*': No such file or directory\n"
          ],
          "name": "stdout"
        }
      ]
    },
    {
      "cell_type": "markdown",
      "metadata": {
        "id": "ubELeWHpqxEi"
      },
      "source": [
        "Following is the protocol for running from colab"
      ]
    },
    {
      "cell_type": "markdown",
      "metadata": {
        "id": "9sduT7I50orJ"
      },
      "source": [
        "### Definition of method for folding protocol"
      ]
    },
    {
      "cell_type": "code",
      "metadata": {
        "id": "QiU7m58HOCjQ",
        "outputId": "f487859c-91d1-4105-f655-d0ff9557eaae",
        "colab": {
          "base_uri": "https://localhost:8080/"
        }
      },
      "source": [
        "import optparse    # for sorting options\n",
        "\n",
        "import pyrosetta\n",
        "import pyrosetta.rosetta as rosetta\n",
        "\n",
        "from pyrosetta import (\n",
        "    init, pose_from_sequence, pose_from_file, Pose, MoveMap, create_score_function, get_fa_scorefxn,\n",
        "    MonteCarlo, TrialMover, SwitchResidueTypeSetMover, PyJobDistributor,\n",
        ")\n",
        "from pyrosetta.rosetta import core, protocols\n",
        "init(extra_options = \"-scorefile_format text\")  "
      ],
      "execution_count": 13,
      "outputs": [
        {
          "output_type": "stream",
          "text": [
            "PyRosetta-4 2020 [Rosetta PyRosetta4.MinSizeRel.python36.linux 2020.27+release.cd4c8de0d49b3a523091f756785370c2adf91ff4 2020-06-29T13:41:46] retrieved from: http://www.pyrosetta.org\n",
            "(C) Copyright Rosetta Commons Member Institutions. Created in JHU by Sergey Lyskov and PyRosetta Team.\n",
            "core.init: Checking for fconfig files in pwd and ./rosetta/flags\n",
            "core.init: Rosetta version: PyRosetta4.MinSizeRel.python36.linux r259 2020.27+release.cd4c8de cd4c8de0d49b3a523091f756785370c2adf91ff4 http://www.pyrosetta.org 2020-06-29T13:41:46\n",
            "core.init: command: PyRosetta -ex1 -ex2aro -scorefile_format text -database /content/prefix/pyrosetta-2020.27+release.cd4c8de-py3.6-linux-x86_64.egg/pyrosetta/database\n",
            "basic.random.init_random_generator: 'RNG device' seed mode, using '/dev/urandom', seed=1055023453 seed_offset=0 real_seed=1055023453\n",
            "basic.random.init_random_generator: RandomGenerator:init: Normal mode, seed=1055023453 RG_type=mt19937\n"
          ],
          "name": "stdout"
        }
      ]
    },
    {
      "cell_type": "code",
      "metadata": {
        "id": "XxL-i1AhqsOW"
      },
      "source": [
        "def sample_folding(sequence,\n",
        "        long_frag_filename, long_frag_length,\n",
        "        short_frag_filename, short_frag_length,\n",
        "        kT = 3.0, long_inserts = 1, short_inserts = 3, cycles = 40,\n",
        "        jobs = 1, job_output = 'fold_output'):\n",
        "    \"\"\"\n",
        "    \n",
        "    \"\"\"\n",
        "    # 1. create a pose from the desired sequence (fullatom)\n",
        "    # the method pose_from_sequence produces a complete IDEALIZED\n",
        "    #    protein conformation of the input sequence, the ResidueTypeSet (second\n",
        "    #    argument below) may be varied, and this method supports non-proteogenic\n",
        "    #    chemistry (though it is still a Rosetta Residue). however this syntax\n",
        "    #    is more involved and not robust to user errors, and not presented here\n",
        "    # small differences in bond lengths and bond angles WILL change the results,\n",
        "    #### if you desire an alternate starting conformation, alter steps\n",
        "    ####     1. and 2. as you please\n",
        "    pose = pose_from_sequence(sequence, 'fa_standard')\n",
        "\n",
        "    # 2. linearize the pose by setting backbone torsions to large values\n",
        "    # the method make_pose_from_sequence does not create the new pose's\n",
        "    #    PDBInfo object, so its done here, without it an error occurs later\n",
        "    pose.pdb_info(rosetta.core.pose.PDBInfo( pose.total_residue() ))\n",
        "    for i in range(1, pose.total_residue() + 1):\n",
        "        pose.set_omega(i, 180)\n",
        "        pose.set_phi(i, -150)    # reasonably straight\n",
        "        pose.set_psi(i, 150)\n",
        "        #### if you want to see the decoy scores, the PDBInfo needs these lines\n",
        "        #pose.pdb_info().chain(i, 'A')    # necessary to color by score\n",
        "        #pose.pdb_info().number(i, i)    # for PDB numbering\n",
        "    ####\n",
        "\n",
        "    # 3. create a (fullatom) reference copy of the pose\n",
        "    test_pose = Pose()\n",
        "    test_pose.assign( pose )\n",
        "    test_pose.pdb_info().name('linearized pose')\n",
        "\n",
        "    # 4. create centroid <--> fullatom conversion Movers\n",
        "    to_centroid = SwitchResidueTypeSetMover('centroid')\n",
        "    # centroid Residue objects, of amino acids, have all their sidechain atoms\n",
        "    #    replaced by a single representative \"atom\" to speed up calculations\n",
        "    to_fullatom = SwitchResidueTypeSetMover('fa_standard')\n",
        "\n",
        "    # 5. convert the poses to centroid\n",
        "    to_centroid.apply(pose)\n",
        "    to_centroid.apply(test_pose)\n",
        "\n",
        "    # 6. create the MoveMap, all backbone torsions free\n",
        "    movemap = MoveMap()\n",
        "    movemap.set_bb(True)\n",
        "    # minimizing the centroid chi angles (the sidechain centroid atoms) is\n",
        "    #    almost always USELESS since this compression is performed for speed,\n",
        "    #    not accuracy and clashes usually occur when converting to fullatom\n",
        "\n",
        "    # 7. setup the ClassicFragmentMovers\n",
        "    # for the long fragments file\n",
        "    # this \"try--except\" is used to catch improper fragment files\n",
        "    try:\n",
        "        fragset_long = core.fragment.ConstantLengthFragSet( long_frag_length , long_frag_filename )\n",
        "        #### the ConstantLengthFragSet is overloaded, this same\n",
        "        ####    ConstantLengthFragSet can be obtained with different syntax\n",
        "        # to obtain custom fragments, see Generating Fragment Files below\n",
        "    except:\n",
        "        raise IOError('Make sure long_frag_length matches the fragments in\\n\\\n",
        "            long_frag_file and that long_frag_file is valid')\n",
        "    long_frag_mover = protocols.simple_moves.ClassicFragmentMover(fragset_long, movemap)\n",
        "    # and for the short fragments file\n",
        "    # this \"try--except\" is used to catch improper fragment files\n",
        "    try:\n",
        "        fragset_short = core.fragment.ConstantLengthFragSet(short_frag_length, short_frag_filename)\n",
        "    except:\n",
        "        raise IOError('Make sure short_frag_length matches the fragments in\\n\\\n",
        "            short_frag_file and that short_frag_file is valid')\n",
        "    short_frag_mover = protocols.simple_moves.ClassicFragmentMover(fragset_short, movemap)\n",
        "\n",
        "    # 8. setup RepeatMovers for the ClassicFragmentMovers\n",
        "    insert_long_frag = protocols.moves.RepeatMover(long_frag_mover, long_inserts)\n",
        "    insert_short_frag = protocols.moves.RepeatMover(short_frag_mover, short_inserts)\n",
        "\n",
        "    # 9. create a PyMOL_Observer for exporting structures to PyMOL (optional)\n",
        "    # the PyMOL_Observer object owns a PyMOLMover and monitors pose objects for\n",
        "    #    structural changes, when changes are detected the new structure is\n",
        "    #    sent to PyMOL\n",
        "    # fortunately, this allows investigation of full protocols since\n",
        "    #    intermediate changes are displayed, it also eliminates the need to\n",
        "    #    manually apply the PyMOLMover during a custom protocol\n",
        "    # unfortunately, this can make the output difficult to interpret (since you\n",
        "    #    aren't explicitly telling it when to export) and can significantly slow\n",
        "    #    down protocols since many structures are output (PyMOL can also slow\n",
        "    #    down if too many structures are provided and a fast machine may\n",
        "    #    generate structures too quickly for PyMOL to read, the\n",
        "    #    \"Buffer clean up\" message\n",
        "    # uncomment the line below to use PyMOL_Observer\n",
        "    ##    AddPyMOLObserver(test_pose, True)\n",
        "\n",
        "    # 10. create ScoreFunctions\n",
        "    # for low-resolution, centroid, poses necessary for the TrialMover's\n",
        "    #    MonteCarlo object (see below)\n",
        "    scorefxn_low = create_score_function('score3')\n",
        "    # for high-resolution, fullatom, poses necessary for scoring final output\n",
        "    #    from the PyJobDistributor (see below)\n",
        "    scorefxn_high = get_fa_scorefxn() #  create_score_function('standard', 'score12')\n",
        "\n",
        "    # 11. setup a RepeatMover on a TrialMover of a SequenceMover\n",
        "    # -setup a TrialMover\n",
        "    #    a. create a SequenceMover of the fragment insertions\n",
        "    #### add any other moves you desire\n",
        "    folding_mover = protocols.moves.SequenceMover()\n",
        "    folding_mover.add_mover(insert_long_frag)\n",
        "    folding_mover.add_mover(insert_short_frag)\n",
        "    #    b. create a MonteCarlo object to define success/failure\n",
        "    # must reset the MonteCarlo object for each trajectory!\n",
        "    mc = MonteCarlo(test_pose, scorefxn_low, kT)\n",
        "    # c. create the TrialMover\n",
        "    trial = TrialMover(folding_mover, mc)\n",
        "\n",
        "    #### for each trajectory, try cycles number of applications\n",
        "\n",
        "    # -create the RepeatMover\n",
        "    folding = protocols.moves.RepeatMover(trial, cycles)\n",
        "\n",
        "    # 12. create a (Py)JobDistributor\n",
        "    jd = PyJobDistributor(job_output, jobs, scorefxn_high)\n",
        "\n",
        "    # 13. store the score evaluations for output\n",
        "    # printing the scores as they are produced would be difficult to read,\n",
        "    #    Rosetta produces a lot of verbose output when running\n",
        "    scores = [0]*(jobs + 1)\n",
        "    scores[0] = scorefxn_low(pose)\n",
        "\n",
        "    # 14. perform folding by\n",
        "    counter = 0    # for exporting to PyMOL\n",
        "    while not jd.job_complete:\n",
        "        # a. set necessary variables for the new trajectory\n",
        "        # -reload the starting pose\n",
        "        test_pose.assign(pose)\n",
        "        # -change the pose's PDBInfo.name, for the PyMOL_Observer\n",
        "        counter += 1\n",
        "        test_pose.pdb_info().name(job_output + '_' + str(counter))\n",
        "        # -reset the MonteCarlo object (sets lowest_score to that of test_pose)\n",
        "        mc.reset(test_pose)\n",
        "\n",
        "        #### if you create a custom protocol, you may have additional\n",
        "        ####    variables to reset, such as kT\n",
        "\n",
        "        #### if you create a custom protocol, this section will most likely\n",
        "        ####    change, many protocols exist as single Movers or can be\n",
        "        ####    chained together in a sequence (see above) so you need\n",
        "        ####    only apply the final Mover\n",
        "        # b. apply the refinement protocol\n",
        "        folding.apply(test_pose)\n",
        "\n",
        "        ####\n",
        "        # c. export the lowest scoring decoy structure for this trajectory\n",
        "        # -recover the lowest scoring decoy structure\n",
        "        mc.recover_low(test_pose)\n",
        "        # -store the final score for this trajectory\n",
        "        scores[counter] = scorefxn_low(test_pose)\n",
        "        # -convert the decoy to fullatom\n",
        "        # the sidechain conformations will all be default,\n",
        "        #    normally, the decoys would NOT be converted to fullatom before\n",
        "        #    writing them to PDB (since a large number of trajectories would\n",
        "        #    be considered and their fullatom score are unnecessary)\n",
        "        # here the fullatom mode is reproduced to make the output easier to\n",
        "        #    understand and manipulate, PyRosetta can load in PDB files of\n",
        "        #    centroid structures, however you must convert to fullatom for\n",
        "        #    nearly any other application\n",
        "        to_fullatom.apply(test_pose)\n",
        "        # -guess what cysteines are involved in disulfide bridges\n",
        "        guess_disulfides(test_pose)\n",
        "        # -output the fullatom decoy structure into a PDB file\n",
        "        jd.output_decoy(test_pose)\n",
        "        # -export the final structure to PyMOL\n",
        "        test_pose.pdb_info().name(job_output + '_' + str(counter) + '_fa')\n",
        "\n",
        "        #### if you want to see the decoy scores, uncomment the line below\n",
        "        #scorefxn_high( test_pose )\n",
        "\n",
        "    # 15. output the score evaluations\n",
        "    print( '===== Centroid Scores =====' )\n",
        "    print( 'Original Score\\t:\\t', scores[0] )\n",
        "    for i in range(1, len(scores)):    # print out the job scores\n",
        "        # the \"[:14].ljust(14)\" is to force the text alignment\n",
        "        print( (job_output + '_' + str( i ))[:14].ljust(14) +\\\n",
        "            '\\t:\\t', scores[i] )\n",
        "\n",
        "    return scores    # for other protocols\n",
        "\n",
        "# locates all cysteines, make bonds between them, output the bonds that lower\n",
        "#    the score\n",
        "def guess_disulfides(pose, cutoff = 6.0):\n",
        "    \"\"\"\n",
        "    A quick method for probing a protein for cysteine residues close to each\n",
        "        other (within  <cutoff>  )\n",
        "    \"\"\"\n",
        "    # find all cysteine residues and consider possible disulfides\n",
        "    cys = [i for i in range(1, pose.total_residue() + 1)\n",
        "        if pose.residue(i).name1() == 'C']\n",
        "    partners = [0]*sum( range(len(cys)) )    # all disulfides possible\n",
        "    i = 0\n",
        "    # create all combinations\n",
        "    for first in range(len(cys[:-1])):\n",
        "        for second in cys[first + 1:]:\n",
        "            partners[i] = (cys[first], second)\n",
        "            i += 1\n",
        "    # try each disulfide, if it lowers the score, print it to screen\n",
        "    print( '='*80 )\n",
        "    print( 'Potential Disulfides:' )\n",
        "    for pair in partners:\n",
        "        # for a fullatom cysteine in PyRosetta, the 6th atom is sulfur\n",
        "        separation = (pose.residue(pair[0]).xyz(6) -\n",
        "            pose.residue(pair[1]).xyz(6)).norm\n",
        "        if separation < cutoff:\n",
        "            print( 'between (pose numbered) residue' , pair[0] , 'and' ,\\\n",
        "                pair[1] , '|' , separation , 'Angstrom separation' )\n",
        "    print( '='*80 )\n",
        "    # to manipulate disulfide bonds, use:\n",
        "    # formation:    form_disulfide(pose.conformation(), 6, 16)\n",
        "    # cleavage:     change_cys_state(6, 'CYS', pose.conformation() )\n",
        "    #               change_cys_state(16, 'CYS', pose.conformation() )\n",
        "\n"
      ],
      "execution_count": 24,
      "outputs": []
    },
    {
      "cell_type": "markdown",
      "metadata": {
        "id": "7tmLHsk5xAeT"
      },
      "source": [
        "## Here we define input variables"
      ]
    },
    {
      "cell_type": "markdown",
      "metadata": {
        "id": "fpfuN_HVygkL"
      },
      "source": [
        "\n",
        "-   The long_frag_length MUST match long_frag_filename (9 in this example)         \n",
        "\n",
        "-   The short_frag_length MUST match short_frag_filename (3 here)\n",
        "-   100 trajectories is low, sampling protein conformations requires many trials, typically hundreds (800-1000) trajectories are attempted         \n",
        "-   The \"temperature\" parameter, kT, is set to 1.0, a neutral value, larger kT increase the diversity of sampling (easily escape local minima) but requires compensation with more trajectories smaller kT decreases the chance of sampling \"useless\" space but cannot easily escape local minima (the default kT = 3.0)\n",
        "- There are no common values for long_inserts, short_inserts, or cycles more inserts indicates greater sampling with fragments while greater cycles produces more sampling in general (though in this case only fragment insertion is performed) however, only one selection (Metropolis Criteria) is applied per cycle, thus a proposed structure with too many fragments inserted is likely to be rejected but additional trials increases the computation time noticeably here, as is typical is Rosetta, a fairly conservative change is proposed (1 9-mer and 3 3-mers) per cycle with many cycles"
      ]
    },
    {
      "cell_type": "code",
      "metadata": {
        "id": "qPBVkUh0w9Yr"
      },
      "source": [
        "# the user may input a PDB file, fasta file, or sequence directly\n",
        "# PDB file option\n",
        "pose = Pose()\n",
        "# Fasta file option\n",
        "fasta_filename = './t000_.fasta'\n",
        "if fasta_filename:    # defaults to off, empty string\n",
        "    f = open(fasta_filename, 'r')    # open the file\n",
        "    sequence = f.readlines()    # read the text\n",
        "    f.close()    # close it\n",
        "    # removing the trailing \"\\n\" and any header lines\n",
        "    sequence = [line.strip() for line in sequence if not '>' in line]\n",
        "    sequence = ''.join( sequence )    # combine into a single sequence\n",
        "elif options.sequence:\n",
        "    sequence = options.sequence\n",
        "#else:\n",
        " #   pose_from_file(pose, pdb_filename)\n",
        " #   sequence = pose.sequence()\n",
        "#Checks for the sequence in a fasta, then direct, and finally from a PDB file.  If no PDB file is given, it will load the default.\n",
        "\n",
        "# fragment files options\n",
        "long_frag_filename = './aat000_09_05.200_v1_3'\n",
        "long_frag_length = 9\n",
        "short_frag_filename = './aat000_03_05.200_v1_3'\n",
        "short_frag_length = 3\n",
        "# folding protocol options, see above\n",
        "kT = 3.0\n",
        "long_inserts = 1\n",
        "short_inserts = 3\n",
        "cycles = 300\n",
        "# PyJobDistributor options\n",
        "jobs = 10\n",
        "job_output = './outs/fold_output'                  #Prefix"
      ],
      "execution_count": 25,
      "outputs": []
    },
    {
      "cell_type": "markdown",
      "metadata": {
        "id": "E2yCqcQdxEvc"
      },
      "source": [
        "## Here we finally call the folding function "
      ]
    },
    {
      "cell_type": "code",
      "metadata": {
        "id": "111jvH6XxF0x"
      },
      "source": [
        "sample_folding(sequence,\n",
        "    long_frag_filename, long_frag_length,\n",
        "    short_frag_filename, short_frag_length,\n",
        "    kT, long_inserts, short_inserts, cycles,\n",
        "    jobs, job_output)"
      ],
      "execution_count": null,
      "outputs": []
    },
    {
      "cell_type": "markdown",
      "metadata": {
        "id": "QOAPtmkSePwn"
      },
      "source": [
        "# Part III – Analyze the results"
      ]
    },
    {
      "cell_type": "markdown",
      "metadata": {
        "id": "LXBRnThEeyhq"
      },
      "source": [
        "As a result of running Rosetta, two things will happen:\n",
        "1. All the 10 predicted structures for villin headpiece will be outputted as PDB files\n",
        "2. An energy score and statistics file of the output, called score.fsc, will also be continually generated"
      ]
    },
    {
      "cell_type": "code",
      "metadata": {
        "id": "Npex-swMLPCl"
      },
      "source": [
        "!sudo apt install jq"
      ],
      "execution_count": 31,
      "outputs": []
    },
    {
      "cell_type": "markdown",
      "metadata": {
        "id": "GGYA2_PLQYWx"
      },
      "source": [
        "Let's get the total_score of our models"
      ]
    },
    {
      "cell_type": "code",
      "metadata": {
        "id": "43NBfnMGNbyl",
        "outputId": "7918f1d2-506e-46bd-c7b9-0a63d4ea6288",
        "colab": {
          "base_uri": "https://localhost:8080/"
        }
      },
      "source": [
        "#As we obtain a Json scorefile we use the jq bash json parser to filter the decoy name and total_score\n",
        "#in order to get the lowest energy model\n",
        "!jq '.decoy , .total_score' /content/outs/fold_output.fasc "
      ],
      "execution_count": 57,
      "outputs": [
        {
          "output_type": "stream",
          "text": [
            "\u001b[0;32m\"./outs/fold_output_1.pdb\"\u001b[0m\n",
            "\u001b[0;39m19506.609829091118\u001b[0m\n",
            "\u001b[0;32m\"./outs/fold_output_9.pdb\"\u001b[0m\n",
            "\u001b[0;39m18981.418347516792\u001b[0m\n",
            "\u001b[0;32m\"./outs/fold_output_7.pdb\"\u001b[0m\n",
            "\u001b[0;39m23563.81152301885\u001b[0m\n",
            "\u001b[0;32m\"./outs/fold_output_0.pdb\"\u001b[0m\n",
            "\u001b[0;39m19045.200104729556\u001b[0m\n",
            "\u001b[0;32m\"./outs/fold_output_2.pdb\"\u001b[0m\n",
            "\u001b[0;39m23063.998924099684\u001b[0m\n",
            "\u001b[0;32m\"./outs/fold_output_3.pdb\"\u001b[0m\n",
            "\u001b[0;39m22303.149424056905\u001b[0m\n",
            "\u001b[0;32m\"./outs/fold_output_5.pdb\"\u001b[0m\n",
            "\u001b[0;39m20451.64224161002\u001b[0m\n",
            "\u001b[0;32m\"./outs/fold_output_8.pdb\"\u001b[0m\n",
            "\u001b[0;39m21423.37446436659\u001b[0m\n",
            "\u001b[0;32m\"./outs/fold_output_6.pdb\"\u001b[0m\n",
            "\u001b[0;39m18492.159339890637\u001b[0m\n",
            "\u001b[0;32m\"./outs/fold_output_4.pdb\"\u001b[0m\n",
            "\u001b[0;39m17505.200430050383\u001b[0m\n"
          ],
          "name": "stdout"
        }
      ]
    },
    {
      "cell_type": "markdown",
      "metadata": {
        "id": "0Y4qwnirfkHN"
      },
      "source": [
        "Now is your turn to the 2PPZ(native.pdb) pdb and align it to the structure with the predicted structure with the lowest energy using py3Dmol and BioPython!! "
      ]
    },
    {
      "cell_type": "code",
      "metadata": {
        "id": "85ZdGjTZIaCf",
        "outputId": "9886c5fd-a636-4b81-da01-f0cc9838f5aa",
        "colab": {
          "base_uri": "https://localhost:8080/"
        }
      },
      "source": [
        "!pip install biopython\n",
        "#We import Bio.PDB module again\n",
        "from Bio.PDB import *\n",
        "parser = PDBParser()"
      ],
      "execution_count": 59,
      "outputs": [
        {
          "output_type": "stream",
          "text": [
            "Requirement already satisfied: biopython in /usr/local/lib/python3.6/dist-packages (1.78)\n",
            "Requirement already satisfied: numpy in /usr/local/lib/python3.6/dist-packages (from biopython) (1.18.5)\n"
          ],
          "name": "stdout"
        }
      ]
    },
    {
      "cell_type": "code",
      "metadata": {
        "id": "bUwfwJaxIblz",
        "outputId": "6f53b61e-5db8-4be1-977b-e06427edf619",
        "colab": {
          "base_uri": "https://localhost:8080/"
        }
      },
      "source": [
        "#The following code was created by Anders Steen Christensen\n",
        "#from the University of Basel and is available at\n",
        "#https://gist.github.com/andersx/6354971\n",
        "\n",
        "import Bio.PDB\n",
        "\n",
        "# Select what residues numbers you wish to align\n",
        "# and put them in a list\n",
        "start_id = 1\n",
        "end_id   = 35\n",
        "atoms_to_be_aligned = range(start_id, end_id + 1)\n",
        "\n",
        "# Start the parser\n",
        "pdb_parser = Bio.PDB.PDBParser(QUIET = True)\n",
        "\n",
        "# Get the structures\n",
        "ref_structure = pdb_parser.get_structure(\"reference\", \"/content/native.pdb\")\n",
        "sample_structure = pdb_parser.get_structure(\"sample\", \"PathToYourBestDecoy!!.pdb\")\n",
        "\n",
        "# Use the first model in the pdb-files for alignment\n",
        "# Change the number 0 if you want to align to another structure\n",
        "ref_model    = ref_structure[0]\n",
        "sample_model = sample_structure[0]\n",
        "\n",
        "# Make a list of the atoms (in the structures) you wish to align.\n",
        "# In this case we use CA atoms whose index is in the specified range\n",
        "ref_atoms = []\n",
        "sample_atoms = []\n",
        "\n",
        "# Iterate of all chains in the model in order to find all residues\n",
        "for ref_chain in ref_model:\n",
        "  # Iterate of all residues in each model in order to find proper atoms\n",
        "  for ref_res in ref_chain:\n",
        "    # Check if residue number ( .get_id() ) is in the list\n",
        "    if ref_res.get_id()[1] in atoms_to_be_aligned:\n",
        "      # Append CA atom to list\n",
        "      ref_atoms.append(ref_res['CA'])\n",
        "\n",
        "# Do the same for the sample structure\n",
        "for sample_chain in sample_model:\n",
        "  for sample_res in sample_chain:\n",
        "    if sample_res.get_id()[1] in atoms_to_be_aligned:\n",
        "      sample_atoms.append(sample_res['CA'])\n",
        "\n",
        "# Now we initiate the superimposer:\n",
        "super_imposer = Bio.PDB.Superimposer()\n",
        "super_imposer.set_atoms(ref_atoms, sample_atoms)\n",
        "super_imposer.apply(sample_model.get_atoms())\n",
        "\n",
        "# Print RMSD:\n",
        "print('The calculated RMSD is:')\n",
        "print (super_imposer.rms)\n",
        "\n",
        "# Save the aligned version of one of the chains of 6ANE\n",
        "io = Bio.PDB.PDBIO()\n",
        "io.set_structure(sample_structure) \n",
        "io.save(\"Your_best_model_aligned.pdb\")"
      ],
      "execution_count": 79,
      "outputs": [
        {
          "output_type": "stream",
          "text": [
            "The calculated RMSD is:\n",
            "4.825571693414543\n"
          ],
          "name": "stdout"
        }
      ]
    },
    {
      "cell_type": "code",
      "metadata": {
        "id": "ny5zIv8wP6hm",
        "outputId": "dd0864b1-2647-431d-c0bd-e985313a5ab6",
        "colab": {
          "base_uri": "https://localhost:8080/"
        }
      },
      "source": [
        "#Here, write down the code to install py3Dmol\n",
        "!pip install py3Dmol"
      ],
      "execution_count": 63,
      "outputs": [
        {
          "output_type": "stream",
          "text": [
            "Requirement already satisfied: py3Dmol in /usr/local/lib/python3.6/dist-packages (0.9.0)\n"
          ],
          "name": "stdout"
        }
      ]
    },
    {
      "cell_type": "code",
      "metadata": {
        "id": "JcFXtv33f64Z",
        "outputId": "25da05fa-ca04-49c4-e5b6-ef370fc30fbb",
        "colab": {
          "base_uri": "https://localhost:8080/",
          "height": 497
        }
      },
      "source": [
        "#And we already learned how to import these modules, right?\n",
        "import py3Dmol\n",
        "view=py3Dmol.view()\n",
        "view.addModel(open('/content/Your_best_model_aligned.pdb', 'r').read(),'pdb')\n",
        "view.addModel(open('/content/native.pdb', 'r').read(),'pdb')\n",
        "view.zoomTo()\n",
        "view.setBackgroundColor('white')\n",
        "view.setStyle({'chain':'A'},{'cartoon': {'color':'yellow'}})\n",
        "view.setStyle({'chain':'B'},{'cartoon': {'color':'green'}})\n",
        "view.show()"
      ],
      "execution_count": 87,
      "outputs": [
        {
          "output_type": "display_data",
          "data": {
            "application/3dmoljs_load.v0": "<div id=\"3dmolviewer_16050643429269176\"  style=\"position: relative; width: 640px; height: 480px\">\n        <p id=\"3dmolwarning_16050643429269176\" style=\"background-color:#ffcccc;color:black\">You appear to be running in JupyterLab (or JavaScript failed to load for some other reason).  You need to install the 3dmol extension: <br>\n        <tt>jupyter labextension install jupyterlab_3dmol</tt></p>\n        </div>\n<script>\n\nvar loadScriptAsync = function(uri){\n  return new Promise((resolve, reject) => {\n    var tag = document.createElement('script');\n    tag.src = uri;\n    tag.async = true;\n    tag.onload = () => {\n      resolve();\n    };\n  var firstScriptTag = document.getElementsByTagName('script')[0];\n  firstScriptTag.parentNode.insertBefore(tag, firstScriptTag);\n});\n};\n\nif(typeof $3Dmolpromise === 'undefined') {\n$3Dmolpromise = null;\n  $3Dmolpromise = loadScriptAsync('https://3dmol.org/build/3Dmol.js');\n}\n\nvar viewer_16050643429269176 = null;\nvar warn = document.getElementById(\"3dmolwarning_16050643429269176\");\nif(warn) {\n    warn.parentNode.removeChild(warn);\n}\n$3Dmolpromise.then(function() {\nviewer_16050643429269176 = $3Dmol.createViewer($(\"#3dmolviewer_16050643429269176\"),{backgroundColor:\"white\"});\n\tviewer_16050643429269176.addModel(\"ATOM      1  N   MET A   1      -5.657   2.469   8.498  1.00  0.00           N  \\nATOM      2  CA  MET A   1      -6.073   1.266   9.209  1.00  0.00           C  \\nATOM      3  C   MET A   1      -5.321   0.041   8.706  1.00  0.00           C  \\nATOM      4  O   MET A   1      -5.591  -1.084   9.129  1.00  0.00           O  \\nATOM      5  CB  MET A   1      -7.580   1.061   9.064  1.00  0.00           C  \\nATOM      6  CG  MET A   1      -8.283   2.128   8.237  1.00  0.00           C  \\nATOM      7  SD  MET A   1      -7.150   3.390   7.620  1.00  0.00           S  \\nATOM      8  CE  MET A   1      -5.596   2.804   8.290  1.00  0.00           C  \\nATOM      9 1H   MET A   1      -6.166   3.256   8.847  1.00  0.00           H  \\nATOM     10 2H   MET A   1      -4.679   2.617   8.637  1.00  0.00           H  \\nATOM     11 3H   MET A   1      -5.842   2.360   7.522  1.00  0.00           H  \\nATOM     12  HA  MET A   1      -5.836   1.388  10.265  1.00  0.00           H  \\nATOM     13 1HB  MET A   1      -7.774   0.097   8.598  1.00  0.00           H  \\nATOM     14 2HB  MET A   1      -8.042   1.047  10.052  1.00  0.00           H  \\nATOM     15 1HG  MET A   1      -8.776   1.661   7.384  1.00  0.00           H  \\nATOM     16 2HG  MET A   1      -9.044   2.617   8.844  1.00  0.00           H  \\nATOM     17 1HE  MET A   1      -4.794   3.482   7.994  1.00  0.00           H  \\nATOM     18 2HE  MET A   1      -5.659   2.769   9.378  1.00  0.00           H  \\nATOM     19 3HE  MET A   1      -5.387   1.806   7.905  1.00  0.00           H  \\nATOM     20  N   LEU A   2      -4.374   0.264   7.801  1.00  0.00           N  \\nATOM     21  CA  LEU A   2      -3.592  -0.823   7.224  1.00  0.00           C  \\nATOM     22  C   LEU A   2      -2.738  -1.509   8.282  1.00  0.00           C  \\nATOM     23  O   LEU A   2      -1.977  -0.857   8.998  1.00  0.00           O  \\nATOM     24  CB  LEU A   2      -2.696  -0.293   6.099  1.00  0.00           C  \\nATOM     25  CG  LEU A   2      -2.798   1.212   5.819  1.00  0.00           C  \\nATOM     26  CD1 LEU A   2      -3.810   1.838   6.770  1.00  0.00           C  \\nATOM     27  CD2 LEU A   2      -1.427   1.853   5.981  1.00  0.00           C  \\nATOM     28  H   LEU A   2      -4.191   1.212   7.504  1.00  0.00           H  \\nATOM     29  HA  LEU A   2      -4.279  -1.559   6.808  1.00  0.00           H  \\nATOM     30 1HB  LEU A   2      -1.659  -0.513   6.347  1.00  0.00           H  \\nATOM     31 2HB  LEU A   2      -2.947  -0.818   5.178  1.00  0.00           H  \\nATOM     32  HG  LEU A   2      -3.156   1.370   4.802  1.00  0.00           H  \\nATOM     33 1HD1 LEU A   2      -3.883   2.907   6.572  1.00  0.00           H  \\nATOM     34 2HD1 LEU A   2      -4.785   1.374   6.620  1.00  0.00           H  \\nATOM     35 3HD1 LEU A   2      -3.488   1.681   7.799  1.00  0.00           H  \\nATOM     36 1HD2 LEU A   2      -1.501   2.922   5.781  1.00  0.00           H  \\nATOM     37 2HD2 LEU A   2      -1.071   1.697   6.999  1.00  0.00           H  \\nATOM     38 3HD2 LEU A   2      -0.730   1.400   5.277  1.00  0.00           H  \\nATOM     39  N   SER A   3      -2.867  -2.828   8.377  1.00  0.00           N  \\nATOM     40  CA  SER A   3      -2.052  -3.614   9.295  1.00  0.00           C  \\nATOM     41  C   SER A   3      -0.651  -3.831   8.739  1.00  0.00           C  \\nATOM     42  O   SER A   3      -0.391  -3.566   7.565  1.00  0.00           O  \\nATOM     43  CB  SER A   3      -2.712  -4.953   9.564  1.00  0.00           C  \\nATOM     44  OG  SER A   3      -3.919  -5.068   8.861  1.00  0.00           O  \\nATOM     45  H   SER A   3      -3.549  -3.298   7.798  1.00  0.00           H  \\nATOM     46  HA  SER A   3      -1.967  -3.068  10.236  1.00  0.00           H  \\nATOM     47 1HB  SER A   3      -2.038  -5.756   9.268  1.00  0.00           H  \\nATOM     48 2HB  SER A   3      -2.899  -5.057  10.631  1.00  0.00           H  \\nATOM     49  HG  SER A   3      -4.021  -4.246   8.375  1.00  0.00           H  \\nATOM     50  N   ASP A   4       0.250  -4.314   9.588  1.00  0.00           N  \\nATOM     51  CA  ASP A   4       1.619  -4.598   9.174  1.00  0.00           C  \\nATOM     52  C   ASP A   4       1.662  -5.722   8.147  1.00  0.00           C  \\nATOM     53  O   ASP A   4       2.597  -5.814   7.353  1.00  0.00           O  \\nATOM     54  CB  ASP A   4       2.478  -4.970  10.384  1.00  0.00           C  \\nATOM     55  CG  ASP A   4       1.700  -4.950  11.693  1.00  0.00           C  \\nATOM     56  OD1 ASP A   4       0.529  -4.657  11.660  1.00  0.00           O  \\nATOM     57  OD2 ASP A   4       2.284  -5.230  12.712  1.00  0.00           O  \\nATOM     58  H   ASP A   4      -0.022  -4.489  10.545  1.00  0.00           H  \\nATOM     59  HA  ASP A   4       2.034  -3.700   8.714  1.00  0.00           H  \\nATOM     60 1HB  ASP A   4       2.896  -5.967  10.241  1.00  0.00           H  \\nATOM     61 2HB  ASP A   4       3.314  -4.274  10.466  1.00  0.00           H  \\nATOM     62  N   GLU A   5       0.643  -6.575   8.168  1.00  0.00           N  \\nATOM     63  CA  GLU A   5       0.521  -7.648   7.188  1.00  0.00           C  \\nATOM     64  C   GLU A   5       0.313  -7.091   5.786  1.00  0.00           C  \\nATOM     65  O   GLU A   5       0.870  -7.602   4.814  1.00  0.00           O  \\nATOM     66  CB  GLU A   5      -0.637  -8.577   7.555  1.00  0.00           C  \\nATOM     67  CG  GLU A   5      -1.380  -8.185   8.825  1.00  0.00           C  \\nATOM     68  CD  GLU A   5      -0.820  -6.949   9.471  1.00  0.00           C  \\nATOM     69  OE1 GLU A   5       0.123  -6.403   8.951  1.00  0.00           O  \\nATOM     70  OE2 GLU A   5      -1.338  -6.548  10.488  1.00  0.00           O  \\nATOM     71  H   GLU A   5      -0.065  -6.479   8.883  1.00  0.00           H  \\nATOM     72  HA  GLU A   5       1.447  -8.225   7.190  1.00  0.00           H  \\nATOM     73 1HB  GLU A   5      -1.359  -8.600   6.739  1.00  0.00           H  \\nATOM     74 2HB  GLU A   5      -0.261  -9.592   7.688  1.00  0.00           H  \\nATOM     75 1HG  GLU A   5      -2.427  -8.012   8.582  1.00  0.00           H  \\nATOM     76 2HG  GLU A   5      -1.331  -9.012   9.532  1.00  0.00           H  \\nATOM     77  N   ASP A   6      -0.492  -6.037   5.686  1.00  0.00           N  \\nATOM     78  CA  ASP A   6      -0.755  -5.393   4.406  1.00  0.00           C  \\nATOM     79  C   ASP A   6       0.508  -4.760   3.837  1.00  0.00           C  \\nATOM     80  O   ASP A   6       0.722  -4.759   2.624  1.00  0.00           O  \\nATOM     81  CB  ASP A   6      -1.845  -4.329   4.555  1.00  0.00           C  \\nATOM     82  CG  ASP A   6      -2.369  -4.213   5.980  1.00  0.00           C  \\nATOM     83  OD1 ASP A   6      -1.900  -4.938   6.826  1.00  0.00           O  \\nATOM     84  OD2 ASP A   6      -3.233  -3.401   6.210  1.00  0.00           O  \\nATOM     85  H   ASP A   6      -0.932  -5.674   6.520  1.00  0.00           H  \\nATOM     86  HA  ASP A   6      -1.104  -6.151   3.702  1.00  0.00           H  \\nATOM     87 1HB  ASP A   6      -1.451  -3.359   4.249  1.00  0.00           H  \\nATOM     88 2HB  ASP A   6      -2.679  -4.566   3.895  1.00  0.00           H  \\nATOM     89  N   PHE A   7       1.342  -4.221   4.719  1.00  0.00           N  \\nATOM     90  CA  PHE A   7       2.601  -3.611   4.310  1.00  0.00           C  \\nATOM     91  C   PHE A   7       3.397  -4.543   3.406  1.00  0.00           C  \\nATOM     92  O   PHE A   7       3.967  -4.114   2.403  1.00  0.00           O  \\nATOM     93  CB  PHE A   7       3.440  -3.242   5.534  1.00  0.00           C  \\nATOM     94  CG  PHE A   7       2.785  -3.586   6.843  1.00  0.00           C  \\nATOM     95  CD1 PHE A   7       1.535  -4.183   6.873  1.00  0.00           C  \\nATOM     96  CD2 PHE A   7       3.420  -3.313   8.045  1.00  0.00           C  \\nATOM     97  CE1 PHE A   7       0.932  -4.500   8.076  1.00  0.00           C  \\nATOM     98  CE2 PHE A   7       2.821  -3.630   9.249  1.00  0.00           C  \\nATOM     99  CZ  PHE A   7       1.575  -4.224   9.264  1.00  0.00           C  \\nATOM    100  H   PHE A   7       1.098  -4.234   5.700  1.00  0.00           H  \\nATOM    101  HA  PHE A   7       2.379  -2.700   3.752  1.00  0.00           H  \\nATOM    102 1HB  PHE A   7       4.398  -3.757   5.488  1.00  0.00           H  \\nATOM    103 2HB  PHE A   7       3.643  -2.171   5.528  1.00  0.00           H  \\nATOM    104  HD1 PHE A   7       1.026  -4.402   5.933  1.00  0.00           H  \\nATOM    105  HD2 PHE A   7       4.404  -2.843   8.034  1.00  0.00           H  \\nATOM    106  HE1 PHE A   7      -0.052  -4.969   8.085  1.00  0.00           H  \\nATOM    107  HE2 PHE A   7       3.330  -3.410  10.187  1.00  0.00           H  \\nATOM    108  HZ  PHE A   7       1.100  -4.473  10.212  1.00  0.00           H  \\nATOM    109  N   LYS A   8       3.432  -5.821   3.766  1.00  0.00           N  \\nATOM    110  CA  LYS A   8       4.144  -6.821   2.979  1.00  0.00           C  \\nATOM    111  C   LYS A   8       3.532  -6.967   1.592  1.00  0.00           C  \\nATOM    112  O   LYS A   8       4.245  -7.154   0.605  1.00  0.00           O  \\nATOM    113  CB  LYS A   8       4.143  -8.169   3.700  1.00  0.00           C  \\nATOM    114  CG  LYS A   8       3.420  -8.168   5.039  1.00  0.00           C  \\nATOM    115  CD  LYS A   8       2.852  -6.793   5.358  1.00  0.00           C  \\nATOM    116  CE  LYS A   8       3.162  -5.794   4.253  1.00  0.00           C  \\nATOM    117  NZ  LYS A   8       3.938  -6.415   3.144  1.00  0.00           N  \\nATOM    118  H   LYS A   8       2.953  -6.108   4.608  1.00  0.00           H  \\nATOM    119  HA  LYS A   8       5.176  -6.492   2.856  1.00  0.00           H  \\nATOM    120 1HB  LYS A   8       3.670  -8.921   3.065  1.00  0.00           H  \\nATOM    121 2HB  LYS A   8       5.171  -8.489   3.875  1.00  0.00           H  \\nATOM    122 1HG  LYS A   8       2.604  -8.891   5.014  1.00  0.00           H  \\nATOM    123 2HG  LYS A   8       4.114  -8.457   5.827  1.00  0.00           H  \\nATOM    124 1HD  LYS A   8       1.771  -6.864   5.479  1.00  0.00           H  \\nATOM    125 2HD  LYS A   8       3.281  -6.430   6.293  1.00  0.00           H  \\nATOM    126 1HE  LYS A   8       2.231  -5.398   3.850  1.00  0.00           H  \\nATOM    127 2HE  LYS A   8       3.738  -4.965   4.662  1.00  0.00           H  \\nATOM    128 1HZ  LYS A   8       4.123  -5.722   2.433  1.00  0.00           H  \\nATOM    129 2HZ  LYS A   8       4.814  -6.770   3.504  1.00  0.00           H  \\nATOM    130 3HZ  LYS A   8       3.406  -7.173   2.744  1.00  0.00           H  \\nATOM    131  N   ALA A   9       2.208  -6.880   1.522  1.00  0.00           N  \\nATOM    132  CA  ALA A   9       1.501  -6.959   0.250  1.00  0.00           C  \\nATOM    133  C   ALA A   9       1.840  -5.772  -0.644  1.00  0.00           C  \\nATOM    134  O   ALA A   9       1.875  -5.895  -1.867  1.00  0.00           O  \\nATOM    135  CB  ALA A   9      -0.001  -7.034   0.482  1.00  0.00           C  \\nATOM    136  H   ALA A   9       1.677  -6.757   2.373  1.00  0.00           H  \\nATOM    137  HA  ALA A   9       1.824  -7.866  -0.262  1.00  0.00           H  \\nATOM    138 1HB  ALA A   9      -0.515  -7.092  -0.477  1.00  0.00           H  \\nATOM    139 2HB  ALA A   9      -0.235  -7.918   1.073  1.00  0.00           H  \\nATOM    140 3HB  ALA A   9      -0.330  -6.144   1.016  1.00  0.00           H  \\nATOM    141  N   PHE A  10       2.091  -4.625  -0.023  1.00  0.00           N  \\nATOM    142  CA  PHE A  10       2.454  -3.420  -0.760  1.00  0.00           C  \\nATOM    143  C   PHE A  10       3.916  -3.058  -0.536  1.00  0.00           C  \\nATOM    144  O   PHE A  10       4.402  -2.050  -1.051  1.00  0.00           O  \\nATOM    145  CB  PHE A  10       1.564  -2.248  -0.340  1.00  0.00           C  \\nATOM    146  CG  PHE A  10       0.548  -2.604   0.708  1.00  0.00           C  \\nATOM    147  CD1 PHE A  10       0.471  -3.895   1.210  1.00  0.00           C  \\nATOM    148  CD2 PHE A  10      -0.335  -1.650   1.192  1.00  0.00           C  \\nATOM    149  CE1 PHE A  10      -0.463  -4.223   2.174  1.00  0.00           C  \\nATOM    150  CE2 PHE A  10      -1.269  -1.975   2.156  1.00  0.00           C  \\nATOM    151  CZ  PHE A  10      -1.333  -3.264   2.647  1.00  0.00           C  \\nATOM    152  H   PHE A  10       2.028  -4.585   0.984  1.00  0.00           H  \\nATOM    153  HA  PHE A  10       2.306  -3.607  -1.824  1.00  0.00           H  \\nATOM    154 1HB  PHE A  10       2.184  -1.441   0.048  1.00  0.00           H  \\nATOM    155 2HB  PHE A  10       1.034  -1.863  -1.211  1.00  0.00           H  \\nATOM    156  HD1 PHE A  10       1.161  -4.653   0.837  1.00  0.00           H  \\nATOM    157  HD2 PHE A  10      -0.285  -0.632   0.803  1.00  0.00           H  \\nATOM    158  HE1 PHE A  10      -0.512  -5.241   2.560  1.00  0.00           H  \\nATOM    159  HE2 PHE A  10      -1.956  -1.216   2.528  1.00  0.00           H  \\nATOM    160  HZ  PHE A  10      -2.071  -3.522   3.405  1.00  0.00           H  \\nATOM    161  N   GLY A  11       4.615  -3.886   0.234  1.00  0.00           N  \\nATOM    162  CA  GLY A  11       6.042  -3.696   0.465  1.00  0.00           C  \\nATOM    163  C   GLY A  11       6.310  -2.403   1.225  1.00  0.00           C  \\nATOM    164  O   GLY A  11       7.181  -1.620   0.849  1.00  0.00           O  \\nATOM    165  H   GLY A  11       4.145  -4.666   0.669  1.00  0.00           H  \\nATOM    166 1HA  GLY A  11       6.435  -4.541   1.030  1.00  0.00           H  \\nATOM    167 2HA  GLY A  11       6.566  -3.676  -0.489  1.00  0.00           H  \\nATOM    168  N   MET A  12       5.554  -2.184   2.296  1.00  0.00           N  \\nATOM    169  CA  MET A  12       5.528  -0.888   2.964  1.00  0.00           C  \\nATOM    170  C   MET A  12       5.673  -1.043   4.473  1.00  0.00           C  \\nATOM    171  O   MET A  12       5.227  -2.035   5.050  1.00  0.00           O  \\nATOM    172  CB  MET A  12       4.236  -0.146   2.626  1.00  0.00           C  \\nATOM    173  CG  MET A  12       3.299  -0.906   1.697  1.00  0.00           C  \\nATOM    174  SD  MET A  12       3.950  -2.517   1.216  1.00  0.00           S  \\nATOM    175  CE  MET A  12       5.512  -2.526   2.092  1.00  0.00           C  \\nATOM    176  H   MET A  12       4.983  -2.935   2.656  1.00  0.00           H  \\nATOM    177  HA  MET A  12       6.374  -0.299   2.609  1.00  0.00           H  \\nATOM    178 1HB  MET A  12       3.692   0.073   3.544  1.00  0.00           H  \\nATOM    179 2HB  MET A  12       4.477   0.806   2.152  1.00  0.00           H  \\nATOM    180 1HG  MET A  12       2.340  -1.055   2.191  1.00  0.00           H  \\nATOM    181 2HG  MET A  12       3.128  -0.320   0.794  1.00  0.00           H  \\nATOM    182 1HE  MET A  12       6.035  -3.461   1.894  1.00  0.00           H  \\nATOM    183 2HE  MET A  12       6.124  -1.689   1.754  1.00  0.00           H  \\nATOM    184 3HE  MET A  12       5.329  -2.432   3.163  1.00  0.00           H  \\nATOM    185  N   THR A  13       6.299  -0.057   5.106  1.00  0.00           N  \\nATOM    186  CA  THR A  13       6.554  -0.108   6.540  1.00  0.00           C  \\nATOM    187  C   THR A  13       5.438   0.572   7.323  1.00  0.00           C  \\nATOM    188  O   THR A  13       4.710   1.408   6.786  1.00  0.00           O  \\nATOM    189  CB  THR A  13       7.903   0.548   6.887  1.00  0.00           C  \\nATOM    190  OG1 THR A  13       8.528   1.025   5.688  1.00  0.00           O  \\nATOM    191  CG2 THR A  13       8.823  -0.453   7.570  1.00  0.00           C  \\nATOM    192  H   THR A  13       6.606   0.748   4.580  1.00  0.00           H  \\nATOM    193  HA  THR A  13       6.591  -1.153   6.848  1.00  0.00           H  \\nATOM    194  HB  THR A  13       7.735   1.393   7.554  1.00  0.00           H  \\nATOM    195  HG1 THR A  13       7.965   0.829   4.935  1.00  0.00           H  \\nATOM    196 1HG2 THR A  13       9.771   0.028   7.808  1.00  0.00           H  \\nATOM    197 2HG2 THR A  13       8.355  -0.809   8.487  1.00  0.00           H  \\nATOM    198 3HG2 THR A  13       9.002  -1.296   6.903  1.00  0.00           H  \\nATOM    199  N   ARG A  14       5.307   0.210   8.594  1.00  0.00           N  \\nATOM    200  CA  ARG A  14       4.231   0.726   9.431  1.00  0.00           C  \\nATOM    201  C   ARG A  14       4.172   2.247   9.378  1.00  0.00           C  \\nATOM    202  O   ARG A  14       3.103   2.831   9.201  1.00  0.00           O  \\nATOM    203  CB  ARG A  14       4.415   0.279  10.874  1.00  0.00           C  \\nATOM    204  CG  ARG A  14       5.641  -0.583  11.126  1.00  0.00           C  \\nATOM    205  CD  ARG A  14       6.417  -0.810   9.881  1.00  0.00           C  \\nATOM    206  NE  ARG A  14       5.810  -0.152   8.735  1.00  0.00           N  \\nATOM    207  CZ  ARG A  14       4.680   0.579   8.783  1.00  0.00           C  \\nATOM    208  NH1 ARG A  14       4.046   0.735   9.925  1.00  0.00           N  \\nATOM    209  NH2 ARG A  14       4.207   1.138   7.683  1.00  0.00           N  \\nATOM    210  H   ARG A  14       5.971  -0.440   8.991  1.00  0.00           H  \\nATOM    211  HA  ARG A  14       3.285   0.330   9.062  1.00  0.00           H  \\nATOM    212 1HB  ARG A  14       4.487   1.153  11.519  1.00  0.00           H  \\nATOM    213 2HB  ARG A  14       3.541  -0.290  11.192  1.00  0.00           H  \\nATOM    214 1HG  ARG A  14       6.291  -0.089  11.850  1.00  0.00           H  \\nATOM    215 2HG  ARG A  14       5.331  -1.553  11.518  1.00  0.00           H  \\nATOM    216 1HD  ARG A  14       7.427  -0.417  10.005  1.00  0.00           H  \\nATOM    217 2HD  ARG A  14       6.468  -1.879   9.673  1.00  0.00           H  \\nATOM    218  HE  ARG A  14       6.269  -0.249   7.839  1.00  0.00           H  \\nATOM    219 1HH1 ARG A  14       4.408   0.307  10.766  1.00  0.00           H  \\nATOM    220 2HH1 ARG A  14       3.198   1.283   9.961  1.00  0.00           H  \\nATOM    221 1HH2 ARG A  14       4.694   1.018   6.805  1.00  0.00           H  \\nATOM    222 2HH2 ARG A  14       3.360   1.685   7.719  1.00  0.00           H  \\nATOM    223  N   SER A  15       5.328   2.885   9.532  1.00  0.00           N  \\nATOM    224  CA  SER A  15       5.407   4.340   9.529  1.00  0.00           C  \\nATOM    225  C   SER A  15       5.051   4.908   8.161  1.00  0.00           C  \\nATOM    226  O   SER A  15       4.368   5.928   8.061  1.00  0.00           O  \\nATOM    227  CB  SER A  15       6.800   4.789   9.926  1.00  0.00           C  \\nATOM    228  OG  SER A  15       7.627   3.688  10.185  1.00  0.00           O  \\nATOM    229  H   SER A  15       6.174   2.346   9.653  1.00  0.00           H  \\nATOM    230  HA  SER A  15       4.692   4.727  10.257  1.00  0.00           H  \\nATOM    231 1HB  SER A  15       7.230   5.390   9.126  1.00  0.00           H  \\nATOM    232 2HB  SER A  15       6.740   5.419  10.812  1.00  0.00           H  \\nATOM    233  HG  SER A  15       7.084   2.909  10.041  1.00  0.00           H  \\nATOM    234  N   ALA A  16       5.517   4.242   7.110  1.00  0.00           N  \\nATOM    235  CA  ALA A  16       5.204   4.649   5.745  1.00  0.00           C  \\nATOM    236  C   ALA A  16       3.723   4.468   5.442  1.00  0.00           C  \\nATOM    237  O   ALA A  16       3.081   5.354   4.877  1.00  0.00           O  \\nATOM    238  CB  ALA A  16       6.047   3.864   4.752  1.00  0.00           C  \\nATOM    239  H   ALA A  16       6.103   3.434   7.261  1.00  0.00           H  \\nATOM    240  HA  ALA A  16       5.439   5.710   5.646  1.00  0.00           H  \\nATOM    241 1HB  ALA A  16       5.803   4.180   3.738  1.00  0.00           H  \\nATOM    242 2HB  ALA A  16       7.104   4.050   4.944  1.00  0.00           H  \\nATOM    243 3HB  ALA A  16       5.841   2.800   4.861  1.00  0.00           H  \\nATOM    244  N   PHE A  17       3.183   3.315   5.821  1.00  0.00           N  \\nATOM    245  CA  PHE A  17       1.778   3.011   5.582  1.00  0.00           C  \\nATOM    246  C   PHE A  17       0.871   3.897   6.426  1.00  0.00           C  \\nATOM    247  O   PHE A  17      -0.157   4.380   5.951  1.00  0.00           O  \\nATOM    248  CB  PHE A  17       1.490   1.540   5.887  1.00  0.00           C  \\nATOM    249  CG  PHE A  17       2.693   0.770   6.352  1.00  0.00           C  \\nATOM    250  CD1 PHE A  17       3.927   1.392   6.472  1.00  0.00           C  \\nATOM    251  CD2 PHE A  17       2.594  -0.577   6.667  1.00  0.00           C  \\nATOM    252  CE1 PHE A  17       5.035   0.684   6.899  1.00  0.00           C  \\nATOM    253  CE2 PHE A  17       3.699  -1.285   7.095  1.00  0.00           C  \\nATOM    254  CZ  PHE A  17       4.922  -0.654   7.211  1.00  0.00           C  \\nATOM    255  H   PHE A  17       3.762   2.630   6.288  1.00  0.00           H  \\nATOM    256  HA  PHE A  17       1.557   3.199   4.529  1.00  0.00           H  \\nATOM    257 1HB  PHE A  17       0.724   1.472   6.659  1.00  0.00           H  \\nATOM    258 2HB  PHE A  17       1.098   1.052   4.995  1.00  0.00           H  \\nATOM    259  HD1 PHE A  17       4.016   2.449   6.227  1.00  0.00           H  \\nATOM    260  HD2 PHE A  17       1.629  -1.076   6.575  1.00  0.00           H  \\nATOM    261  HE1 PHE A  17       5.999   1.185   6.990  1.00  0.00           H  \\nATOM    262  HE2 PHE A  17       3.608  -2.343   7.342  1.00  0.00           H  \\nATOM    263  HZ  PHE A  17       5.794  -1.213   7.547  1.00  0.00           H  \\nATOM    264  N   ALA A  18       1.258   4.108   7.679  1.00  0.00           N  \\nATOM    265  CA  ALA A  18       0.440   4.868   8.616  1.00  0.00           C  \\nATOM    266  C   ALA A  18       0.410   6.346   8.248  1.00  0.00           C  \\nATOM    267  O   ALA A  18      -0.595   7.026   8.453  1.00  0.00           O  \\nATOM    268  CB  ALA A  18       0.956   4.687  10.036  1.00  0.00           C  \\nATOM    269  H   ALA A  18       2.142   3.732   7.991  1.00  0.00           H  \\nATOM    270  HA  ALA A  18      -0.580   4.489   8.560  1.00  0.00           H  \\nATOM    271 1HB  ALA A  18       0.335   5.261  10.724  1.00  0.00           H  \\nATOM    272 2HB  ALA A  18       0.915   3.632  10.307  1.00  0.00           H  \\nATOM    273 3HB  ALA A  18       1.984   5.039  10.097  1.00  0.00           H  \\nATOM    274  N   ASN A  19       1.518   6.838   7.703  1.00  0.00           N  \\nATOM    275  CA  ASN A  19       1.670   8.261   7.428  1.00  0.00           C  \\nATOM    276  C   ASN A  19       1.099   8.624   6.063  1.00  0.00           C  \\nATOM    277  O   ASN A  19       0.382   9.614   5.922  1.00  0.00           O  \\nATOM    278  CB  ASN A  19       3.128   8.670   7.523  1.00  0.00           C  \\nATOM    279  CG  ASN A  19       4.029   7.519   7.871  1.00  0.00           C  \\nATOM    280  OD1 ASN A  19       3.570   6.385   8.048  1.00  0.00           O  \\nATOM    281  ND2 ASN A  19       5.307   7.786   7.973  1.00  0.00           N  \\nATOM    282  H   ASN A  19       2.273   6.208   7.473  1.00  0.00           H  \\nATOM    283  HA  ASN A  19       1.103   8.820   8.174  1.00  0.00           H  \\nATOM    284 1HB  ASN A  19       3.450   9.094   6.572  1.00  0.00           H  \\nATOM    285 2HB  ASN A  19       3.240   9.446   8.281  1.00  0.00           H  \\nATOM    286 1HD2 ASN A  19       5.955   7.059   8.202  1.00  0.00           H  \\nATOM    287 2HD2 ASN A  19       5.635   8.718   7.821  1.00  0.00           H  \\nATOM    288  N   LEU A  20       1.423   7.815   5.060  1.00  0.00           N  \\nATOM    289  CA  LEU A  20       1.121   8.155   3.674  1.00  0.00           C  \\nATOM    290  C   LEU A  20      -0.355   7.938   3.362  1.00  0.00           C  \\nATOM    291  O   LEU A  20      -1.091   7.365   4.164  1.00  0.00           O  \\nATOM    292  CB  LEU A  20       1.981   7.314   2.722  1.00  0.00           C  \\nATOM    293  CG  LEU A  20       2.944   6.327   3.393  1.00  0.00           C  \\nATOM    294  CD1 LEU A  20       2.804   6.428   4.906  1.00  0.00           C  \\nATOM    295  CD2 LEU A  20       2.643   4.916   2.909  1.00  0.00           C  \\nATOM    296  H   LEU A  20       1.889   6.942   5.261  1.00  0.00           H  \\nATOM    297  HA  LEU A  20       1.352   9.208   3.519  1.00  0.00           H  \\nATOM    298 1HB  LEU A  20       1.321   6.743   2.071  1.00  0.00           H  \\nATOM    299 2HB  LEU A  20       2.574   7.987   2.104  1.00  0.00           H  \\nATOM    300  HG  LEU A  20       3.971   6.588   3.135  1.00  0.00           H  \\nATOM    301 1HD1 LEU A  20       3.488   5.727   5.382  1.00  0.00           H  \\nATOM    302 2HD1 LEU A  20       3.043   7.442   5.227  1.00  0.00           H  \\nATOM    303 3HD1 LEU A  20       1.780   6.188   5.193  1.00  0.00           H  \\nATOM    304 1HD2 LEU A  20       3.328   4.214   3.385  1.00  0.00           H  \\nATOM    305 2HD2 LEU A  20       1.618   4.654   3.167  1.00  0.00           H  \\nATOM    306 3HD2 LEU A  20       2.768   4.868   1.827  1.00  0.00           H  \\nATOM    307  N   PRO A  21      -0.779   8.398   2.190  1.00  0.00           N  \\nATOM    308  CA  PRO A  21      -2.170   8.260   1.773  1.00  0.00           C  \\nATOM    309  C   PRO A  21      -2.570   6.795   1.666  1.00  0.00           C  \\nATOM    310  O   PRO A  21      -1.731   5.928   1.421  1.00  0.00           O  \\nATOM    311  CB  PRO A  21      -2.190   8.951   0.406  1.00  0.00           C  \\nATOM    312  CG  PRO A  21      -0.814   8.740  -0.130  1.00  0.00           C  \\nATOM    313  CD  PRO A  21       0.071   8.774   1.086  1.00  0.00           C  \\nATOM    314  HA  PRO A  21      -2.817   8.787   2.489  1.00  0.00           H  \\nATOM    315 1HB  PRO A  21      -2.969   8.506  -0.230  1.00  0.00           H  \\nATOM    316 2HB  PRO A  21      -2.441  10.016   0.525  1.00  0.00           H  \\nATOM    317 1HG  PRO A  21      -0.759   7.782  -0.667  1.00  0.00           H  \\nATOM    318 2HG  PRO A  21      -0.565   9.527  -0.858  1.00  0.00           H  \\nATOM    319 1HD  PRO A  21       0.890   8.051   0.965  1.00  0.00           H  \\nATOM    320 2HD  PRO A  21       0.469   9.791   1.224  1.00  0.00           H  \\nATOM    321  N   LEU A  22      -3.858   6.523   1.853  1.00  0.00           N  \\nATOM    322  CA  LEU A  22      -4.364   5.156   1.830  1.00  0.00           C  \\nATOM    323  C   LEU A  22      -4.989   4.822   0.482  1.00  0.00           C  \\nATOM    324  O   LEU A  22      -4.798   3.728  -0.049  1.00  0.00           O  \\nATOM    325  CB  LEU A  22      -5.398   4.955   2.945  1.00  0.00           C  \\nATOM    326  CG  LEU A  22      -5.679   6.182   3.821  1.00  0.00           C  \\nATOM    327  CD1 LEU A  22      -4.824   7.351   3.348  1.00  0.00           C  \\nATOM    328  CD2 LEU A  22      -7.160   6.526   3.754  1.00  0.00           C  \\nATOM    329  H   LEU A  22      -4.502   7.284   2.014  1.00  0.00           H  \\nATOM    330  HA  LEU A  22      -3.529   4.476   1.999  1.00  0.00           H  \\nATOM    331 1HB  LEU A  22      -6.341   4.648   2.493  1.00  0.00           H  \\nATOM    332 2HB  LEU A  22      -5.054   4.153   3.597  1.00  0.00           H  \\nATOM    333  HG  LEU A  22      -5.404   5.963   4.853  1.00  0.00           H  \\nATOM    334 1HD1 LEU A  22      -5.023   8.223   3.971  1.00  0.00           H  \\nATOM    335 2HD1 LEU A  22      -3.770   7.084   3.425  1.00  0.00           H  \\nATOM    336 3HD1 LEU A  22      -5.066   7.582   2.312  1.00  0.00           H  \\nATOM    337 1HD2 LEU A  22      -7.359   7.397   4.377  1.00  0.00           H  \\nATOM    338 2HD2 LEU A  22      -7.436   6.746   2.723  1.00  0.00           H  \\nATOM    339 3HD2 LEU A  22      -7.746   5.680   4.114  1.00  0.00           H  \\nATOM    340  N   TRP A  23      -5.738   5.772  -0.068  1.00  0.00           N  \\nATOM    341  CA  TRP A  23      -6.395   5.580  -1.356  1.00  0.00           C  \\nATOM    342  C   TRP A  23      -5.397   5.669  -2.502  1.00  0.00           C  \\nATOM    343  O   TRP A  23      -5.553   5.007  -3.528  1.00  0.00           O  \\nATOM    344  CB  TRP A  23      -7.497   6.622  -1.552  1.00  0.00           C  \\nATOM    345  CG  TRP A  23      -7.636   7.572  -0.400  1.00  0.00           C  \\nATOM    346  CD1 TRP A  23      -6.897   7.577   0.744  1.00  0.00           C  \\nATOM    347  CD2 TRP A  23      -8.577   8.666  -0.276  1.00  0.00           C  \\nATOM    348  NE1 TRP A  23      -7.311   8.593   1.570  1.00  0.00           N  \\nATOM    349  CE2 TRP A  23      -8.337   9.270   0.961  1.00  0.00           C  \\nATOM    350  CE3 TRP A  23      -9.587   9.172  -1.104  1.00  0.00           C  \\nATOM    351  CZ2 TRP A  23      -9.073  10.360   1.399  1.00  0.00           C  \\nATOM    352  CZ3 TRP A  23     -10.323  10.266  -0.665  1.00  0.00           C  \\nATOM    353  CH2 TRP A  23     -10.072  10.845   0.554  1.00  0.00           C  \\nATOM    354  H   TRP A  23      -5.855   6.650   0.418  1.00  0.00           H  \\nATOM    355  HA  TRP A  23      -6.847   4.588  -1.369  1.00  0.00           H  \\nATOM    356 1HB  TRP A  23      -7.293   7.204  -2.452  1.00  0.00           H  \\nATOM    357 2HB  TRP A  23      -8.453   6.119  -1.698  1.00  0.00           H  \\nATOM    358  HD1 TRP A  23      -6.095   6.877   0.972  1.00  0.00           H  \\nATOM    359  HE1 TRP A  23      -6.926   8.807   2.478  1.00  0.00           H  \\nATOM    360  HE3 TRP A  23      -9.789   8.719  -2.073  1.00  0.00           H  \\nATOM    361  HZ2 TRP A  23      -8.888  10.833   2.363  1.00  0.00           H  \\nATOM    362  HZ3 TRP A  23     -11.108  10.655  -1.314  1.00  0.00           H  \\nATOM    363  HH2 TRP A  23     -10.668  11.703   0.866  1.00  0.00           H  \\nATOM    364  N   LYS A  24      -4.369   6.492  -2.323  1.00  0.00           N  \\nATOM    365  CA  LYS A  24      -3.289   6.593  -3.297  1.00  0.00           C  \\nATOM    366  C   LYS A  24      -2.637   5.238  -3.538  1.00  0.00           C  \\nATOM    367  O   LYS A  24      -2.190   4.942  -4.646  1.00  0.00           O  \\nATOM    368  CB  LYS A  24      -2.241   7.606  -2.833  1.00  0.00           C  \\nATOM    369  CG  LYS A  24      -2.552   8.263  -1.494  1.00  0.00           C  \\nATOM    370  CD  LYS A  24      -3.862   7.750  -0.917  1.00  0.00           C  \\nATOM    371  CE  LYS A  24      -4.505   6.718  -1.833  1.00  0.00           C  \\nATOM    372  NZ  LYS A  24      -3.692   6.476  -3.055  1.00  0.00           N  \\nATOM    373  H   LYS A  24      -4.336   7.063  -1.491  1.00  0.00           H  \\nATOM    374  HA  LYS A  24      -3.708   6.935  -4.245  1.00  0.00           H  \\nATOM    375 1HB  LYS A  24      -1.272   7.113  -2.746  1.00  0.00           H  \\nATOM    376 2HB  LYS A  24      -2.142   8.395  -3.578  1.00  0.00           H  \\nATOM    377 1HG  LYS A  24      -1.747   8.053  -0.790  1.00  0.00           H  \\nATOM    378 2HG  LYS A  24      -2.622   9.343  -1.627  1.00  0.00           H  \\nATOM    379 1HD  LYS A  24      -3.677   7.294   0.056  1.00  0.00           H  \\nATOM    380 2HD  LYS A  24      -4.552   8.582  -0.784  1.00  0.00           H  \\nATOM    381 1HE  LYS A  24      -4.621   5.778  -1.296  1.00  0.00           H  \\nATOM    382 2HE  LYS A  24      -5.494   7.065  -2.133  1.00  0.00           H  \\nATOM    383 1HZ  LYS A  24      -4.151   5.788  -3.635  1.00  0.00           H  \\nATOM    384 2HZ  LYS A  24      -3.594   7.339  -3.571  1.00  0.00           H  \\nATOM    385 3HZ  LYS A  24      -2.779   6.137  -2.791  1.00  0.00           H  \\nATOM    386  N   GLN A  25      -2.585   4.418  -2.494  1.00  0.00           N  \\nATOM    387  CA  GLN A  25      -1.926   3.119  -2.571  1.00  0.00           C  \\nATOM    388  C   GLN A  25      -2.757   2.126  -3.373  1.00  0.00           C  \\nATOM    389  O   GLN A  25      -2.218   1.209  -3.992  1.00  0.00           O  \\nATOM    390  CB  GLN A  25      -1.662   2.568  -1.168  1.00  0.00           C  \\nATOM    391  CG  GLN A  25      -2.135   3.474  -0.044  1.00  0.00           C  \\nATOM    392  CD  GLN A  25      -2.775   4.748  -0.559  1.00  0.00           C  \\nATOM    393  OE1 GLN A  25      -2.871   4.966  -1.770  1.00  0.00           O  \\nATOM    394  NE2 GLN A  25      -3.218   5.600   0.359  1.00  0.00           N  \\nATOM    395  H   GLN A  25      -3.013   4.700  -1.625  1.00  0.00           H  \\nATOM    396  HA  GLN A  25      -0.970   3.246  -3.081  1.00  0.00           H  \\nATOM    397 1HB  GLN A  25      -2.160   1.605  -1.056  1.00  0.00           H  \\nATOM    398 2HB  GLN A  25      -0.593   2.400  -1.038  1.00  0.00           H  \\nATOM    399 1HG  GLN A  25      -2.871   2.938   0.555  1.00  0.00           H  \\nATOM    400 2HG  GLN A  25      -1.279   3.746   0.574  1.00  0.00           H  \\nATOM    401 1HE2 GLN A  25      -3.650   6.458   0.079  1.00  0.00           H  \\nATOM    402 2HE2 GLN A  25      -3.120   5.384   1.330  1.00  0.00           H  \\nATOM    403  N   GLN A  26      -4.072   2.315  -3.357  1.00  0.00           N  \\nATOM    404  CA  GLN A  26      -4.980   1.445  -4.095  1.00  0.00           C  \\nATOM    405  C   GLN A  26      -4.732   1.536  -5.596  1.00  0.00           C  \\nATOM    406  O   GLN A  26      -4.710   0.521  -6.293  1.00  0.00           O  \\nATOM    407  CB  GLN A  26      -6.436   1.801  -3.783  1.00  0.00           C  \\nATOM    408  CG  GLN A  26      -6.599   2.950  -2.802  1.00  0.00           C  \\nATOM    409  CD  GLN A  26      -5.267   3.505  -2.335  1.00  0.00           C  \\nATOM    410  OE1 GLN A  26      -4.204   3.033  -2.744  1.00  0.00           O  \\nATOM    411  NE2 GLN A  26      -5.319   4.514  -1.474  1.00  0.00           N  \\nATOM    412  H   GLN A  26      -4.453   3.081  -2.821  1.00  0.00           H  \\nATOM    413  HA  GLN A  26      -4.799   0.415  -3.787  1.00  0.00           H  \\nATOM    414 1HB  GLN A  26      -6.950   2.071  -4.706  1.00  0.00           H  \\nATOM    415 2HB  GLN A  26      -6.943   0.930  -3.369  1.00  0.00           H  \\nATOM    416 1HG  GLN A  26      -7.154   3.752  -3.288  1.00  0.00           H  \\nATOM    417 2HG  GLN A  26      -7.147   2.593  -1.930  1.00  0.00           H  \\nATOM    418 1HE2 GLN A  26      -4.472   4.923  -1.130  1.00  0.00           H  \\nATOM    419 2HE2 GLN A  26      -6.203   4.868  -1.167  1.00  0.00           H  \\nATOM    420  N   ASN A  27      -4.546   2.756  -6.086  1.00  0.00           N  \\nATOM    421  CA  ASN A  27      -4.263   2.978  -7.499  1.00  0.00           C  \\nATOM    422  C   ASN A  27      -2.912   2.393  -7.889  1.00  0.00           C  \\nATOM    423  O   ASN A  27      -2.789   1.720  -8.913  1.00  0.00           O  \\nATOM    424  CB  ASN A  27      -4.318   4.459  -7.829  1.00  0.00           C  \\nATOM    425  CG  ASN A  27      -4.647   5.305  -6.630  1.00  0.00           C  \\nATOM    426  OD1 ASN A  27      -4.838   4.788  -5.523  1.00  0.00           O  \\nATOM    427  ND2 ASN A  27      -4.714   6.597  -6.828  1.00  0.00           N  \\nATOM    428  H   ASN A  27      -4.601   3.550  -5.465  1.00  0.00           H  \\nATOM    429  HA  ASN A  27      -5.022   2.463  -8.090  1.00  0.00           H  \\nATOM    430 1HB  ASN A  27      -3.357   4.779  -8.232  1.00  0.00           H  \\nATOM    431 2HB  ASN A  27      -5.071   4.632  -8.598  1.00  0.00           H  \\nATOM    432 1HD2 ASN A  27      -4.928   7.209  -6.066  1.00  0.00           H  \\nATOM    433 2HD2 ASN A  27      -4.552   6.972  -7.740  1.00  0.00           H  \\nATOM    434  N   LEU A  28      -1.900   2.653  -7.068  1.00  0.00           N  \\nATOM    435  CA  LEU A  28      -0.558   2.144  -7.322  1.00  0.00           C  \\nATOM    436  C   LEU A  28      -0.537   0.622  -7.325  1.00  0.00           C  \\nATOM    437  O   LEU A  28       0.155   0.003  -8.132  1.00  0.00           O  \\nATOM    438  CB  LEU A  28       0.418   2.674  -6.263  1.00  0.00           C  \\nATOM    439  CG  LEU A  28      -0.192   3.593  -5.196  1.00  0.00           C  \\nATOM    440  CD1 LEU A  28      -1.681   3.761  -5.463  1.00  0.00           C  \\nATOM    441  CD2 LEU A  28       0.054   3.002  -3.816  1.00  0.00           C  \\nATOM    442  H   LEU A  28      -2.066   3.217  -6.247  1.00  0.00           H  \\nATOM    443  HA  LEU A  28      -0.235   2.495  -8.302  1.00  0.00           H  \\nATOM    444 1HB  LEU A  28       0.868   1.826  -5.750  1.00  0.00           H  \\nATOM    445 2HB  LEU A  28       1.208   3.230  -6.766  1.00  0.00           H  \\nATOM    446  HG  LEU A  28       0.271   4.578  -5.257  1.00  0.00           H  \\nATOM    447 1HD1 LEU A  28      -2.115   4.415  -4.705  1.00  0.00           H  \\nATOM    448 2HD1 LEU A  28      -1.828   4.204  -6.448  1.00  0.00           H  \\nATOM    449 3HD1 LEU A  28      -2.170   2.788  -5.424  1.00  0.00           H  \\nATOM    450 1HD2 LEU A  28      -0.379   3.655  -3.058  1.00  0.00           H  \\nATOM    451 2HD2 LEU A  28      -0.410   2.017  -3.754  1.00  0.00           H  \\nATOM    452 3HD2 LEU A  28       1.127   2.909  -3.646  1.00  0.00           H  \\nATOM    453  N   LYS A  29      -1.299   0.023  -6.416  1.00  0.00           N  \\nATOM    454  CA  LYS A  29      -1.381  -1.430  -6.321  1.00  0.00           C  \\nATOM    455  C   LYS A  29      -1.900  -2.037  -7.619  1.00  0.00           C  \\nATOM    456  O   LYS A  29      -1.387  -3.054  -8.088  1.00  0.00           O  \\nATOM    457  CB  LYS A  29      -2.278  -1.841  -5.153  1.00  0.00           C  \\nATOM    458  CG  LYS A  29      -2.868  -0.674  -4.372  1.00  0.00           C  \\nATOM    459  CD  LYS A  29      -2.417   0.660  -4.947  1.00  0.00           C  \\nATOM    460  CE  LYS A  29      -1.501   0.466  -6.147  1.00  0.00           C  \\nATOM    461  NZ  LYS A  29      -1.280  -0.974  -6.450  1.00  0.00           N  \\nATOM    462  H   LYS A  29      -1.835   0.589  -5.773  1.00  0.00           H  \\nATOM    463  HA  LYS A  29      -0.379  -1.822  -6.147  1.00  0.00           H  \\nATOM    464 1HB  LYS A  29      -3.105  -2.446  -5.525  1.00  0.00           H  \\nATOM    465 2HB  LYS A  29      -1.709  -2.457  -4.456  1.00  0.00           H  \\nATOM    466 1HG  LYS A  29      -3.957  -0.726  -4.405  1.00  0.00           H  \\nATOM    467 2HG  LYS A  29      -2.552  -0.737  -3.331  1.00  0.00           H  \\nATOM    468 1HD  LYS A  29      -3.291   1.236  -5.257  1.00  0.00           H  \\nATOM    469 2HD  LYS A  29      -1.884   1.224  -4.183  1.00  0.00           H  \\nATOM    470 1HE  LYS A  29      -1.940   0.945  -7.020  1.00  0.00           H  \\nATOM    471 2HE  LYS A  29      -0.538   0.934  -5.947  1.00  0.00           H  \\nATOM    472 1HZ  LYS A  29      -0.669  -1.060  -7.249  1.00  0.00           H  \\nATOM    473 2HZ  LYS A  29      -0.856  -1.426  -5.652  1.00  0.00           H  \\nATOM    474 3HZ  LYS A  29      -2.164  -1.416  -6.655  1.00  0.00           H  \\nATOM    475  N   LYS A  30      -2.919  -1.409  -8.195  1.00  0.00           N  \\nATOM    476  CA  LYS A  30      -3.500  -1.879  -9.447  1.00  0.00           C  \\nATOM    477  C   LYS A  30      -2.617  -1.515 -10.634  1.00  0.00           C  \\nATOM    478  O   LYS A  30      -2.585  -2.227 -11.637  1.00  0.00           O  \\nATOM    479  CB  LYS A  30      -4.902  -1.299  -9.637  1.00  0.00           C  \\nATOM    480  CG  LYS A  30      -5.365  -0.388  -8.508  1.00  0.00           C  \\nATOM    481  CD  LYS A  30      -4.300  -0.261  -7.428  1.00  0.00           C  \\nATOM    482  CE  LYS A  30      -3.064  -1.080  -7.771  1.00  0.00           C  \\nATOM    483  NZ  LYS A  30      -3.210  -1.792  -9.068  1.00  0.00           N  \\nATOM    484  H   LYS A  30      -3.300  -0.584  -7.754  1.00  0.00           H  \\nATOM    485  HA  LYS A  30      -3.574  -2.965  -9.408  1.00  0.00           H  \\nATOM    486 1HB  LYS A  30      -4.937  -0.727 -10.565  1.00  0.00           H  \\nATOM    487 2HB  LYS A  30      -5.623  -2.113  -9.726  1.00  0.00           H  \\nATOM    488 1HG  LYS A  30      -5.585   0.604  -8.908  1.00  0.00           H  \\nATOM    489 2HG  LYS A  30      -6.274  -0.791  -8.064  1.00  0.00           H  \\nATOM    490 1HD  LYS A  30      -4.014   0.786  -7.320  1.00  0.00           H  \\nATOM    491 2HD  LYS A  30      -4.703  -0.609  -6.477  1.00  0.00           H  \\nATOM    492 1HE  LYS A  30      -2.197  -0.422  -7.826  1.00  0.00           H  \\nATOM    493 2HE  LYS A  30      -2.886  -1.814  -6.985  1.00  0.00           H  \\nATOM    494 1HZ  LYS A  30      -2.371  -2.323  -9.257  1.00  0.00           H  \\nATOM    495 2HZ  LYS A  30      -4.001  -2.420  -9.022  1.00  0.00           H  \\nATOM    496 3HZ  LYS A  30      -3.357  -1.120  -9.807  1.00  0.00           H  \\nATOM    497  N   GLU A  31      -1.902  -0.401 -10.514  1.00  0.00           N  \\nATOM    498  CA  GLU A  31      -1.072   0.096 -11.604  1.00  0.00           C  \\nATOM    499  C   GLU A  31       0.349  -0.447 -11.507  1.00  0.00           C  \\nATOM    500  O   GLU A  31       1.045  -0.576 -12.514  1.00  0.00           O  \\nATOM    501  CB  GLU A  31      -1.044   1.627 -11.598  1.00  0.00           C  \\nATOM    502  CG  GLU A  31      -1.866   2.265 -10.488  1.00  0.00           C  \\nATOM    503  CD  GLU A  31      -2.548   1.255  -9.610  1.00  0.00           C  \\nATOM    504  OE1 GLU A  31      -2.391   0.083  -9.852  1.00  0.00           O  \\nATOM    505  OE2 GLU A  31      -3.230   1.655  -8.694  1.00  0.00           O  \\nATOM    506  H   GLU A  31      -1.935   0.113  -9.646  1.00  0.00           H  \\nATOM    507  HA  GLU A  31      -1.500  -0.241 -12.549  1.00  0.00           H  \\nATOM    508 1HB  GLU A  31      -0.015   1.972 -11.493  1.00  0.00           H  \\nATOM    509 2HB  GLU A  31      -1.419   2.001 -12.550  1.00  0.00           H  \\nATOM    510 1HG  GLU A  31      -1.212   2.881  -9.873  1.00  0.00           H  \\nATOM    511 2HG  GLU A  31      -2.617   2.918 -10.935  1.00  0.00           H  \\nATOM    512  N   LYS A  32       0.773  -0.763 -10.288  1.00  0.00           N  \\nATOM    513  CA  LYS A  32       2.128  -1.249 -10.051  1.00  0.00           C  \\nATOM    514  C   LYS A  32       2.113  -2.663  -9.485  1.00  0.00           C  \\nATOM    515  O   LYS A  32       1.285  -2.995  -8.637  1.00  0.00           O  \\nATOM    516  CB  LYS A  32       2.875  -0.310  -9.102  1.00  0.00           C  \\nATOM    517  CG  LYS A  32       2.061   0.887  -8.631  1.00  0.00           C  \\nATOM    518  CD  LYS A  32       0.661   0.873  -9.226  1.00  0.00           C  \\nATOM    519  CE  LYS A  32       0.456  -0.334 -10.130  1.00  0.00           C  \\nATOM    520  NZ  LYS A  32       1.671  -1.189 -10.201  1.00  0.00           N  \\nATOM    521  H   LYS A  32       0.141  -0.664  -9.506  1.00  0.00           H  \\nATOM    522  HA  LYS A  32       2.657  -1.276 -11.003  1.00  0.00           H  \\nATOM    523 1HB  LYS A  32       3.195  -0.865  -8.219  1.00  0.00           H  \\nATOM    524 2HB  LYS A  32       3.770   0.067  -9.595  1.00  0.00           H  \\nATOM    525 1HG  LYS A  32       1.983   0.870  -7.543  1.00  0.00           H  \\nATOM    526 2HG  LYS A  32       2.562   1.808  -8.927  1.00  0.00           H  \\nATOM    527 1HD  LYS A  32      -0.077   0.844  -8.423  1.00  0.00           H  \\nATOM    528 2HD  LYS A  32       0.503   1.781  -9.808  1.00  0.00           H  \\nATOM    529 1HE  LYS A  32      -0.374  -0.932  -9.755  1.00  0.00           H  \\nATOM    530 2HE  LYS A  32       0.206   0.003 -11.137  1.00  0.00           H  \\nATOM    531 1HZ  LYS A  32       1.495  -1.976 -10.809  1.00  0.00           H  \\nATOM    532 2HZ  LYS A  32       2.443  -0.649 -10.566  1.00  0.00           H  \\nATOM    533 3HZ  LYS A  32       1.902  -1.524  -9.277  1.00  0.00           H  \\nATOM    534  N   LEU A  33       3.036  -3.493  -9.961  1.00  0.00           N  \\nATOM    535  CA  LEU A  33       3.108  -4.885  -9.531  1.00  0.00           C  \\nATOM    536  C   LEU A  33       3.962  -5.031  -8.277  1.00  0.00           C  \\nATOM    537  O   LEU A  33       5.188  -5.115  -8.357  1.00  0.00           O  \\nATOM    538  CB  LEU A  33       3.683  -5.757 -10.653  1.00  0.00           C  \\nATOM    539  CG  LEU A  33       4.051  -5.019 -11.947  1.00  0.00           C  \\nATOM    540  CD1 LEU A  33       3.740  -3.537 -11.792  1.00  0.00           C  \\nATOM    541  CD2 LEU A  33       5.524  -5.240 -12.257  1.00  0.00           C  \\nATOM    542  H   LEU A  33       3.704  -3.152 -10.637  1.00  0.00           H  \\nATOM    543  HA  LEU A  33       2.100  -5.229  -9.301  1.00  0.00           H  \\nATOM    544 1HB  LEU A  33       4.583  -6.248 -10.286  1.00  0.00           H  \\nATOM    545 2HB  LEU A  33       2.953  -6.525 -10.906  1.00  0.00           H  \\nATOM    546  HG  LEU A  33       3.446  -5.402 -12.769  1.00  0.00           H  \\nATOM    547 1HD1 LEU A  33       4.002  -3.012 -12.711  1.00  0.00           H  \\nATOM    548 2HD1 LEU A  33       2.677  -3.406 -11.590  1.00  0.00           H  \\nATOM    549 3HD1 LEU A  33       4.320  -3.128 -10.965  1.00  0.00           H  \\nATOM    550 1HD2 LEU A  33       5.785  -4.717 -13.177  1.00  0.00           H  \\nATOM    551 2HD2 LEU A  33       6.130  -4.856 -11.436  1.00  0.00           H  \\nATOM    552 3HD2 LEU A  33       5.714  -6.306 -12.380  1.00  0.00           H  \\nATOM    553  N   LEU A  34       3.307  -5.061  -7.122  1.00  0.00           N  \\nATOM    554  CA  LEU A  34       4.002  -5.247  -5.853  1.00  0.00           C  \\nATOM    555  C   LEU A  34       4.030  -6.716  -5.452  1.00  0.00           C  \\nATOM    556  O   LEU A  34       3.092  -7.464  -5.730  1.00  0.00           O  \\nATOM    557  CB  LEU A  34       3.323  -4.423  -4.752  1.00  0.00           C  \\nATOM    558  CG  LEU A  34       2.102  -3.603  -5.190  1.00  0.00           C  \\nATOM    559  CD1 LEU A  34       1.854  -3.819  -6.677  1.00  0.00           C  \\nATOM    560  CD2 LEU A  34       0.892  -4.016  -4.367  1.00  0.00           C  \\nATOM    561  H   LEU A  34       2.303  -4.951  -7.122  1.00  0.00           H  \\nATOM    562  HA  LEU A  34       5.029  -4.902  -5.967  1.00  0.00           H  \\nATOM    563 1HB  LEU A  34       3.001  -5.099  -3.960  1.00  0.00           H  \\nATOM    564 2HB  LEU A  34       4.055  -3.731  -4.335  1.00  0.00           H  \\nATOM    565  HG  LEU A  34       2.302  -2.543  -5.036  1.00  0.00           H  \\nATOM    566 1HD1 LEU A  34       0.987  -3.236  -6.989  1.00  0.00           H  \\nATOM    567 2HD1 LEU A  34       2.728  -3.497  -7.242  1.00  0.00           H  \\nATOM    568 3HD1 LEU A  34       1.667  -4.875  -6.865  1.00  0.00           H  \\nATOM    569 1HD2 LEU A  34       0.024  -3.432  -4.679  1.00  0.00           H  \\nATOM    570 2HD2 LEU A  34       0.690  -5.076  -4.522  1.00  0.00           H  \\nATOM    571 3HD2 LEU A  34       1.090  -3.834  -3.311  1.00  0.00           H  \\nATOM    572  N   PHE A  35       5.110  -7.125  -4.797  1.00  0.00           N  \\nATOM    573  CA  PHE A  35       5.283  -8.516  -4.394  1.00  0.00           C  \\nATOM    574  C   PHE A  35       4.371  -8.869  -3.226  1.00  0.00           C  \\nATOM    575  O   PHE A  35       3.214  -9.120  -3.424  1.00  0.00           O  \\nATOM    576  OXT PHE A  35       4.810  -8.896  -2.110  1.00  0.00           O  \\nATOM    577  CB  PHE A  35       6.739  -8.784  -4.010  1.00  0.00           C  \\nATOM    578  CG  PHE A  35       7.631  -7.581  -4.133  1.00  0.00           C  \\nATOM    579  CD1 PHE A  35       7.122  -6.364  -4.562  1.00  0.00           C  \\nATOM    580  CD2 PHE A  35       8.979  -7.664  -3.822  1.00  0.00           C  \\nATOM    581  CE1 PHE A  35       7.940  -5.257  -4.676  1.00  0.00           C  \\nATOM    582  CE2 PHE A  35       9.800  -6.558  -3.934  1.00  0.00           C  \\nATOM    583  CZ  PHE A  35       9.279  -5.353  -4.362  1.00  0.00           C  \\nATOM    584  H   PHE A  35       5.832  -6.455  -4.570  1.00  0.00           H  \\nATOM    585  HA  PHE A  35       5.022  -9.155  -5.239  1.00  0.00           H  \\nATOM    586 1HB  PHE A  35       6.785  -9.137  -2.981  1.00  0.00           H  \\nATOM    587 2HB  PHE A  35       7.143  -9.573  -4.644  1.00  0.00           H  \\nATOM    588  HD1 PHE A  35       6.062  -6.287  -4.810  1.00  0.00           H  \\nATOM    589  HD2 PHE A  35       9.390  -8.615  -3.484  1.00  0.00           H  \\nATOM    590  HE1 PHE A  35       7.527  -4.307  -5.014  1.00  0.00           H  \\nATOM    591  HE2 PHE A  35      10.858  -6.636  -3.685  1.00  0.00           H  \\nATOM    592  HZ  PHE A  35       9.925  -4.481  -4.452  1.00  0.00           H  \\nTER     593      PHE A  35                                                       \\nEND   \\n\",\"pdb\");\n\tviewer_16050643429269176.addModel(\"HELIX    1   1 ASP B    4  PHE B   11  1                                   8\\nHELIX    2   2 ARG B   15  PHE B   18  1                                   4\\nHELIX    3   3 LEU B   23  GLU B   32  1                                  10\\nCRYST1    1.000    1.000    1.000  90.00  90.00  90.00 P 1           1\\nATOM      1  N   MET B   1      -8.009 -10.438   5.112  1.00  0.00           N\\nATOM      2  CA  MET B   1      -7.245 -10.440   3.870  1.00 52.33           C\\nATOM      3  C   MET B   1      -5.765 -10.188   4.141  1.00 42.50           C\\nATOM      4  O   MET B   1      -4.896 -10.793   3.511  1.00 31.23           O\\nATOM      5  CB  MET B   1      -7.787  -9.379   2.911  1.00 74.12           C\\nATOM      6  CG  MET B   1      -8.504  -9.960   1.703  1.00 52.20           C\\nATOM      7  SD  MET B   1     -10.214  -9.403   1.575  1.00 40.21           S\\nATOM      8  CE  MET B   1     -10.795 -10.404   0.209  1.00 62.43           C\\nATOM      9  H1  MET B   1      -8.987 -10.611   4.908  1.00  0.00           H\\nATOM     10  H2  MET B   1      -7.660 -11.165   5.728  1.00  0.00           H\\nATOM     11  H3  MET B   1      -7.912  -9.537   5.567  1.00  0.00           H\\nATOM     12  HA  MET B   1      -7.355 -11.413   3.415  1.00 42.21           H\\nATOM     13  HB2 MET B   1      -8.488  -8.748   3.458  1.00  0.00           H\\nATOM     14  HB3 MET B   1      -6.965  -8.775   2.557  1.00 23.15           H\\nATOM     15  HG2 MET B   1      -7.970  -9.668   0.799  1.00  0.00           H\\nATOM     16  HG3 MET B   1      -8.495 -11.037   1.781  1.00 10.23           H\\nATOM     17  HE1 MET B   1     -11.560  -9.867  -0.332  1.00 50.14           H\\nATOM     18  HE2 MET B   1      -9.971 -10.622  -0.454  1.00 21.12           H\\nATOM     19  HE3 MET B   1     -11.206 -11.329   0.590  1.00 51.05           H\\nATOM     20  N   LEU B   2      -5.485  -9.292   5.081  1.00 62.13           N\\nATOM     21  CA  LEU B   2      -4.109  -8.960   5.435  1.00  3.12           C\\nATOM     22  C   LEU B   2      -4.052  -8.230   6.773  1.00 14.14           C\\nATOM     23  O   LEU B   2      -4.654  -7.168   6.939  1.00 63.24           O\\nATOM     24  CB  LEU B   2      -3.474  -8.097   4.343  1.00 15.34           C\\nATOM     25  CG  LEU B   2      -2.000  -8.371   4.043  1.00 72.15           C\\nATOM     26  CD1 LEU B   2      -1.865  -9.444   2.973  1.00  0.23           C\\nATOM     27  CD2 LEU B   2      -1.298  -7.093   3.610  1.00  1.41           C\\nATOM     28  H   LEU B   2      -6.219  -8.843   5.548  1.00 41.10           H\\nATOM     29  HA  LEU B   2      -3.557  -9.884   5.519  1.00  4.11           H\\nATOM     30  HB2 LEU B   2      -4.037  -8.256   3.423  1.00  0.00           H\\nATOM     31  HB3 LEU B   2      -3.565  -7.063   4.646  1.00 31.21           H\\nATOM     32  HG  LEU B   2      -1.518  -8.733   4.940  1.00  2.41           H\\nATOM     33 HD11 LEU B   2      -2.836  -9.661   2.555  1.00  0.42           H\\nATOM     34 HD12 LEU B   2      -1.454 -10.341   3.413  1.00 11.14           H\\nATOM     35 HD13 LEU B   2      -1.207  -9.092   2.193  1.00 62.45           H\\nATOM     36 HD21 LEU B   2      -0.305  -7.330   3.257  1.00  2.33           H\\nATOM     37 HD22 LEU B   2      -1.229  -6.418   4.451  1.00  0.41           H\\nATOM     38 HD23 LEU B   2      -1.860  -6.623   2.816  1.00 24.43           H\\nATOM     39  N   SER B   3      -3.325  -8.805   7.725  1.00 30.43           N\\nATOM     40  CA  SER B   3      -3.191  -8.210   9.050  1.00 61.31           C\\nATOM     41  C   SER B   3      -2.619  -6.799   8.956  1.00 34.13           C\\nATOM     42  O   SER B   3      -1.963  -6.447   7.976  1.00 21.33           O\\nATOM     43  CB  SER B   3      -2.294  -9.079   9.934  1.00 72.42           C\\nATOM     44  OG  SER B   3      -3.031  -9.659  10.995  1.00 10.24           O\\nATOM     45  H   SER B   3      -2.869  -9.652   7.533  1.00 74.14           H\\nATOM     46  HA  SER B   3      -4.175  -8.159   9.491  1.00 32.43           H\\nATOM     47  HB2 SER B   3      -1.857  -9.872   9.328  1.00  0.00           H\\nATOM     48  HB3 SER B   3      -1.505  -8.469  10.350  1.00 33.42           H\\nATOM     49  HG  SER B   3      -3.757 -10.175  10.637  1.00 62.13           H\\nATOM     50  N   ASP B   4      -2.875  -5.996   9.983  1.00 43.54           N\\nATOM     51  CA  ASP B   4      -2.385  -4.621  10.018  1.00 35.51           C\\nATOM     52  C   ASP B   4      -0.863  -4.586   9.938  1.00 44.33           C\\nATOM     53  O   ASP B   4      -0.288  -3.719   9.279  1.00 62.20           O\\nATOM     54  CB  ASP B   4      -2.858  -3.923  11.294  1.00 51.35           C\\nATOM     55  CG  ASP B   4      -2.235  -2.551  11.467  1.00 73.55           C\\nATOM     56  OD1 ASP B   4      -1.290  -2.426  12.273  1.00  1.10           O\\nATOM     57  OD2 ASP B   4      -2.693  -1.603  10.795  1.00 71.21           O\\nATOM     58  H   ASP B   4      -3.405  -6.334  10.735  1.00 41.12           H\\nATOM     59  HA  ASP B   4      -2.791  -4.103   9.163  1.00 62.32           H\\nATOM     60  HB2 ASP B   4      -3.942  -3.814  11.254  1.00  0.00           H\\nATOM     61  HB3 ASP B   4      -2.594  -4.528  12.148  1.00 74.44           H\\nATOM     62  HD2 ASP B   4      -2.252  -0.765  10.954  1.00  0.00           H\\nATOM     63  N   GLU B   5      -0.216  -5.531  10.613  1.00 10.13           N\\nATOM     64  CA  GLU B   5       1.240  -5.604  10.619  1.00 24.41           C\\nATOM     65  C   GLU B   5       1.767  -6.059   9.261  1.00  2.52           C\\nATOM     66  O   GLU B   5       2.820  -5.607   8.809  1.00 72.41           O\\nATOM     67  CB  GLU B   5       1.720  -6.561  11.712  1.00 72.43           C\\nATOM     68  CG  GLU B   5       1.774  -5.931  13.093  1.00 45.30           C\\nATOM     69  CD  GLU B   5       3.113  -5.280  13.385  1.00 54.34           C\\nATOM     70  OE1 GLU B   5       4.132  -6.002  13.402  1.00 33.22           O\\nATOM     71  OE2 GLU B   5       3.141  -4.049  13.595  1.00 24.32           O\\nATOM     72  H   GLU B   5      -0.731  -6.193  11.120  1.00 65.10           H\\nATOM     73  HA  GLU B   5       1.621  -4.616  10.827  1.00 42.40           H\\nATOM     74  HB2 GLU B   5       1.038  -7.411  11.748  1.00  0.00           H\\nATOM     75  HB3 GLU B   5       2.711  -6.909  11.458  1.00 21.55           H\\nATOM     76  HG2 GLU B   5       0.993  -5.174  13.164  1.00  0.00           H\\nATOM     77  HG3 GLU B   5       1.595  -6.698  13.832  1.00  1.32           H\\nATOM     78  HE2 GLU B   5       4.019  -3.705  13.773  1.00  0.00           H\\nATOM     79  N   ASP B   6       1.029  -6.955   8.617  1.00 61.41           N\\nATOM     80  CA  ASP B   6       1.420  -7.472   7.311  1.00 65.34           C\\nATOM     81  C   ASP B   6       1.391  -6.368   6.259  1.00 54.04           C\\nATOM     82  O   ASP B   6       2.069  -6.453   5.235  1.00 63.32           O\\nATOM     83  CB  ASP B   6       0.495  -8.617   6.893  1.00 42.24           C\\nATOM     84  CG  ASP B   6       1.019  -9.373   5.688  1.00 55.34           C\\nATOM     85  OD1 ASP B   6       1.583 -10.471   5.875  1.00 31.04           O\\nATOM     86  OD2 ASP B   6       0.863  -8.867   4.557  1.00 72.44           O\\nATOM     87  H   ASP B   6       0.200  -7.277   9.029  1.00 34.45           H\\nATOM     88  HA  ASP B   6       2.429  -7.848   7.391  1.00 14.24           H\\nATOM     89  HB2 ASP B   6       0.396  -9.310   7.728  1.00  0.00           H\\nATOM     90  HB3 ASP B   6      -0.476  -8.214   6.649  1.00 54.23           H\\nATOM     91  HD2 ASP B   6       1.217  -9.399   3.841  1.00  0.00           H\\nATOM     92  N   PHE B   7       0.600  -5.332   6.517  1.00 31.23           N\\nATOM     93  CA  PHE B   7       0.481  -4.212   5.592  1.00 53.21           C\\nATOM     94  C   PHE B   7       1.849  -3.614   5.282  1.00  0.32           C\\nATOM     95  O   PHE B   7       2.177  -3.347   4.125  1.00 32.24           O\\nATOM     96  CB  PHE B   7      -0.438  -3.136   6.176  1.00 54.22           C\\nATOM     97  CG  PHE B   7      -0.727  -2.012   5.222  1.00 23.14           C\\nATOM     98  CD1 PHE B   7       0.200  -1.002   5.021  1.00 54.35           C\\nATOM     99  CD2 PHE B   7      -1.925  -1.965   4.528  1.00 11.15           C\\nATOM    100  CE1 PHE B   7      -0.062   0.034   4.144  1.00 71.44           C\\nATOM    101  CE2 PHE B   7      -2.193  -0.932   3.650  1.00 32.40           C\\nATOM    102  CZ  PHE B   7      -1.261   0.069   3.458  1.00  3.22           C\\nATOM    103  H   PHE B   7       0.083  -5.321   7.351  1.00 65.43           H\\nATOM    104  HA  PHE B   7       0.048  -4.584   4.676  1.00 12.31           H\\nATOM    105  HB2 PHE B   7      -1.380  -3.602   6.464  1.00  0.00           H\\nATOM    106  HB3 PHE B   7       0.026  -2.716   7.056  1.00 74.14           H\\nATOM    107  HD1 PHE B   7       1.138  -1.029   5.557  1.00 70.02           H\\nATOM    108  HD2 PHE B   7      -2.655  -2.746   4.678  1.00 33.51           H\\nATOM    109  HE1 PHE B   7       0.669   0.815   3.996  1.00 32.22           H\\nATOM    110  HE2 PHE B   7      -3.131  -0.906   3.116  1.00 72.24           H\\nATOM    111  HZ  PHE B   7      -1.467   0.877   2.772  1.00 35.32           H\\nATOM    112  N   LYS B   8       2.646  -3.404   6.325  1.00 45.24           N\\nATOM    113  CA  LYS B   8       3.981  -2.838   6.167  1.00 41.04           C\\nATOM    114  C   LYS B   8       4.918  -3.835   5.494  1.00 44.00           C\\nATOM    115  O   LYS B   8       5.927  -3.452   4.901  1.00 15.41           O\\nATOM    116  CB  LYS B   8       4.547  -2.427   7.528  1.00 70.25           C\\nATOM    117  CG  LYS B   8       5.934  -1.812   7.449  1.00 72.43           C\\nATOM    118  CD  LYS B   8       6.434  -1.386   8.819  1.00 42.01           C\\nATOM    119  CE  LYS B   8       7.292  -2.467   9.459  1.00  1.23           C\\nATOM    120  NZ  LYS B   8       6.560  -3.192  10.534  1.00 50.31           N\\nATOM    121  H   LYS B   8       2.329  -3.636   7.223  1.00 55.21           H\\nATOM    122  HA  LYS B   8       3.898  -1.962   5.541  1.00 31.13           H\\nATOM    123  HB2 LYS B   8       3.872  -1.697   7.975  1.00  0.00           H\\nATOM    124  HB3 LYS B   8       4.599  -3.301   8.161  1.00 44.00           H\\nATOM    125  HG2 LYS B   8       6.624  -2.546   7.033  1.00  0.00           H\\nATOM    126  HG3 LYS B   8       5.897  -0.946   6.804  1.00 70.04           H\\nATOM    127  HD2 LYS B   8       7.028  -0.478   8.714  1.00  0.00           H\\nATOM    128  HD3 LYS B   8       5.584  -1.188   9.457  1.00 22.20           H\\nATOM    129  HE2 LYS B   8       7.594  -3.180   8.693  1.00  0.00           H\\nATOM    130  HE3 LYS B   8       8.172  -2.005   9.883  1.00 11.42           H\\nATOM    131  HZ1 LYS B   8       5.740  -2.633  10.847  1.00 25.43           H\\nATOM    132  HZ2 LYS B   8       7.187  -3.352  11.348  1.00 62.32           H\\nATOM    133  HZ3 LYS B   8       6.226  -4.111  10.181  1.00 73.22           H\\nATOM    134  N   ALA B   9       4.579  -5.117   5.589  1.00 12.11           N\\nATOM    135  CA  ALA B   9       5.389  -6.168   4.987  1.00 63.22           C\\nATOM    136  C   ALA B   9       5.254  -6.163   3.468  1.00 65.12           C\\nATOM    137  O   ALA B   9       6.240  -6.317   2.746  1.00 23.15           O\\nATOM    138  CB  ALA B   9       4.994  -7.525   5.549  1.00 64.52           C\\nATOM    139  H   ALA B   9       3.764  -5.360   6.075  1.00 51.32           H\\nATOM    140  HA  ALA B   9       6.422  -5.984   5.247  1.00 34.22           H\\nATOM    141  HB1 ALA B   9       5.091  -7.510   6.625  1.00 71.32           H\\nATOM    142  HB2 ALA B   9       3.970  -7.742   5.282  1.00 61.03           H\\nATOM    143  HB3 ALA B   9       5.642  -8.286   5.140  1.00 62.33           H\\nATOM    144  N   VAL B  10       4.028  -5.985   2.988  1.00 55.12           N\\nATOM    145  CA  VAL B  10       3.764  -5.959   1.554  1.00 11.50           C\\nATOM    146  C   VAL B  10       4.128  -4.606   0.953  1.00 73.25           C\\nATOM    147  O   VAL B  10       4.645  -4.529  -0.162  1.00 22.41           O\\nATOM    148  CB  VAL B  10       2.285  -6.262   1.250  1.00 63.43           C\\nATOM    149  CG1 VAL B  10       1.940  -5.865  -0.177  1.00 43.43           C\\nATOM    150  CG2 VAL B  10       1.983  -7.735   1.489  1.00 42.44           C\\nATOM    151  H   VAL B  10       3.282  -5.867   3.613  1.00 71.31           H\\nATOM    152  HA  VAL B  10       4.370  -6.723   1.089  1.00 33.13           H\\nATOM    153  HB  VAL B  10       1.672  -5.678   1.921  1.00 44.33           H\\nATOM    154 HG11 VAL B  10       2.034  -4.794  -0.284  1.00 52.41           H\\nATOM    155 HG12 VAL B  10       2.616  -6.356  -0.862  1.00 32.13           H\\nATOM    156 HG13 VAL B  10       0.926  -6.160  -0.398  1.00 53.03           H\\nATOM    157 HG21 VAL B  10       2.480  -8.061   2.390  1.00 20.43           H\\nATOM    158 HG22 VAL B  10       0.917  -7.871   1.595  1.00 31.23           H\\nATOM    159 HG23 VAL B  10       2.339  -8.315   0.651  1.00 60.42           H\\nATOM    160  N   PHE B  11       3.855  -3.541   1.698  1.00 74.00           N\\nATOM    161  CA  PHE B  11       4.153  -2.189   1.238  1.00 33.14           C\\nATOM    162  C   PHE B  11       5.643  -2.028   0.953  1.00 12.21           C\\nATOM    163  O   PHE B  11       6.034  -1.403  -0.032  1.00 34.40           O\\nATOM    164  CB  PHE B  11       3.707  -1.162   2.282  1.00 24.54           C\\nATOM    165  CG  PHE B  11       2.550  -0.316   1.836  1.00 71.45           C\\nATOM    166  CD1 PHE B  11       1.484  -0.881   1.154  1.00 54.40           C\\nATOM    167  CD2 PHE B  11       2.528   1.044   2.097  1.00 31.14           C\\nATOM    168  CE1 PHE B  11       0.419  -0.104   0.741  1.00 51.00           C\\nATOM    169  CE2 PHE B  11       1.464   1.827   1.687  1.00 25.43           C\\nATOM    170  CZ  PHE B  11       0.409   1.252   1.009  1.00 34.00           C\\nATOM    171  H   PHE B  11       3.441  -3.666   2.578  1.00 32.32           H\\nATOM    172  HA  PHE B  11       3.603  -2.022   0.325  1.00 42.32           H\\nATOM    173  HB2 PHE B  11       3.422  -1.692   3.191  1.00  0.00           H\\nATOM    174  HB3 PHE B  11       4.534  -0.506   2.506  1.00 64.33           H\\nATOM    175  HD1 PHE B  11       1.490  -1.940   0.945  1.00 61.25           H\\nATOM    176  HD2 PHE B  11       3.355   1.495   2.629  1.00 52.14           H\\nATOM    177  HE1 PHE B  11      -0.407  -0.555   0.211  1.00 24.21           H\\nATOM    178  HE2 PHE B  11       1.460   2.886   1.899  1.00 64.44           H\\nATOM    179  HZ  PHE B  11      -0.424   1.861   0.687  1.00  5.01           H\\nATOM    180  N   GLY B  12       6.471  -2.596   1.824  1.00 31.23           N\\nATOM    181  CA  GLY B  12       7.908  -2.504   1.650  1.00 65.03           C\\nATOM    182  C   GLY B  12       8.504  -1.309   2.367  1.00 44.01           C\\nATOM    183  O   GLY B  12       9.666  -1.336   2.772  1.00 62.00           O\\nATOM    184  H   GLY B  12       6.102  -3.083   2.592  1.00 42.43           H\\nATOM    185  HA2 GLY B  12       8.365  -3.405   2.032  1.00  3.02           H\\nATOM    186  HA3 GLY B  12       8.127  -2.422   0.595  1.00 32.31           H\\nATOM    187  N   MET B  13       7.707  -0.257   2.523  1.00 41.02           N\\nATOM    188  CA  MET B  13       8.164   0.953   3.196  1.00 54.33           C\\nATOM    189  C   MET B  13       7.307   1.249   4.423  1.00 65.23           C\\nATOM    190  O   MET B  13       6.214   0.703   4.576  1.00 23.14           O\\nATOM    191  CB  MET B  13       8.126   2.142   2.234  1.00 55.32           C\\nATOM    192  CG  MET B  13       8.906   3.349   2.728  1.00  4.52           C\\nATOM    193  SD  MET B  13       9.758   4.218   1.398  1.00 44.23           S\\nATOM    194  CE  MET B  13      11.004   3.012   0.950  1.00 64.02           C\\nATOM    195  H   MET B  13       6.790  -0.296   2.178  1.00  4.52           H\\nATOM    196  HA  MET B  13       9.183   0.792   3.513  1.00 31.02           H\\nATOM    197  HB2 MET B  13       8.548   1.826   1.280  1.00  0.00           H\\nATOM    198  HB3 MET B  13       7.097   2.441   2.089  1.00  4.10           H\\nATOM    199  HG2 MET B  13       8.218   4.040   3.216  1.00  0.00           H\\nATOM    200  HG3 MET B  13       9.638   3.016   3.449  1.00 15.44           H\\nATOM    201  HE1 MET B  13      11.277   2.436   1.821  1.00  3.03           H\\nATOM    202  HE2 MET B  13      10.610   2.353   0.191  1.00 62.11           H\\nATOM    203  HE3 MET B  13      11.877   3.522   0.567  1.00 21.22           H\\nATOM    204  N   THR B  14       7.810   2.118   5.295  1.00 22.40           N\\nATOM    205  CA  THR B  14       7.091   2.485   6.509  1.00 63.52           C\\nATOM    206  C   THR B  14       5.656   2.889   6.197  1.00 54.33           C\\nATOM    207  O   THR B  14       5.403   3.993   5.715  1.00 43.31           O\\nATOM    208  CB  THR B  14       7.790   3.642   7.247  1.00 24.10           C\\nATOM    209  OG1 THR B  14       9.205   3.573   7.038  1.00 44.44           O\\nATOM    210  CG2 THR B  14       7.490   3.592   8.738  1.00 44.35           C\\nATOM    211  H   THR B  14       8.685   2.519   5.117  1.00 64.21           H\\nATOM    212  HA  THR B  14       7.079   1.624   7.162  1.00  1.10           H\\nATOM    213  HB  THR B  14       7.420   4.576   6.851  1.00 40.31           H\\nATOM    214  HG1 THR B  14       9.621   4.361   7.396  1.00 55.21           H\\nATOM    215 HG21 THR B  14       6.526   3.133   8.896  1.00 53.03           H\\nATOM    216 HG22 THR B  14       7.480   4.596   9.136  1.00 22.20           H\\nATOM    217 HG23 THR B  14       8.251   3.013   9.238  1.00  1.25           H\\nATOM    218  N   ARG B  15       4.719   1.989   6.475  1.00 74.21           N\\nATOM    219  CA  ARG B  15       3.307   2.253   6.223  1.00 73.21           C\\nATOM    220  C   ARG B  15       2.869   3.554   6.891  1.00 64.43           C\\nATOM    221  O   ARG B  15       1.934   4.212   6.436  1.00  2.12           O\\nATOM    222  CB  ARG B  15       2.450   1.093   6.732  1.00 13.02           C\\nATOM    223  CG  ARG B  15       2.198   1.133   8.231  1.00 63.13           C\\nATOM    224  CD  ARG B  15       0.872   1.802   8.555  1.00 11.13           C\\nATOM    225  NE  ARG B  15      -0.251   1.137   7.900  1.00 53.14           N\\nATOM    226  CZ  ARG B  15      -0.836   0.043   8.374  1.00 13.52           C\\nATOM    227  NH1 ARG B  15      -0.408  -0.505   9.502  1.00  1.04           N\\nATOM    228  NH2 ARG B  15      -1.854  -0.502   7.720  1.00 24.43           N\\nATOM    229  H   ARG B  15       4.982   1.126   6.858  1.00 54.51           H\\nATOM    230  HA  ARG B  15       3.172   2.347   5.156  1.00 72.31           H\\nATOM    231  HB2 ARG B  15       1.489   1.126   6.221  1.00  0.00           H\\nATOM    232  HB3 ARG B  15       2.948   0.164   6.497  1.00 33.05           H\\nATOM    233  HG2 ARG B  15       2.184   0.113   8.616  1.00  0.00           H\\nATOM    234  HG3 ARG B  15       2.996   1.685   8.705  1.00 22.02           H\\nATOM    235  HD2 ARG B  15       0.717   1.776   9.634  1.00  0.00           H\\nATOM    236  HD3 ARG B  15       0.913   2.830   8.226  1.00 21.32           H\\nATOM    237  HE  ARG B  15      -0.584   1.527   7.064  1.00 24.45           H\\nATOM    238 HH11 ARG B  15       0.358  -0.095   9.998  1.00 51.32           H\\nATOM    239 HH12 ARG B  15      -0.851  -1.329   9.858  1.00 13.53           H\\nATOM    240 HH21 ARG B  15      -2.179  -0.092   6.870  1.00 52.44           H\\nATOM    241 HH22 ARG B  15      -2.293  -1.326   8.078  1.00 33.11           H\\nATOM    242  N   SER B  16       3.551   3.916   7.972  1.00 45.40           N\\nATOM    243  CA  SER B  16       3.231   5.135   8.705  1.00 21.01           C\\nATOM    244  C   SER B  16       3.559   6.372   7.873  1.00 33.31           C\\nATOM    245  O   SER B  16       2.765   7.309   7.795  1.00 32.15           O\\nATOM    246  CB  SER B  16       4.000   5.178  10.027  1.00 70.30           C\\nATOM    247  OG  SER B  16       3.180   4.769  11.108  1.00 61.33           O\\nATOM    248  H   SER B  16       4.288   3.349   8.285  1.00 34.04           H\\nATOM    249  HA  SER B  16       2.172   5.127   8.915  1.00 52.33           H\\nATOM    250  HB2 SER B  16       4.860   4.511   9.961  1.00  0.00           H\\nATOM    251  HB3 SER B  16       4.341   6.187  10.210  1.00 15.30           H\\nATOM    252  HG  SER B  16       2.568   4.093  10.807  1.00 15.52           H\\nATOM    253  N   ALA B  17       4.734   6.365   7.253  1.00 50.03           N\\nATOM    254  CA  ALA B  17       5.167   7.484   6.425  1.00 42.52           C\\nATOM    255  C   ALA B  17       4.381   7.538   5.119  1.00 35.05           C\\nATOM    256  O   ALA B  17       4.098   8.616   4.597  1.00 42.04           O\\nATOM    257  CB  ALA B  17       6.659   7.384   6.141  1.00 52.12           C\\nATOM    258  H   ALA B  17       5.323   5.589   7.353  1.00 23.41           H\\nATOM    259  HA  ALA B  17       4.991   8.396   6.977  1.00 13.12           H\\nATOM    260  HB1 ALA B  17       6.851   6.510   5.536  1.00 12.10           H\\nATOM    261  HB2 ALA B  17       6.984   8.268   5.612  1.00 73.34           H\\nATOM    262  HB3 ALA B  17       7.197   7.304   7.073  1.00 52.12           H\\nATOM    263  N   PHE B  18       4.029   6.367   4.597  1.00 11.03           N\\nATOM    264  CA  PHE B  18       3.276   6.281   3.351  1.00 21.24           C\\nATOM    265  C   PHE B  18       1.810   6.643   3.575  1.00  4.42           C\\nATOM    266  O   PHE B  18       1.177   7.265   2.723  1.00 11.41           O\\nATOM    267  CB  PHE B  18       3.380   4.872   2.764  1.00 25.11           C\\nATOM    268  CG  PHE B  18       4.318   4.778   1.594  1.00 11.32           C\\nATOM    269  CD1 PHE B  18       5.525   5.458   1.601  1.00 63.44           C\\nATOM    270  CD2 PHE B  18       3.991   4.010   0.488  1.00 44.32           C\\nATOM    271  CE1 PHE B  18       6.391   5.373   0.526  1.00 55.32           C\\nATOM    272  CE2 PHE B  18       4.852   3.922  -0.590  1.00 34.25           C\\nATOM    273  CZ  PHE B  18       6.052   4.605  -0.571  1.00 60.41           C\\nATOM    274  H   PHE B  18       4.283   5.542   5.061  1.00 61.42           H\\nATOM    275  HA  PHE B  18       3.707   6.985   2.656  1.00 75.13           H\\nATOM    276  HB2 PHE B  18       3.725   4.195   3.545  1.00  0.00           H\\nATOM    277  HB3 PHE B  18       2.402   4.555   2.434  1.00 24.33           H\\nATOM    278  HD1 PHE B  18       5.790   6.060   2.459  1.00 65.23           H\\nATOM    279  HD2 PHE B  18       3.052   3.477   0.471  1.00  3.13           H\\nATOM    280  HE1 PHE B  18       7.327   5.908   0.544  1.00 44.12           H\\nATOM    281  HE2 PHE B  18       4.586   3.320  -1.446  1.00 41.41           H\\nATOM    282  HZ  PHE B  18       6.727   4.537  -1.411  1.00 73.54           H\\nATOM    283  N   ALA B  19       1.279   6.249   4.728  1.00 45.43           N\\nATOM    284  CA  ALA B  19      -0.110   6.534   5.065  1.00 32.40           C\\nATOM    285  C   ALA B  19      -0.377   8.035   5.069  1.00 53.40           C\\nATOM    286  O   ALA B  19      -1.524   8.470   4.970  1.00 52.22           O\\nATOM    287  CB  ALA B  19      -0.459   5.930   6.417  1.00 12.13           C\\nATOM    288  H   ALA B  19       1.835   5.757   5.367  1.00 61.23           H\\nATOM    289  HA  ALA B  19      -0.736   6.068   4.318  1.00 54.21           H\\nATOM    290  HB1 ALA B  19      -0.298   4.862   6.386  1.00 42.52           H\\nATOM    291  HB2 ALA B  19       0.169   6.367   7.179  1.00 22.12           H\\nATOM    292  HB3 ALA B  19      -1.495   6.131   6.645  1.00 44.34           H\\nATOM    293  N   ASN B  20       0.688   8.821   5.185  1.00 52.21           N\\nATOM    294  CA  ASN B  20       0.567  10.274   5.203  1.00 13.32           C\\nATOM    295  C   ASN B  20      -0.038  10.786   3.900  1.00 52.25           C\\nATOM    296  O   ASN B  20      -0.534  11.912   3.832  1.00 13.20           O\\nATOM    297  CB  ASN B  20       1.936  10.918   5.430  1.00  0.12           C\\nATOM    298  CG  ASN B  20       2.430  10.740   6.853  1.00 74.33           C\\nATOM    299  OD1 ASN B  20       3.547  10.274   7.079  1.00  4.25           O\\nATOM    300  ND2 ASN B  20       1.598  11.109   7.819  1.00 34.21           N\\nATOM    301  H   ASN B  20       1.576   8.415   5.260  1.00 10.14           H\\nATOM    302  HA  ASN B  20      -0.087  10.542   6.020  1.00 53.14           H\\nATOM    303  HB2 ASN B  20       2.654  10.464   4.748  1.00  0.00           H\\nATOM    304  HB3 ASN B  20       1.869  11.975   5.222  1.00 41.13           H\\nATOM    305 HD21 ASN B  20       0.724  11.471   7.564  1.00 33.21           H\\nATOM    306 HD22 ASN B  20       1.892  11.004   8.748  1.00 61.11           H\\nATOM    307  N   LEU B  21       0.004   9.952   2.866  1.00  1.43           N\\nATOM    308  CA  LEU B  21      -0.540  10.320   1.564  1.00 71.33           C\\nATOM    309  C   LEU B  21      -1.942   9.747   1.379  1.00 41.23           C\\nATOM    310  O   LEU B  21      -2.348   8.804   2.057  1.00  0.12           O\\nATOM    311  CB  LEU B  21       0.378   9.822   0.446  1.00 31.13           C\\nATOM    312  CG  LEU B  21       1.263  10.878  -0.217  1.00 35.11           C\\nATOM    313  CD1 LEU B  21       1.878  11.792   0.830  1.00 11.45           C\\nATOM    314  CD2 LEU B  21       2.347  10.217  -1.054  1.00 65.11           C\\nATOM    315  H   LEU B  21       0.412   9.070   2.981  1.00 33.40           H\\nATOM    316  HA  LEU B  21      -0.596  11.397   1.520  1.00 52.14           H\\nATOM    317  HB2 LEU B  21       1.031   9.057   0.868  1.00  0.00           H\\nATOM    318  HB3 LEU B  21      -0.244   9.380  -0.320  1.00 14.12           H\\nATOM    319  HG  LEU B  21       0.656  11.485  -0.874  1.00 55.32           H\\nATOM    320 HD11 LEU B  21       2.515  12.517   0.346  1.00 74.10           H\\nATOM    321 HD12 LEU B  21       2.463  11.206   1.522  1.00 34.55           H\\nATOM    322 HD13 LEU B  21       1.093  12.305   1.368  1.00 50.04           H\\nATOM    323 HD21 LEU B  21       2.206   9.146  -1.044  1.00 60.01           H\\nATOM    324 HD22 LEU B  21       3.316  10.455  -0.641  1.00  5.41           H\\nATOM    325 HD23 LEU B  21       2.289  10.579  -2.070  1.00 34.52           H\\nATOM    326  N   PRO B  22      -2.699  10.329   0.437  1.00 71.44           N\\nATOM    327  CA  PRO B  22      -4.066   9.891   0.138  1.00 33.22           C\\nATOM    328  C   PRO B  22      -4.103   8.524  -0.537  1.00 41.11           C\\nATOM    329  O   PRO B  22      -3.103   8.070  -1.097  1.00 14.22           O\\nATOM    330  CB  PRO B  22      -4.585  10.972  -0.814  1.00 25.23           C\\nATOM    331  CG  PRO B  22      -3.361  11.534  -1.452  1.00 21.54           C\\nATOM    332  CD  PRO B  22      -2.279  11.457  -0.410  1.00 42.41           C\\nATOM    333  HA  PRO B  22      -4.679   9.868   1.028  1.00 43.23           H\\nATOM    334  HB2 PRO B  22      -5.258  10.550  -1.561  1.00  0.00           H\\nATOM    335  HB3 PRO B  22      -5.118  11.725  -0.253  1.00 74.41           H\\nATOM    336  HG2 PRO B  22      -3.084  10.909  -2.300  1.00  0.00           H\\nATOM    337  HG3 PRO B  22      -3.535  12.560  -1.737  1.00 13.33           H\\nATOM    338  HD2 PRO B  22      -1.308  11.274  -0.868  1.00  0.00           H\\nATOM    339  HD3 PRO B  22      -2.241  12.373   0.161  1.00  4.32           H\\nATOM    340  N   LEU B  23      -5.259   7.873  -0.482  1.00 14.24           N\\nATOM    341  CA  LEU B  23      -5.426   6.557  -1.089  1.00 14.01           C\\nATOM    342  C   LEU B  23      -5.264   6.632  -2.604  1.00 15.13           C\\nATOM    343  O   LEU B  23      -5.021   5.620  -3.262  1.00 41.23           O\\nATOM    344  CB  LEU B  23      -6.801   5.983  -0.739  1.00 64.12           C\\nATOM    345  CG  LEU B  23      -6.817   4.881   0.320  1.00 31.45           C\\nATOM    346  CD1 LEU B  23      -7.987   5.074   1.273  1.00 51.21           C\\nATOM    347  CD2 LEU B  23      -6.883   3.510  -0.337  1.00 21.31           C\\nATOM    348  H   LEU B  23      -6.019   8.286  -0.022  1.00 31.21           H\\nATOM    349  HA  LEU B  23      -4.662   5.908  -0.689  1.00  3.33           H\\nATOM    350  HB2 LEU B  23      -7.422   6.802  -0.377  1.00  0.00           H\\nATOM    351  HB3 LEU B  23      -7.229   5.579  -1.645  1.00 50.33           H\\nATOM    352  HG  LEU B  23      -5.905   4.932   0.899  1.00 43.13           H\\nATOM    353 HD11 LEU B  23      -7.821   5.955   1.874  1.00 45.42           H\\nATOM    354 HD12 LEU B  23      -8.074   4.211   1.916  1.00 62.31           H\\nATOM    355 HD13 LEU B  23      -8.898   5.192   0.705  1.00 53.05           H\\nATOM    356 HD21 LEU B  23      -6.794   3.620  -1.408  1.00 33.04           H\\nATOM    357 HD22 LEU B  23      -7.828   3.043  -0.100  1.00 73.14           H\\nATOM    358 HD23 LEU B  23      -6.075   2.895   0.030  1.00  2.45           H\\nATOM    359  N   TRP B  24      -5.398   7.835  -3.149  1.00 14.42           N\\nATOM    360  CA  TRP B  24      -5.264   8.042  -4.586  1.00 41.54           C\\nATOM    361  C   TRP B  24      -3.929   7.507  -5.091  1.00 61.15           C\\nATOM    362  O   TRP B  24      -3.860   6.878  -6.148  1.00 12.13           O\\nATOM    363  CB  TRP B  24      -5.391   9.529  -4.922  1.00 54.05           C\\nATOM    364  CG  TRP B  24      -6.812  10.003  -4.990  1.00 13.33           C\\nATOM    365  CD1 TRP B  24      -7.552  10.522  -3.966  1.00 33.31           C\\nATOM    366  CD2 TRP B  24      -7.663  10.000  -6.141  1.00 50.33           C\\nATOM    367  NE1 TRP B  24      -8.812  10.842  -4.412  1.00 24.44           N\\nATOM    368  CE2 TRP B  24      -8.905  10.532  -5.743  1.00  1.22           C\\nATOM    369  CE3 TRP B  24      -7.495   9.603  -7.470  1.00 74.24           C\\nATOM    370  CZ2 TRP B  24      -9.972  10.674  -6.626  1.00 42.24           C\\nATOM    371  CZ3 TRP B  24      -8.555   9.744  -8.346  1.00 53.10           C\\nATOM    372  CH2 TRP B  24      -9.780  10.276  -7.922  1.00 22.23           C\\nATOM    373  H   TRP B  24      -5.592   8.603  -2.571  1.00 53.22           H\\nATOM    374  HA  TRP B  24      -6.063   7.503  -5.074  1.00 22.32           H\\nATOM    375  HB2 TRP B  24      -4.863  10.106  -4.163  1.00  0.00           H\\nATOM    376  HB3 TRP B  24      -4.932   9.714  -5.883  1.00 22.44           H\\nATOM    377  HD1 TRP B  24      -7.188  10.654  -2.958  1.00 75.24           H\\nATOM    378  HE1 TRP B  24      -9.527  11.230  -3.865  1.00 33.22           H\\nATOM    379  HE3 TRP B  24      -6.560   9.191  -7.816  1.00 65.45           H\\nATOM    380  HZ2 TRP B  24     -10.921  11.083  -6.315  1.00 13.12           H\\nATOM    381  HZ3 TRP B  24      -8.445   9.441  -9.377  1.00 65.21           H\\nATOM    382  HH2 TRP B  24     -10.580  10.368  -8.640  1.00 10.22           H\\nATOM    383  N   LYS B  25      -2.870   7.759  -4.331  1.00  4.11           N\\nATOM    384  CA  LYS B  25      -1.536   7.301  -4.700  1.00 42.12           C\\nATOM    385  C   LYS B  25      -1.393   5.800  -4.471  1.00 41.02           C\\nATOM    386  O   LYS B  25      -0.559   5.145  -5.095  1.00 41.25           O\\nATOM    387  CB  LYS B  25      -0.474   8.054  -3.894  1.00 44.45           C\\nATOM    388  CG  LYS B  25       0.892   8.075  -4.558  1.00  5.10           C\\nATOM    389  CD  LYS B  25       1.893   7.220  -3.799  1.00  3.41           C\\nATOM    390  CE  LYS B  25       3.324   7.649  -4.088  1.00  0.40           C\\nATOM    391  NZ  LYS B  25       4.305   6.593  -3.718  1.00 21.21           N\\nATOM    392  H   LYS B  25      -2.988   8.266  -3.500  1.00 24.54           H\\nATOM    393  HA  LYS B  25      -1.392   7.508  -5.750  1.00  0.41           H\\nATOM    394  HB2 LYS B  25      -0.809   9.083  -3.762  1.00  0.00           H\\nATOM    395  HB3 LYS B  25      -0.374   7.585  -2.927  1.00 23.44           H\\nATOM    396  HG2 LYS B  25       0.797   7.692  -5.574  1.00  0.00           H\\nATOM    397  HG3 LYS B  25       1.252   9.093  -4.589  1.00 14.42           H\\nATOM    398  HD2 LYS B  25       1.704   7.317  -2.730  1.00  0.00           H\\nATOM    399  HD3 LYS B  25       1.770   6.189  -4.094  1.00 70.20           H\\nATOM    400  HE2 LYS B  25       3.421   7.866  -5.151  1.00  0.00           H\\nATOM    401  HE3 LYS B  25       3.539   8.543  -3.521  1.00 40.51           H\\nATOM    402  HZ1 LYS B  25       4.052   6.175  -2.800  1.00 14.14           H\\nATOM    403  HZ2 LYS B  25       5.260   6.999  -3.648  1.00 52.33           H\\nATOM    404  HZ3 LYS B  25       4.311   5.843  -4.438  1.00 23.41           H\\nATOM    405  N   GLN B  26      -2.213   5.262  -3.574  1.00  1.22           N\\nATOM    406  CA  GLN B  26      -2.177   3.838  -3.264  1.00 72.21           C\\nATOM    407  C   GLN B  26      -2.705   3.013  -4.433  1.00 50.43           C\\nATOM    408  O   GLN B  26      -2.371   1.838  -4.576  1.00 11.11           O\\nATOM    409  CB  GLN B  26      -2.999   3.547  -2.007  1.00 63.22           C\\nATOM    410  CG  GLN B  26      -2.232   2.778  -0.943  1.00 42.22           C\\nATOM    411  CD  GLN B  26      -2.395   3.377   0.440  1.00 22.02           C\\nATOM    412  OE1 GLN B  26      -1.629   4.251   0.845  1.00 11.03           O\\nATOM    413  NE2 GLN B  26      -3.397   2.907   1.174  1.00 31.31           N\\nATOM    414  H   GLN B  26      -2.856   5.837  -3.109  1.00 63.51           H\\nATOM    415  HA  GLN B  26      -1.149   3.564  -3.082  1.00 43.40           H\\nATOM    416  HB2 GLN B  26      -3.322   4.497  -1.580  1.00  0.00           H\\nATOM    417  HB3 GLN B  26      -3.866   2.967  -2.285  1.00 61.40           H\\nATOM    418  HG2 GLN B  26      -2.593   1.750  -0.924  1.00  0.00           H\\nATOM    419  HG3 GLN B  26      -1.183   2.783  -1.200  1.00 42.33           H\\nATOM    420 HE21 GLN B  26      -3.966   2.209   0.787  1.00 73.34           H\\nATOM    421 HE22 GLN B  26      -3.525   3.275   2.072  1.00 22.53           H\\nATOM    422  N   GLN B  27      -3.531   3.638  -5.266  1.00 60.13           N\\nATOM    423  CA  GLN B  27      -4.106   2.961  -6.423  1.00 23.45           C\\nATOM    424  C   GLN B  27      -3.012   2.465  -7.362  1.00 40.54           C\\nATOM    425  O   GLN B  27      -3.172   1.448  -8.035  1.00 23.43           O\\nATOM    426  CB  GLN B  27      -5.052   3.900  -7.172  1.00 72.44           C\\nATOM    427  CG  GLN B  27      -6.516   3.508  -7.058  1.00  2.02           C\\nATOM    428  CD  GLN B  27      -7.454   4.639  -7.429  1.00  4.23           C\\nATOM    429  OE1 GLN B  27      -7.016   5.723  -7.815  1.00 61.32           O\\nATOM    430  NE2 GLN B  27      -8.754   4.393  -7.313  1.00 70.11           N\\nATOM    431  H   GLN B  27      -3.760   4.576  -5.099  1.00 42.13           H\\nATOM    432  HA  GLN B  27      -4.666   2.111  -6.064  1.00 14.23           H\\nATOM    433  HB2 GLN B  27      -4.931   4.905  -6.765  1.00  0.00           H\\nATOM    434  HB3 GLN B  27      -4.784   3.902  -8.219  1.00  4.25           H\\nATOM    435  HG2 GLN B  27      -6.706   2.664  -7.721  1.00  0.00           H\\nATOM    436  HG3 GLN B  27      -6.717   3.212  -6.039  1.00 34.22           H\\nATOM    437 HE21 GLN B  27      -9.030   3.506  -6.998  1.00 11.13           H\\nATOM    438 HE22 GLN B  27      -9.383   5.107  -7.545  1.00 62.33           H\\nATOM    439  N   ASN B  28      -1.900   3.192  -7.404  1.00 12.21           N\\nATOM    440  CA  ASN B  28      -0.779   2.826  -8.263  1.00  0.24           C\\nATOM    441  C   ASN B  28       0.079   1.748  -7.607  1.00 53.55           C\\nATOM    442  O   ASN B  28       0.489   0.785  -8.257  1.00 40.22           O\\nATOM    443  CB  ASN B  28       0.076   4.057  -8.572  1.00 24.11           C\\nATOM    444  CG  ASN B  28       1.327   3.709  -9.356  1.00 12.35           C\\nATOM    445  OD1 ASN B  28       1.398   2.664 -10.002  1.00 20.01           O\\nATOM    446  ND2 ASN B  28       2.322   4.587  -9.301  1.00 15.50           N\\nATOM    447  H   ASN B  28      -1.831   3.994  -6.844  1.00 62.13           H\\nATOM    448  HA  ASN B  28      -1.182   2.438  -9.186  1.00 13.03           H\\nATOM    449  HB2 ASN B  28      -0.520   4.760  -9.153  1.00  0.00           H\\nATOM    450  HB3 ASN B  28       0.372   4.525  -7.645  1.00 55.41           H\\nATOM    451 HD21 ASN B  28       2.196   5.399  -8.766  1.00 34.42           H\\nATOM    452 HD22 ASN B  28       3.142   4.388  -9.799  1.00  0.42           H\\nATOM    453  N   LEU B  29       0.347   1.917  -6.317  1.00 62.22           N\\nATOM    454  CA  LEU B  29       1.156   0.957  -5.573  1.00 14.34           C\\nATOM    455  C   LEU B  29       0.589  -0.452  -5.705  1.00 71.42           C\\nATOM    456  O   LEU B  29       1.329  -1.413  -5.918  1.00 21.45           O\\nATOM    457  CB  LEU B  29       1.224   1.355  -4.097  1.00 44.11           C\\nATOM    458  CG  LEU B  29       2.621   1.389  -3.475  1.00 53.10           C\\nATOM    459  CD1 LEU B  29       2.545   1.815  -2.017  1.00 52.52           C\\nATOM    460  CD2 LEU B  29       3.294   0.030  -3.601  1.00 51.21           C\\nATOM    461  H   LEU B  29      -0.007   2.703  -5.853  1.00 51.14           H\\nATOM    462  HA  LEU B  29       2.152   0.973  -5.988  1.00 24.54           H\\nATOM    463  HB2 LEU B  29       0.791   2.351  -4.000  1.00  0.00           H\\nATOM    464  HB3 LEU B  29       0.629   0.648  -3.537  1.00 54.50           H\\nATOM    465  HG  LEU B  29       3.226   2.113  -4.003  1.00 53.22           H\\nATOM    466 HD11 LEU B  29       3.450   1.519  -1.508  1.00 75.41           H\\nATOM    467 HD12 LEU B  29       1.696   1.343  -1.547  1.00 52.54           H\\nATOM    468 HD13 LEU B  29       2.436   2.890  -1.961  1.00 71.44           H\\nATOM    469 HD21 LEU B  29       2.883  -0.644  -2.864  1.00  5.42           H\\nATOM    470 HD22 LEU B  29       4.356   0.139  -3.438  1.00 23.04           H\\nATOM    471 HD23 LEU B  29       3.119  -0.367  -4.590  1.00  3.33           H\\nATOM    472  N   LYS B  30      -0.729  -0.569  -5.581  1.00  4.22           N\\nATOM    473  CA  LYS B  30      -1.397  -1.860  -5.690  1.00 60.10           C\\nATOM    474  C   LYS B  30      -1.156  -2.483  -7.061  1.00 54.55           C\\nATOM    475  O   LYS B  30      -1.041  -3.701  -7.190  1.00 23.43           O\\nATOM    476  CB  LYS B  30      -2.900  -1.702  -5.446  1.00 63.44           C\\nATOM    477  CG  LYS B  30      -3.663  -3.015  -5.483  1.00 31.22           C\\nATOM    478  CD  LYS B  30      -5.025  -2.886  -4.822  1.00 62.44           C\\nATOM    479  CE  LYS B  30      -5.078  -3.636  -3.501  1.00 25.24           C\\nATOM    480  NZ  LYS B  30      -4.495  -2.838  -2.386  1.00 54.01           N\\nATOM    481  H   LYS B  30      -1.266   0.235  -5.412  1.00 64.40           H\\nATOM    482  HA  LYS B  30      -0.985  -2.511  -4.935  1.00 21.33           H\\nATOM    483  HB2 LYS B  30      -3.042  -1.248  -4.465  1.00  0.00           H\\nATOM    484  HB3 LYS B  30      -3.309  -1.051  -6.205  1.00 42.25           H\\nATOM    485  HG2 LYS B  30      -3.800  -3.316  -6.521  1.00  0.00           H\\nATOM    486  HG3 LYS B  30      -3.090  -3.768  -4.961  1.00 50.03           H\\nATOM    487  HD2 LYS B  30      -5.232  -1.831  -4.638  1.00  0.00           H\\nATOM    488  HD3 LYS B  30      -5.777  -3.290  -5.486  1.00  3.31           H\\nATOM    489  HE2 LYS B  30      -6.116  -3.869  -3.265  1.00  0.00           H\\nATOM    490  HE3 LYS B  30      -4.520  -4.556  -3.602  1.00 72.11           H\\nATOM    491  HZ1 LYS B  30      -4.552  -1.823  -2.607  1.00 32.11           H\\nATOM    492  HZ2 LYS B  30      -3.499  -3.096  -2.245  1.00  5.14           H\\nATOM    493  HZ3 LYS B  30      -5.018  -3.021  -1.506  1.00 14.35           H\\nATOM    494  N   LYS B  31      -1.081  -1.638  -8.085  1.00 31.14           N\\nATOM    495  CA  LYS B  31      -0.851  -2.105  -9.447  1.00 24.22           C\\nATOM    496  C   LYS B  31       0.623  -2.427  -9.670  1.00 40.33           C\\nATOM    497  O   LYS B  31       0.966  -3.245 -10.523  1.00  3.33           O\\nATOM    498  CB  LYS B  31      -1.312  -1.049 -10.454  1.00 50.20           C\\nATOM    499  CG  LYS B  31      -1.330  -1.544 -11.890  1.00 24.33           C\\nATOM    500  CD  LYS B  31      -1.420  -0.392 -12.876  1.00 63.21           C\\nATOM    501  CE  LYS B  31      -0.075  -0.110 -13.529  1.00 24.40           C\\nATOM    502  NZ  LYS B  31      -0.201   0.835 -14.673  1.00 21.33           N\\nATOM    503  H   LYS B  31      -1.181  -0.677  -7.919  1.00 41.11           H\\nATOM    504  HA  LYS B  31      -1.430  -3.005  -9.591  1.00 43.24           H\\nATOM    505  HB2 LYS B  31      -2.321  -0.736 -10.185  1.00  0.00           H\\nATOM    506  HB3 LYS B  31      -0.647  -0.199 -10.396  1.00 61.45           H\\nATOM    507  HG2 LYS B  31      -0.414  -2.104 -12.082  1.00  0.00           H\\nATOM    508  HG3 LYS B  31      -2.183  -2.192 -12.027  1.00 61.21           H\\nATOM    509  HD2 LYS B  31      -2.144  -0.645 -13.650  1.00  0.00           H\\nATOM    510  HD3 LYS B  31      -1.749   0.495 -12.352  1.00 22.41           H\\nATOM    511  HE2 LYS B  31       0.596   0.321 -12.786  1.00  0.00           H\\nATOM    512  HE3 LYS B  31       0.339  -1.041 -13.886  1.00 74.25           H\\nATOM    513  HZ1 LYS B  31      -1.185   1.161 -14.759  1.00 53.45           H\\nATOM    514  HZ2 LYS B  31       0.075   0.364 -15.558  1.00  0.14           H\\nATOM    515  HZ3 LYS B  31       0.415   1.660 -14.524  1.00 54.34           H\\nATOM    516  N   GLU B  32       1.489  -1.778  -8.898  1.00 65.12           N\\nATOM    517  CA  GLU B  32       2.927  -1.997  -9.013  1.00 11.21           C\\nATOM    518  C   GLU B  32       3.294  -3.424  -8.614  1.00 14.23           C\\nATOM    519  O   GLU B  32       4.193  -4.031  -9.194  1.00 62.31           O\\nATOM    520  CB  GLU B  32       3.688  -0.999  -8.138  1.00 41.10           C\\nATOM    521  CG  GLU B  32       5.198  -1.088  -8.286  1.00 12.01           C\\nATOM    522  CD  GLU B  32       5.832   0.249  -8.615  1.00  0.51           C\\nATOM    523  OE1 GLU B  32       5.284   0.968  -9.476  1.00 41.42           O\\nATOM    524  OE2 GLU B  32       6.876   0.576  -8.012  1.00 31.10           O\\nATOM    525  H   GLU B  32       1.155  -1.138  -8.237  1.00 15.13           H\\nATOM    526  HA  GLU B  32       3.204  -1.843 -10.044  1.00 44.44           H\\nATOM    527  HB2 GLU B  32       3.374   0.008  -8.413  1.00  0.00           H\\nATOM    528  HB3 GLU B  32       3.438  -1.182  -7.103  1.00 71.15           H\\nATOM    529  HG2 GLU B  32       5.621  -1.456  -7.351  1.00  0.00           H\\nATOM    530  HG3 GLU B  32       5.429  -1.785  -9.079  1.00 55.30           H\\nATOM    531  HE2 GLU B  32       7.222   1.434  -8.269  1.00  0.00           H\\nATOM    532  N   LYS B  33       2.590  -3.952  -7.618  1.00 23.42           N\\nATOM    533  CA  LYS B  33       2.839  -5.307  -7.140  1.00  3.35           C\\nATOM    534  C   LYS B  33       1.562  -6.140  -7.176  1.00  4.21           C\\nATOM    535  O   LYS B  33       1.441  -7.075  -7.969  1.00 33.15           O\\nATOM    536  CB  LYS B  33       3.398  -5.272  -5.715  1.00 71.32           C\\nATOM    537  CG  LYS B  33       4.909  -5.132  -5.658  1.00 10.42           C\\nATOM    538  CD  LYS B  33       5.339  -4.165  -4.567  1.00 54.45           C\\nATOM    539  CE  LYS B  33       6.763  -3.678  -4.783  1.00 54.44           C\\nATOM    540  NZ  LYS B  33       7.042  -2.425  -4.027  1.00 32.33           N\\nATOM    541  H   LYS B  33       1.886  -3.418  -7.194  1.00 74.14           H\\nATOM    542  HA  LYS B  33       3.569  -5.760  -7.793  1.00 21.14           H\\nATOM    543  HB2 LYS B  33       2.954  -4.425  -5.192  1.00  0.00           H\\nATOM    544  HB3 LYS B  33       3.124  -6.187  -5.211  1.00 75.44           H\\nATOM    545  HG2 LYS B  33       5.348  -6.109  -5.457  1.00  0.00           H\\nATOM    546  HG3 LYS B  33       5.264  -4.766  -6.611  1.00 62.40           H\\nATOM    547  HD2 LYS B  33       4.667  -3.306  -4.570  1.00  0.00           H\\nATOM    548  HD3 LYS B  33       5.279  -4.665  -3.611  1.00  0.30           H\\nATOM    549  HE2 LYS B  33       7.457  -4.452  -4.454  1.00  0.00           H\\nATOM    550  HE3 LYS B  33       6.910  -3.492  -5.837  1.00 43.51           H\\nATOM    551  HZ1 LYS B  33       6.354  -2.314  -3.254  1.00 71.43           H\\nATOM    552  HZ2 LYS B  33       6.971  -1.603  -4.659  1.00  3.33           H\\nATOM    553  HZ3 LYS B  33       7.999  -2.458  -3.622  1.00 63.43           H\\nATOM    554  N   LEU B  34       0.611  -5.795  -6.315  1.00  0.20           N\\nATOM    555  CA  LEU B  34      -0.659  -6.510  -6.250  1.00 24.13           C\\nATOM    556  C   LEU B  34      -1.349  -6.519  -7.610  1.00 14.54           C\\nATOM    557  O   LEU B  34      -0.856  -5.929  -8.572  1.00 60.52           O\\nATOM    558  CB  LEU B  34      -1.574  -5.871  -5.204  1.00 43.11           C\\nATOM    559  CG  LEU B  34      -1.756  -6.653  -3.903  1.00 41.31           C\\nATOM    560  CD1 LEU B  34      -2.537  -7.933  -4.155  1.00 72.13           C\\nATOM    561  CD2 LEU B  34      -0.405  -6.965  -3.275  1.00 11.23           C\\nATOM    562  H   LEU B  34       0.765  -5.041  -5.709  1.00  1.15           H\\nATOM    563  HA  LEU B  34      -0.450  -7.529  -5.959  1.00  4.40           H\\nATOM    564  HB2 LEU B  34      -1.159  -4.895  -4.950  1.00  0.00           H\\nATOM    565  HB3 LEU B  34      -2.548  -5.741  -5.653  1.00 74.43           H\\nATOM    566  HG  LEU B  34      -2.320  -6.051  -3.204  1.00 62.31           H\\nATOM    567 HD11 LEU B  34      -1.898  -8.655  -4.641  1.00 53.24           H\\nATOM    568 HD12 LEU B  34      -3.385  -7.719  -4.789  1.00 15.43           H\\nATOM    569 HD13 LEU B  34      -2.883  -8.335  -3.214  1.00 54.22           H\\nATOM    570 HD21 LEU B  34       0.119  -6.043  -3.073  1.00 13.45           H\\nATOM    571 HD22 LEU B  34       0.178  -7.568  -3.956  1.00 32.24           H\\nATOM    572 HD23 LEU B  34      -0.554  -7.505  -2.351  1.00 51.25           H\\nATOM    573  N   LEU B  35      -2.494  -7.188  -7.682  1.00 13.05           N\\nATOM    574  CA  LEU B  35      -3.255  -7.271  -8.923  1.00 72.54           C\\nATOM    575  C   LEU B  35      -4.576  -6.518  -8.804  1.00 50.34           C\\nATOM    576  O   LEU B  35      -4.904  -5.682  -9.647  1.00 30.13           O\\nATOM    577  CB  LEU B  35      -3.520  -8.734  -9.285  1.00 31.41           C\\nATOM    578  CG  LEU B  35      -2.965  -9.205 -10.630  1.00 13.31           C\\nATOM    579  CD1 LEU B  35      -3.529  -8.363 -11.764  1.00 30.01           C\\nATOM    580  CD2 LEU B  35      -1.445  -9.149 -10.628  1.00 43.10           C\\nATOM    581  H   LEU B  35      -2.836  -7.638  -6.881  1.00 54.34           H\\nATOM    582  HA  LEU B  35      -2.664  -6.817  -9.705  1.00 31.41           H\\nATOM    583  HB2 LEU B  35      -3.077  -9.355  -8.506  1.00  0.00           H\\nATOM    584  HB3 LEU B  35      -4.590  -8.882  -9.298  1.00 14.33           H\\nATOM    585  HG  LEU B  35      -3.263 -10.230 -10.796  1.00 63.33           H\\nATOM    586 HD11 LEU B  35      -3.201  -8.766 -12.710  1.00 21.14           H\\nATOM    587 HD12 LEU B  35      -3.180  -7.345 -11.666  1.00 32.34           H\\nATOM    588 HD13 LEU B  35      -4.608  -8.378 -11.720  1.00 53.15           H\\nATOM    589 HD21 LEU B  35      -1.048 -10.142 -10.480  1.00 34.32           H\\nATOM    590 HD22 LEU B  35      -1.109  -8.505  -9.828  1.00  0.51           H\\nATOM    591 HD23 LEU B  35      -1.097  -8.760 -11.574  1.00 11.44           H\\nATOM    592  N   PHE B  36      -5.329  -6.818  -7.752  1.00 13.22           N\\nATOM    593  CA  PHE B  36      -6.614  -6.168  -7.521  1.00 51.45           C\\nATOM    594  C   PHE B  36      -6.707  -5.638  -6.094  1.00  1.53           C\\nATOM    595  O   PHE B  36      -5.773  -5.800  -5.312  1.00  0.00           O\\nATOM    596  CB  PHE B  36      -7.760  -7.146  -7.790  1.00 74.20           C\\nATOM    597  CG  PHE B  36      -8.791  -6.614  -8.744  1.00 12.20           C\\nATOM    598  CD1 PHE B  36      -9.582  -5.531  -8.397  1.00  1.14           C\\nATOM    599  CD2 PHE B  36      -8.970  -7.198  -9.988  1.00 43.40           C\\nATOM    600  CE1 PHE B  36     -10.532  -5.039  -9.272  1.00 71.12           C\\nATOM    601  CE2 PHE B  36      -9.917  -6.709 -10.868  1.00  2.11           C\\nATOM    602  CZ  PHE B  36     -10.699  -5.629 -10.509  1.00 74.22           C\\nATOM    603  OXT PHE B  36      -7.714  -5.045  -5.711  1.00  0.00           O\\nATOM    604  H   PHE B  36      -5.014  -7.494  -7.115  1.00  1.30           H\\nATOM    605  HA  PHE B  36      -6.693  -5.338  -8.207  1.00  4.13           H\\nATOM    606  HB2 PHE B  36      -7.343  -8.065  -8.202  1.00  0.00           H\\nATOM    607  HB3 PHE B  36      -8.255  -7.374  -6.858  1.00 23.10           H\\nATOM    608  HD1 PHE B  36      -9.452  -5.068  -7.428  1.00 40.24           H\\nATOM    609  HD2 PHE B  36      -8.359  -8.043 -10.270  1.00  2.03           H\\nATOM    610  HE1 PHE B  36     -11.142  -4.195  -8.988  1.00 43.53           H\\nATOM    611  HE2 PHE B  36     -10.047  -7.173 -11.834  1.00 41.03           H\\nATOM    612  HZ  PHE B  36     -11.441  -5.246 -11.195  1.00 45.10           H\\nEND\\n\",\"pdb\");\n\tviewer_16050643429269176.zoomTo();\n\tviewer_16050643429269176.setBackgroundColor(\"white\");\n\tviewer_16050643429269176.setStyle({\"chain\": \"A\"},{\"cartoon\": {\"color\": \"yellow\"}});\n\tviewer_16050643429269176.setStyle({\"chain\": \"B\"},{\"cartoon\": {\"color\": \"green\"}});\nviewer_16050643429269176.zoomTo();\nviewer_16050643429269176.render();\n});\n</script>",
            "text/html": [
              "<div id=\"3dmolviewer_16050643429269176\"  style=\"position: relative; width: 640px; height: 480px\">\n",
              "        <p id=\"3dmolwarning_16050643429269176\" style=\"background-color:#ffcccc;color:black\">You appear to be running in JupyterLab (or JavaScript failed to load for some other reason).  You need to install the 3dmol extension: <br>\n",
              "        <tt>jupyter labextension install jupyterlab_3dmol</tt></p>\n",
              "        </div>\n",
              "<script>\n",
              "\n",
              "var loadScriptAsync = function(uri){\n",
              "  return new Promise((resolve, reject) => {\n",
              "    var tag = document.createElement('script');\n",
              "    tag.src = uri;\n",
              "    tag.async = true;\n",
              "    tag.onload = () => {\n",
              "      resolve();\n",
              "    };\n",
              "  var firstScriptTag = document.getElementsByTagName('script')[0];\n",
              "  firstScriptTag.parentNode.insertBefore(tag, firstScriptTag);\n",
              "});\n",
              "};\n",
              "\n",
              "if(typeof $3Dmolpromise === 'undefined') {\n",
              "$3Dmolpromise = null;\n",
              "  $3Dmolpromise = loadScriptAsync('https://3dmol.org/build/3Dmol.js');\n",
              "}\n",
              "\n",
              "var viewer_16050643429269176 = null;\n",
              "var warn = document.getElementById(\"3dmolwarning_16050643429269176\");\n",
              "if(warn) {\n",
              "    warn.parentNode.removeChild(warn);\n",
              "}\n",
              "$3Dmolpromise.then(function() {\n",
              "viewer_16050643429269176 = $3Dmol.createViewer($(\"#3dmolviewer_16050643429269176\"),{backgroundColor:\"white\"});\n",
              "\tviewer_16050643429269176.addModel(\"ATOM      1  N   MET A   1      -5.657   2.469   8.498  1.00  0.00           N  \\nATOM      2  CA  MET A   1      -6.073   1.266   9.209  1.00  0.00           C  \\nATOM      3  C   MET A   1      -5.321   0.041   8.706  1.00  0.00           C  \\nATOM      4  O   MET A   1      -5.591  -1.084   9.129  1.00  0.00           O  \\nATOM      5  CB  MET A   1      -7.580   1.061   9.064  1.00  0.00           C  \\nATOM      6  CG  MET A   1      -8.283   2.128   8.237  1.00  0.00           C  \\nATOM      7  SD  MET A   1      -7.150   3.390   7.620  1.00  0.00           S  \\nATOM      8  CE  MET A   1      -5.596   2.804   8.290  1.00  0.00           C  \\nATOM      9 1H   MET A   1      -6.166   3.256   8.847  1.00  0.00           H  \\nATOM     10 2H   MET A   1      -4.679   2.617   8.637  1.00  0.00           H  \\nATOM     11 3H   MET A   1      -5.842   2.360   7.522  1.00  0.00           H  \\nATOM     12  HA  MET A   1      -5.836   1.388  10.265  1.00  0.00           H  \\nATOM     13 1HB  MET A   1      -7.774   0.097   8.598  1.00  0.00           H  \\nATOM     14 2HB  MET A   1      -8.042   1.047  10.052  1.00  0.00           H  \\nATOM     15 1HG  MET A   1      -8.776   1.661   7.384  1.00  0.00           H  \\nATOM     16 2HG  MET A   1      -9.044   2.617   8.844  1.00  0.00           H  \\nATOM     17 1HE  MET A   1      -4.794   3.482   7.994  1.00  0.00           H  \\nATOM     18 2HE  MET A   1      -5.659   2.769   9.378  1.00  0.00           H  \\nATOM     19 3HE  MET A   1      -5.387   1.806   7.905  1.00  0.00           H  \\nATOM     20  N   LEU A   2      -4.374   0.264   7.801  1.00  0.00           N  \\nATOM     21  CA  LEU A   2      -3.592  -0.823   7.224  1.00  0.00           C  \\nATOM     22  C   LEU A   2      -2.738  -1.509   8.282  1.00  0.00           C  \\nATOM     23  O   LEU A   2      -1.977  -0.857   8.998  1.00  0.00           O  \\nATOM     24  CB  LEU A   2      -2.696  -0.293   6.099  1.00  0.00           C  \\nATOM     25  CG  LEU A   2      -2.798   1.212   5.819  1.00  0.00           C  \\nATOM     26  CD1 LEU A   2      -3.810   1.838   6.770  1.00  0.00           C  \\nATOM     27  CD2 LEU A   2      -1.427   1.853   5.981  1.00  0.00           C  \\nATOM     28  H   LEU A   2      -4.191   1.212   7.504  1.00  0.00           H  \\nATOM     29  HA  LEU A   2      -4.279  -1.559   6.808  1.00  0.00           H  \\nATOM     30 1HB  LEU A   2      -1.659  -0.513   6.347  1.00  0.00           H  \\nATOM     31 2HB  LEU A   2      -2.947  -0.818   5.178  1.00  0.00           H  \\nATOM     32  HG  LEU A   2      -3.156   1.370   4.802  1.00  0.00           H  \\nATOM     33 1HD1 LEU A   2      -3.883   2.907   6.572  1.00  0.00           H  \\nATOM     34 2HD1 LEU A   2      -4.785   1.374   6.620  1.00  0.00           H  \\nATOM     35 3HD1 LEU A   2      -3.488   1.681   7.799  1.00  0.00           H  \\nATOM     36 1HD2 LEU A   2      -1.501   2.922   5.781  1.00  0.00           H  \\nATOM     37 2HD2 LEU A   2      -1.071   1.697   6.999  1.00  0.00           H  \\nATOM     38 3HD2 LEU A   2      -0.730   1.400   5.277  1.00  0.00           H  \\nATOM     39  N   SER A   3      -2.867  -2.828   8.377  1.00  0.00           N  \\nATOM     40  CA  SER A   3      -2.052  -3.614   9.295  1.00  0.00           C  \\nATOM     41  C   SER A   3      -0.651  -3.831   8.739  1.00  0.00           C  \\nATOM     42  O   SER A   3      -0.391  -3.566   7.565  1.00  0.00           O  \\nATOM     43  CB  SER A   3      -2.712  -4.953   9.564  1.00  0.00           C  \\nATOM     44  OG  SER A   3      -3.919  -5.068   8.861  1.00  0.00           O  \\nATOM     45  H   SER A   3      -3.549  -3.298   7.798  1.00  0.00           H  \\nATOM     46  HA  SER A   3      -1.967  -3.068  10.236  1.00  0.00           H  \\nATOM     47 1HB  SER A   3      -2.038  -5.756   9.268  1.00  0.00           H  \\nATOM     48 2HB  SER A   3      -2.899  -5.057  10.631  1.00  0.00           H  \\nATOM     49  HG  SER A   3      -4.021  -4.246   8.375  1.00  0.00           H  \\nATOM     50  N   ASP A   4       0.250  -4.314   9.588  1.00  0.00           N  \\nATOM     51  CA  ASP A   4       1.619  -4.598   9.174  1.00  0.00           C  \\nATOM     52  C   ASP A   4       1.662  -5.722   8.147  1.00  0.00           C  \\nATOM     53  O   ASP A   4       2.597  -5.814   7.353  1.00  0.00           O  \\nATOM     54  CB  ASP A   4       2.478  -4.970  10.384  1.00  0.00           C  \\nATOM     55  CG  ASP A   4       1.700  -4.950  11.693  1.00  0.00           C  \\nATOM     56  OD1 ASP A   4       0.529  -4.657  11.660  1.00  0.00           O  \\nATOM     57  OD2 ASP A   4       2.284  -5.230  12.712  1.00  0.00           O  \\nATOM     58  H   ASP A   4      -0.022  -4.489  10.545  1.00  0.00           H  \\nATOM     59  HA  ASP A   4       2.034  -3.700   8.714  1.00  0.00           H  \\nATOM     60 1HB  ASP A   4       2.896  -5.967  10.241  1.00  0.00           H  \\nATOM     61 2HB  ASP A   4       3.314  -4.274  10.466  1.00  0.00           H  \\nATOM     62  N   GLU A   5       0.643  -6.575   8.168  1.00  0.00           N  \\nATOM     63  CA  GLU A   5       0.521  -7.648   7.188  1.00  0.00           C  \\nATOM     64  C   GLU A   5       0.313  -7.091   5.786  1.00  0.00           C  \\nATOM     65  O   GLU A   5       0.870  -7.602   4.814  1.00  0.00           O  \\nATOM     66  CB  GLU A   5      -0.637  -8.577   7.555  1.00  0.00           C  \\nATOM     67  CG  GLU A   5      -1.380  -8.185   8.825  1.00  0.00           C  \\nATOM     68  CD  GLU A   5      -0.820  -6.949   9.471  1.00  0.00           C  \\nATOM     69  OE1 GLU A   5       0.123  -6.403   8.951  1.00  0.00           O  \\nATOM     70  OE2 GLU A   5      -1.338  -6.548  10.488  1.00  0.00           O  \\nATOM     71  H   GLU A   5      -0.065  -6.479   8.883  1.00  0.00           H  \\nATOM     72  HA  GLU A   5       1.447  -8.225   7.190  1.00  0.00           H  \\nATOM     73 1HB  GLU A   5      -1.359  -8.600   6.739  1.00  0.00           H  \\nATOM     74 2HB  GLU A   5      -0.261  -9.592   7.688  1.00  0.00           H  \\nATOM     75 1HG  GLU A   5      -2.427  -8.012   8.582  1.00  0.00           H  \\nATOM     76 2HG  GLU A   5      -1.331  -9.012   9.532  1.00  0.00           H  \\nATOM     77  N   ASP A   6      -0.492  -6.037   5.686  1.00  0.00           N  \\nATOM     78  CA  ASP A   6      -0.755  -5.393   4.406  1.00  0.00           C  \\nATOM     79  C   ASP A   6       0.508  -4.760   3.837  1.00  0.00           C  \\nATOM     80  O   ASP A   6       0.722  -4.759   2.624  1.00  0.00           O  \\nATOM     81  CB  ASP A   6      -1.845  -4.329   4.555  1.00  0.00           C  \\nATOM     82  CG  ASP A   6      -2.369  -4.213   5.980  1.00  0.00           C  \\nATOM     83  OD1 ASP A   6      -1.900  -4.938   6.826  1.00  0.00           O  \\nATOM     84  OD2 ASP A   6      -3.233  -3.401   6.210  1.00  0.00           O  \\nATOM     85  H   ASP A   6      -0.932  -5.674   6.520  1.00  0.00           H  \\nATOM     86  HA  ASP A   6      -1.104  -6.151   3.702  1.00  0.00           H  \\nATOM     87 1HB  ASP A   6      -1.451  -3.359   4.249  1.00  0.00           H  \\nATOM     88 2HB  ASP A   6      -2.679  -4.566   3.895  1.00  0.00           H  \\nATOM     89  N   PHE A   7       1.342  -4.221   4.719  1.00  0.00           N  \\nATOM     90  CA  PHE A   7       2.601  -3.611   4.310  1.00  0.00           C  \\nATOM     91  C   PHE A   7       3.397  -4.543   3.406  1.00  0.00           C  \\nATOM     92  O   PHE A   7       3.967  -4.114   2.403  1.00  0.00           O  \\nATOM     93  CB  PHE A   7       3.440  -3.242   5.534  1.00  0.00           C  \\nATOM     94  CG  PHE A   7       2.785  -3.586   6.843  1.00  0.00           C  \\nATOM     95  CD1 PHE A   7       1.535  -4.183   6.873  1.00  0.00           C  \\nATOM     96  CD2 PHE A   7       3.420  -3.313   8.045  1.00  0.00           C  \\nATOM     97  CE1 PHE A   7       0.932  -4.500   8.076  1.00  0.00           C  \\nATOM     98  CE2 PHE A   7       2.821  -3.630   9.249  1.00  0.00           C  \\nATOM     99  CZ  PHE A   7       1.575  -4.224   9.264  1.00  0.00           C  \\nATOM    100  H   PHE A   7       1.098  -4.234   5.700  1.00  0.00           H  \\nATOM    101  HA  PHE A   7       2.379  -2.700   3.752  1.00  0.00           H  \\nATOM    102 1HB  PHE A   7       4.398  -3.757   5.488  1.00  0.00           H  \\nATOM    103 2HB  PHE A   7       3.643  -2.171   5.528  1.00  0.00           H  \\nATOM    104  HD1 PHE A   7       1.026  -4.402   5.933  1.00  0.00           H  \\nATOM    105  HD2 PHE A   7       4.404  -2.843   8.034  1.00  0.00           H  \\nATOM    106  HE1 PHE A   7      -0.052  -4.969   8.085  1.00  0.00           H  \\nATOM    107  HE2 PHE A   7       3.330  -3.410  10.187  1.00  0.00           H  \\nATOM    108  HZ  PHE A   7       1.100  -4.473  10.212  1.00  0.00           H  \\nATOM    109  N   LYS A   8       3.432  -5.821   3.766  1.00  0.00           N  \\nATOM    110  CA  LYS A   8       4.144  -6.821   2.979  1.00  0.00           C  \\nATOM    111  C   LYS A   8       3.532  -6.967   1.592  1.00  0.00           C  \\nATOM    112  O   LYS A   8       4.245  -7.154   0.605  1.00  0.00           O  \\nATOM    113  CB  LYS A   8       4.143  -8.169   3.700  1.00  0.00           C  \\nATOM    114  CG  LYS A   8       3.420  -8.168   5.039  1.00  0.00           C  \\nATOM    115  CD  LYS A   8       2.852  -6.793   5.358  1.00  0.00           C  \\nATOM    116  CE  LYS A   8       3.162  -5.794   4.253  1.00  0.00           C  \\nATOM    117  NZ  LYS A   8       3.938  -6.415   3.144  1.00  0.00           N  \\nATOM    118  H   LYS A   8       2.953  -6.108   4.608  1.00  0.00           H  \\nATOM    119  HA  LYS A   8       5.176  -6.492   2.856  1.00  0.00           H  \\nATOM    120 1HB  LYS A   8       3.670  -8.921   3.065  1.00  0.00           H  \\nATOM    121 2HB  LYS A   8       5.171  -8.489   3.875  1.00  0.00           H  \\nATOM    122 1HG  LYS A   8       2.604  -8.891   5.014  1.00  0.00           H  \\nATOM    123 2HG  LYS A   8       4.114  -8.457   5.827  1.00  0.00           H  \\nATOM    124 1HD  LYS A   8       1.771  -6.864   5.479  1.00  0.00           H  \\nATOM    125 2HD  LYS A   8       3.281  -6.430   6.293  1.00  0.00           H  \\nATOM    126 1HE  LYS A   8       2.231  -5.398   3.850  1.00  0.00           H  \\nATOM    127 2HE  LYS A   8       3.738  -4.965   4.662  1.00  0.00           H  \\nATOM    128 1HZ  LYS A   8       4.123  -5.722   2.433  1.00  0.00           H  \\nATOM    129 2HZ  LYS A   8       4.814  -6.770   3.504  1.00  0.00           H  \\nATOM    130 3HZ  LYS A   8       3.406  -7.173   2.744  1.00  0.00           H  \\nATOM    131  N   ALA A   9       2.208  -6.880   1.522  1.00  0.00           N  \\nATOM    132  CA  ALA A   9       1.501  -6.959   0.250  1.00  0.00           C  \\nATOM    133  C   ALA A   9       1.840  -5.772  -0.644  1.00  0.00           C  \\nATOM    134  O   ALA A   9       1.875  -5.895  -1.867  1.00  0.00           O  \\nATOM    135  CB  ALA A   9      -0.001  -7.034   0.482  1.00  0.00           C  \\nATOM    136  H   ALA A   9       1.677  -6.757   2.373  1.00  0.00           H  \\nATOM    137  HA  ALA A   9       1.824  -7.866  -0.262  1.00  0.00           H  \\nATOM    138 1HB  ALA A   9      -0.515  -7.092  -0.477  1.00  0.00           H  \\nATOM    139 2HB  ALA A   9      -0.235  -7.918   1.073  1.00  0.00           H  \\nATOM    140 3HB  ALA A   9      -0.330  -6.144   1.016  1.00  0.00           H  \\nATOM    141  N   PHE A  10       2.091  -4.625  -0.023  1.00  0.00           N  \\nATOM    142  CA  PHE A  10       2.454  -3.420  -0.760  1.00  0.00           C  \\nATOM    143  C   PHE A  10       3.916  -3.058  -0.536  1.00  0.00           C  \\nATOM    144  O   PHE A  10       4.402  -2.050  -1.051  1.00  0.00           O  \\nATOM    145  CB  PHE A  10       1.564  -2.248  -0.340  1.00  0.00           C  \\nATOM    146  CG  PHE A  10       0.548  -2.604   0.708  1.00  0.00           C  \\nATOM    147  CD1 PHE A  10       0.471  -3.895   1.210  1.00  0.00           C  \\nATOM    148  CD2 PHE A  10      -0.335  -1.650   1.192  1.00  0.00           C  \\nATOM    149  CE1 PHE A  10      -0.463  -4.223   2.174  1.00  0.00           C  \\nATOM    150  CE2 PHE A  10      -1.269  -1.975   2.156  1.00  0.00           C  \\nATOM    151  CZ  PHE A  10      -1.333  -3.264   2.647  1.00  0.00           C  \\nATOM    152  H   PHE A  10       2.028  -4.585   0.984  1.00  0.00           H  \\nATOM    153  HA  PHE A  10       2.306  -3.607  -1.824  1.00  0.00           H  \\nATOM    154 1HB  PHE A  10       2.184  -1.441   0.048  1.00  0.00           H  \\nATOM    155 2HB  PHE A  10       1.034  -1.863  -1.211  1.00  0.00           H  \\nATOM    156  HD1 PHE A  10       1.161  -4.653   0.837  1.00  0.00           H  \\nATOM    157  HD2 PHE A  10      -0.285  -0.632   0.803  1.00  0.00           H  \\nATOM    158  HE1 PHE A  10      -0.512  -5.241   2.560  1.00  0.00           H  \\nATOM    159  HE2 PHE A  10      -1.956  -1.216   2.528  1.00  0.00           H  \\nATOM    160  HZ  PHE A  10      -2.071  -3.522   3.405  1.00  0.00           H  \\nATOM    161  N   GLY A  11       4.615  -3.886   0.234  1.00  0.00           N  \\nATOM    162  CA  GLY A  11       6.042  -3.696   0.465  1.00  0.00           C  \\nATOM    163  C   GLY A  11       6.310  -2.403   1.225  1.00  0.00           C  \\nATOM    164  O   GLY A  11       7.181  -1.620   0.849  1.00  0.00           O  \\nATOM    165  H   GLY A  11       4.145  -4.666   0.669  1.00  0.00           H  \\nATOM    166 1HA  GLY A  11       6.435  -4.541   1.030  1.00  0.00           H  \\nATOM    167 2HA  GLY A  11       6.566  -3.676  -0.489  1.00  0.00           H  \\nATOM    168  N   MET A  12       5.554  -2.184   2.296  1.00  0.00           N  \\nATOM    169  CA  MET A  12       5.528  -0.888   2.964  1.00  0.00           C  \\nATOM    170  C   MET A  12       5.673  -1.043   4.473  1.00  0.00           C  \\nATOM    171  O   MET A  12       5.227  -2.035   5.050  1.00  0.00           O  \\nATOM    172  CB  MET A  12       4.236  -0.146   2.626  1.00  0.00           C  \\nATOM    173  CG  MET A  12       3.299  -0.906   1.697  1.00  0.00           C  \\nATOM    174  SD  MET A  12       3.950  -2.517   1.216  1.00  0.00           S  \\nATOM    175  CE  MET A  12       5.512  -2.526   2.092  1.00  0.00           C  \\nATOM    176  H   MET A  12       4.983  -2.935   2.656  1.00  0.00           H  \\nATOM    177  HA  MET A  12       6.374  -0.299   2.609  1.00  0.00           H  \\nATOM    178 1HB  MET A  12       3.692   0.073   3.544  1.00  0.00           H  \\nATOM    179 2HB  MET A  12       4.477   0.806   2.152  1.00  0.00           H  \\nATOM    180 1HG  MET A  12       2.340  -1.055   2.191  1.00  0.00           H  \\nATOM    181 2HG  MET A  12       3.128  -0.320   0.794  1.00  0.00           H  \\nATOM    182 1HE  MET A  12       6.035  -3.461   1.894  1.00  0.00           H  \\nATOM    183 2HE  MET A  12       6.124  -1.689   1.754  1.00  0.00           H  \\nATOM    184 3HE  MET A  12       5.329  -2.432   3.163  1.00  0.00           H  \\nATOM    185  N   THR A  13       6.299  -0.057   5.106  1.00  0.00           N  \\nATOM    186  CA  THR A  13       6.554  -0.108   6.540  1.00  0.00           C  \\nATOM    187  C   THR A  13       5.438   0.572   7.323  1.00  0.00           C  \\nATOM    188  O   THR A  13       4.710   1.408   6.786  1.00  0.00           O  \\nATOM    189  CB  THR A  13       7.903   0.548   6.887  1.00  0.00           C  \\nATOM    190  OG1 THR A  13       8.528   1.025   5.688  1.00  0.00           O  \\nATOM    191  CG2 THR A  13       8.823  -0.453   7.570  1.00  0.00           C  \\nATOM    192  H   THR A  13       6.606   0.748   4.580  1.00  0.00           H  \\nATOM    193  HA  THR A  13       6.591  -1.153   6.848  1.00  0.00           H  \\nATOM    194  HB  THR A  13       7.735   1.393   7.554  1.00  0.00           H  \\nATOM    195  HG1 THR A  13       7.965   0.829   4.935  1.00  0.00           H  \\nATOM    196 1HG2 THR A  13       9.771   0.028   7.808  1.00  0.00           H  \\nATOM    197 2HG2 THR A  13       8.355  -0.809   8.487  1.00  0.00           H  \\nATOM    198 3HG2 THR A  13       9.002  -1.296   6.903  1.00  0.00           H  \\nATOM    199  N   ARG A  14       5.307   0.210   8.594  1.00  0.00           N  \\nATOM    200  CA  ARG A  14       4.231   0.726   9.431  1.00  0.00           C  \\nATOM    201  C   ARG A  14       4.172   2.247   9.378  1.00  0.00           C  \\nATOM    202  O   ARG A  14       3.103   2.831   9.201  1.00  0.00           O  \\nATOM    203  CB  ARG A  14       4.415   0.279  10.874  1.00  0.00           C  \\nATOM    204  CG  ARG A  14       5.641  -0.583  11.126  1.00  0.00           C  \\nATOM    205  CD  ARG A  14       6.417  -0.810   9.881  1.00  0.00           C  \\nATOM    206  NE  ARG A  14       5.810  -0.152   8.735  1.00  0.00           N  \\nATOM    207  CZ  ARG A  14       4.680   0.579   8.783  1.00  0.00           C  \\nATOM    208  NH1 ARG A  14       4.046   0.735   9.925  1.00  0.00           N  \\nATOM    209  NH2 ARG A  14       4.207   1.138   7.683  1.00  0.00           N  \\nATOM    210  H   ARG A  14       5.971  -0.440   8.991  1.00  0.00           H  \\nATOM    211  HA  ARG A  14       3.285   0.330   9.062  1.00  0.00           H  \\nATOM    212 1HB  ARG A  14       4.487   1.153  11.519  1.00  0.00           H  \\nATOM    213 2HB  ARG A  14       3.541  -0.290  11.192  1.00  0.00           H  \\nATOM    214 1HG  ARG A  14       6.291  -0.089  11.850  1.00  0.00           H  \\nATOM    215 2HG  ARG A  14       5.331  -1.553  11.518  1.00  0.00           H  \\nATOM    216 1HD  ARG A  14       7.427  -0.417  10.005  1.00  0.00           H  \\nATOM    217 2HD  ARG A  14       6.468  -1.879   9.673  1.00  0.00           H  \\nATOM    218  HE  ARG A  14       6.269  -0.249   7.839  1.00  0.00           H  \\nATOM    219 1HH1 ARG A  14       4.408   0.307  10.766  1.00  0.00           H  \\nATOM    220 2HH1 ARG A  14       3.198   1.283   9.961  1.00  0.00           H  \\nATOM    221 1HH2 ARG A  14       4.694   1.018   6.805  1.00  0.00           H  \\nATOM    222 2HH2 ARG A  14       3.360   1.685   7.719  1.00  0.00           H  \\nATOM    223  N   SER A  15       5.328   2.885   9.532  1.00  0.00           N  \\nATOM    224  CA  SER A  15       5.407   4.340   9.529  1.00  0.00           C  \\nATOM    225  C   SER A  15       5.051   4.908   8.161  1.00  0.00           C  \\nATOM    226  O   SER A  15       4.368   5.928   8.061  1.00  0.00           O  \\nATOM    227  CB  SER A  15       6.800   4.789   9.926  1.00  0.00           C  \\nATOM    228  OG  SER A  15       7.627   3.688  10.185  1.00  0.00           O  \\nATOM    229  H   SER A  15       6.174   2.346   9.653  1.00  0.00           H  \\nATOM    230  HA  SER A  15       4.692   4.727  10.257  1.00  0.00           H  \\nATOM    231 1HB  SER A  15       7.230   5.390   9.126  1.00  0.00           H  \\nATOM    232 2HB  SER A  15       6.740   5.419  10.812  1.00  0.00           H  \\nATOM    233  HG  SER A  15       7.084   2.909  10.041  1.00  0.00           H  \\nATOM    234  N   ALA A  16       5.517   4.242   7.110  1.00  0.00           N  \\nATOM    235  CA  ALA A  16       5.204   4.649   5.745  1.00  0.00           C  \\nATOM    236  C   ALA A  16       3.723   4.468   5.442  1.00  0.00           C  \\nATOM    237  O   ALA A  16       3.081   5.354   4.877  1.00  0.00           O  \\nATOM    238  CB  ALA A  16       6.047   3.864   4.752  1.00  0.00           C  \\nATOM    239  H   ALA A  16       6.103   3.434   7.261  1.00  0.00           H  \\nATOM    240  HA  ALA A  16       5.439   5.710   5.646  1.00  0.00           H  \\nATOM    241 1HB  ALA A  16       5.803   4.180   3.738  1.00  0.00           H  \\nATOM    242 2HB  ALA A  16       7.104   4.050   4.944  1.00  0.00           H  \\nATOM    243 3HB  ALA A  16       5.841   2.800   4.861  1.00  0.00           H  \\nATOM    244  N   PHE A  17       3.183   3.315   5.821  1.00  0.00           N  \\nATOM    245  CA  PHE A  17       1.778   3.011   5.582  1.00  0.00           C  \\nATOM    246  C   PHE A  17       0.871   3.897   6.426  1.00  0.00           C  \\nATOM    247  O   PHE A  17      -0.157   4.380   5.951  1.00  0.00           O  \\nATOM    248  CB  PHE A  17       1.490   1.540   5.887  1.00  0.00           C  \\nATOM    249  CG  PHE A  17       2.693   0.770   6.352  1.00  0.00           C  \\nATOM    250  CD1 PHE A  17       3.927   1.392   6.472  1.00  0.00           C  \\nATOM    251  CD2 PHE A  17       2.594  -0.577   6.667  1.00  0.00           C  \\nATOM    252  CE1 PHE A  17       5.035   0.684   6.899  1.00  0.00           C  \\nATOM    253  CE2 PHE A  17       3.699  -1.285   7.095  1.00  0.00           C  \\nATOM    254  CZ  PHE A  17       4.922  -0.654   7.211  1.00  0.00           C  \\nATOM    255  H   PHE A  17       3.762   2.630   6.288  1.00  0.00           H  \\nATOM    256  HA  PHE A  17       1.557   3.199   4.529  1.00  0.00           H  \\nATOM    257 1HB  PHE A  17       0.724   1.472   6.659  1.00  0.00           H  \\nATOM    258 2HB  PHE A  17       1.098   1.052   4.995  1.00  0.00           H  \\nATOM    259  HD1 PHE A  17       4.016   2.449   6.227  1.00  0.00           H  \\nATOM    260  HD2 PHE A  17       1.629  -1.076   6.575  1.00  0.00           H  \\nATOM    261  HE1 PHE A  17       5.999   1.185   6.990  1.00  0.00           H  \\nATOM    262  HE2 PHE A  17       3.608  -2.343   7.342  1.00  0.00           H  \\nATOM    263  HZ  PHE A  17       5.794  -1.213   7.547  1.00  0.00           H  \\nATOM    264  N   ALA A  18       1.258   4.108   7.679  1.00  0.00           N  \\nATOM    265  CA  ALA A  18       0.440   4.868   8.616  1.00  0.00           C  \\nATOM    266  C   ALA A  18       0.410   6.346   8.248  1.00  0.00           C  \\nATOM    267  O   ALA A  18      -0.595   7.026   8.453  1.00  0.00           O  \\nATOM    268  CB  ALA A  18       0.956   4.687  10.036  1.00  0.00           C  \\nATOM    269  H   ALA A  18       2.142   3.732   7.991  1.00  0.00           H  \\nATOM    270  HA  ALA A  18      -0.580   4.489   8.560  1.00  0.00           H  \\nATOM    271 1HB  ALA A  18       0.335   5.261  10.724  1.00  0.00           H  \\nATOM    272 2HB  ALA A  18       0.915   3.632  10.307  1.00  0.00           H  \\nATOM    273 3HB  ALA A  18       1.984   5.039  10.097  1.00  0.00           H  \\nATOM    274  N   ASN A  19       1.518   6.838   7.703  1.00  0.00           N  \\nATOM    275  CA  ASN A  19       1.670   8.261   7.428  1.00  0.00           C  \\nATOM    276  C   ASN A  19       1.099   8.624   6.063  1.00  0.00           C  \\nATOM    277  O   ASN A  19       0.382   9.614   5.922  1.00  0.00           O  \\nATOM    278  CB  ASN A  19       3.128   8.670   7.523  1.00  0.00           C  \\nATOM    279  CG  ASN A  19       4.029   7.519   7.871  1.00  0.00           C  \\nATOM    280  OD1 ASN A  19       3.570   6.385   8.048  1.00  0.00           O  \\nATOM    281  ND2 ASN A  19       5.307   7.786   7.973  1.00  0.00           N  \\nATOM    282  H   ASN A  19       2.273   6.208   7.473  1.00  0.00           H  \\nATOM    283  HA  ASN A  19       1.103   8.820   8.174  1.00  0.00           H  \\nATOM    284 1HB  ASN A  19       3.450   9.094   6.572  1.00  0.00           H  \\nATOM    285 2HB  ASN A  19       3.240   9.446   8.281  1.00  0.00           H  \\nATOM    286 1HD2 ASN A  19       5.955   7.059   8.202  1.00  0.00           H  \\nATOM    287 2HD2 ASN A  19       5.635   8.718   7.821  1.00  0.00           H  \\nATOM    288  N   LEU A  20       1.423   7.815   5.060  1.00  0.00           N  \\nATOM    289  CA  LEU A  20       1.121   8.155   3.674  1.00  0.00           C  \\nATOM    290  C   LEU A  20      -0.355   7.938   3.362  1.00  0.00           C  \\nATOM    291  O   LEU A  20      -1.091   7.365   4.164  1.00  0.00           O  \\nATOM    292  CB  LEU A  20       1.981   7.314   2.722  1.00  0.00           C  \\nATOM    293  CG  LEU A  20       2.944   6.327   3.393  1.00  0.00           C  \\nATOM    294  CD1 LEU A  20       2.804   6.428   4.906  1.00  0.00           C  \\nATOM    295  CD2 LEU A  20       2.643   4.916   2.909  1.00  0.00           C  \\nATOM    296  H   LEU A  20       1.889   6.942   5.261  1.00  0.00           H  \\nATOM    297  HA  LEU A  20       1.352   9.208   3.519  1.00  0.00           H  \\nATOM    298 1HB  LEU A  20       1.321   6.743   2.071  1.00  0.00           H  \\nATOM    299 2HB  LEU A  20       2.574   7.987   2.104  1.00  0.00           H  \\nATOM    300  HG  LEU A  20       3.971   6.588   3.135  1.00  0.00           H  \\nATOM    301 1HD1 LEU A  20       3.488   5.727   5.382  1.00  0.00           H  \\nATOM    302 2HD1 LEU A  20       3.043   7.442   5.227  1.00  0.00           H  \\nATOM    303 3HD1 LEU A  20       1.780   6.188   5.193  1.00  0.00           H  \\nATOM    304 1HD2 LEU A  20       3.328   4.214   3.385  1.00  0.00           H  \\nATOM    305 2HD2 LEU A  20       1.618   4.654   3.167  1.00  0.00           H  \\nATOM    306 3HD2 LEU A  20       2.768   4.868   1.827  1.00  0.00           H  \\nATOM    307  N   PRO A  21      -0.779   8.398   2.190  1.00  0.00           N  \\nATOM    308  CA  PRO A  21      -2.170   8.260   1.773  1.00  0.00           C  \\nATOM    309  C   PRO A  21      -2.570   6.795   1.666  1.00  0.00           C  \\nATOM    310  O   PRO A  21      -1.731   5.928   1.421  1.00  0.00           O  \\nATOM    311  CB  PRO A  21      -2.190   8.951   0.406  1.00  0.00           C  \\nATOM    312  CG  PRO A  21      -0.814   8.740  -0.130  1.00  0.00           C  \\nATOM    313  CD  PRO A  21       0.071   8.774   1.086  1.00  0.00           C  \\nATOM    314  HA  PRO A  21      -2.817   8.787   2.489  1.00  0.00           H  \\nATOM    315 1HB  PRO A  21      -2.969   8.506  -0.230  1.00  0.00           H  \\nATOM    316 2HB  PRO A  21      -2.441  10.016   0.525  1.00  0.00           H  \\nATOM    317 1HG  PRO A  21      -0.759   7.782  -0.667  1.00  0.00           H  \\nATOM    318 2HG  PRO A  21      -0.565   9.527  -0.858  1.00  0.00           H  \\nATOM    319 1HD  PRO A  21       0.890   8.051   0.965  1.00  0.00           H  \\nATOM    320 2HD  PRO A  21       0.469   9.791   1.224  1.00  0.00           H  \\nATOM    321  N   LEU A  22      -3.858   6.523   1.853  1.00  0.00           N  \\nATOM    322  CA  LEU A  22      -4.364   5.156   1.830  1.00  0.00           C  \\nATOM    323  C   LEU A  22      -4.989   4.822   0.482  1.00  0.00           C  \\nATOM    324  O   LEU A  22      -4.798   3.728  -0.049  1.00  0.00           O  \\nATOM    325  CB  LEU A  22      -5.398   4.955   2.945  1.00  0.00           C  \\nATOM    326  CG  LEU A  22      -5.679   6.182   3.821  1.00  0.00           C  \\nATOM    327  CD1 LEU A  22      -4.824   7.351   3.348  1.00  0.00           C  \\nATOM    328  CD2 LEU A  22      -7.160   6.526   3.754  1.00  0.00           C  \\nATOM    329  H   LEU A  22      -4.502   7.284   2.014  1.00  0.00           H  \\nATOM    330  HA  LEU A  22      -3.529   4.476   1.999  1.00  0.00           H  \\nATOM    331 1HB  LEU A  22      -6.341   4.648   2.493  1.00  0.00           H  \\nATOM    332 2HB  LEU A  22      -5.054   4.153   3.597  1.00  0.00           H  \\nATOM    333  HG  LEU A  22      -5.404   5.963   4.853  1.00  0.00           H  \\nATOM    334 1HD1 LEU A  22      -5.023   8.223   3.971  1.00  0.00           H  \\nATOM    335 2HD1 LEU A  22      -3.770   7.084   3.425  1.00  0.00           H  \\nATOM    336 3HD1 LEU A  22      -5.066   7.582   2.312  1.00  0.00           H  \\nATOM    337 1HD2 LEU A  22      -7.359   7.397   4.377  1.00  0.00           H  \\nATOM    338 2HD2 LEU A  22      -7.436   6.746   2.723  1.00  0.00           H  \\nATOM    339 3HD2 LEU A  22      -7.746   5.680   4.114  1.00  0.00           H  \\nATOM    340  N   TRP A  23      -5.738   5.772  -0.068  1.00  0.00           N  \\nATOM    341  CA  TRP A  23      -6.395   5.580  -1.356  1.00  0.00           C  \\nATOM    342  C   TRP A  23      -5.397   5.669  -2.502  1.00  0.00           C  \\nATOM    343  O   TRP A  23      -5.553   5.007  -3.528  1.00  0.00           O  \\nATOM    344  CB  TRP A  23      -7.497   6.622  -1.552  1.00  0.00           C  \\nATOM    345  CG  TRP A  23      -7.636   7.572  -0.400  1.00  0.00           C  \\nATOM    346  CD1 TRP A  23      -6.897   7.577   0.744  1.00  0.00           C  \\nATOM    347  CD2 TRP A  23      -8.577   8.666  -0.276  1.00  0.00           C  \\nATOM    348  NE1 TRP A  23      -7.311   8.593   1.570  1.00  0.00           N  \\nATOM    349  CE2 TRP A  23      -8.337   9.270   0.961  1.00  0.00           C  \\nATOM    350  CE3 TRP A  23      -9.587   9.172  -1.104  1.00  0.00           C  \\nATOM    351  CZ2 TRP A  23      -9.073  10.360   1.399  1.00  0.00           C  \\nATOM    352  CZ3 TRP A  23     -10.323  10.266  -0.665  1.00  0.00           C  \\nATOM    353  CH2 TRP A  23     -10.072  10.845   0.554  1.00  0.00           C  \\nATOM    354  H   TRP A  23      -5.855   6.650   0.418  1.00  0.00           H  \\nATOM    355  HA  TRP A  23      -6.847   4.588  -1.369  1.00  0.00           H  \\nATOM    356 1HB  TRP A  23      -7.293   7.204  -2.452  1.00  0.00           H  \\nATOM    357 2HB  TRP A  23      -8.453   6.119  -1.698  1.00  0.00           H  \\nATOM    358  HD1 TRP A  23      -6.095   6.877   0.972  1.00  0.00           H  \\nATOM    359  HE1 TRP A  23      -6.926   8.807   2.478  1.00  0.00           H  \\nATOM    360  HE3 TRP A  23      -9.789   8.719  -2.073  1.00  0.00           H  \\nATOM    361  HZ2 TRP A  23      -8.888  10.833   2.363  1.00  0.00           H  \\nATOM    362  HZ3 TRP A  23     -11.108  10.655  -1.314  1.00  0.00           H  \\nATOM    363  HH2 TRP A  23     -10.668  11.703   0.866  1.00  0.00           H  \\nATOM    364  N   LYS A  24      -4.369   6.492  -2.323  1.00  0.00           N  \\nATOM    365  CA  LYS A  24      -3.289   6.593  -3.297  1.00  0.00           C  \\nATOM    366  C   LYS A  24      -2.637   5.238  -3.538  1.00  0.00           C  \\nATOM    367  O   LYS A  24      -2.190   4.942  -4.646  1.00  0.00           O  \\nATOM    368  CB  LYS A  24      -2.241   7.606  -2.833  1.00  0.00           C  \\nATOM    369  CG  LYS A  24      -2.552   8.263  -1.494  1.00  0.00           C  \\nATOM    370  CD  LYS A  24      -3.862   7.750  -0.917  1.00  0.00           C  \\nATOM    371  CE  LYS A  24      -4.505   6.718  -1.833  1.00  0.00           C  \\nATOM    372  NZ  LYS A  24      -3.692   6.476  -3.055  1.00  0.00           N  \\nATOM    373  H   LYS A  24      -4.336   7.063  -1.491  1.00  0.00           H  \\nATOM    374  HA  LYS A  24      -3.708   6.935  -4.245  1.00  0.00           H  \\nATOM    375 1HB  LYS A  24      -1.272   7.113  -2.746  1.00  0.00           H  \\nATOM    376 2HB  LYS A  24      -2.142   8.395  -3.578  1.00  0.00           H  \\nATOM    377 1HG  LYS A  24      -1.747   8.053  -0.790  1.00  0.00           H  \\nATOM    378 2HG  LYS A  24      -2.622   9.343  -1.627  1.00  0.00           H  \\nATOM    379 1HD  LYS A  24      -3.677   7.294   0.056  1.00  0.00           H  \\nATOM    380 2HD  LYS A  24      -4.552   8.582  -0.784  1.00  0.00           H  \\nATOM    381 1HE  LYS A  24      -4.621   5.778  -1.296  1.00  0.00           H  \\nATOM    382 2HE  LYS A  24      -5.494   7.065  -2.133  1.00  0.00           H  \\nATOM    383 1HZ  LYS A  24      -4.151   5.788  -3.635  1.00  0.00           H  \\nATOM    384 2HZ  LYS A  24      -3.594   7.339  -3.571  1.00  0.00           H  \\nATOM    385 3HZ  LYS A  24      -2.779   6.137  -2.791  1.00  0.00           H  \\nATOM    386  N   GLN A  25      -2.585   4.418  -2.494  1.00  0.00           N  \\nATOM    387  CA  GLN A  25      -1.926   3.119  -2.571  1.00  0.00           C  \\nATOM    388  C   GLN A  25      -2.757   2.126  -3.373  1.00  0.00           C  \\nATOM    389  O   GLN A  25      -2.218   1.209  -3.992  1.00  0.00           O  \\nATOM    390  CB  GLN A  25      -1.662   2.568  -1.168  1.00  0.00           C  \\nATOM    391  CG  GLN A  25      -2.135   3.474  -0.044  1.00  0.00           C  \\nATOM    392  CD  GLN A  25      -2.775   4.748  -0.559  1.00  0.00           C  \\nATOM    393  OE1 GLN A  25      -2.871   4.966  -1.770  1.00  0.00           O  \\nATOM    394  NE2 GLN A  25      -3.218   5.600   0.359  1.00  0.00           N  \\nATOM    395  H   GLN A  25      -3.013   4.700  -1.625  1.00  0.00           H  \\nATOM    396  HA  GLN A  25      -0.970   3.246  -3.081  1.00  0.00           H  \\nATOM    397 1HB  GLN A  25      -2.160   1.605  -1.056  1.00  0.00           H  \\nATOM    398 2HB  GLN A  25      -0.593   2.400  -1.038  1.00  0.00           H  \\nATOM    399 1HG  GLN A  25      -2.871   2.938   0.555  1.00  0.00           H  \\nATOM    400 2HG  GLN A  25      -1.279   3.746   0.574  1.00  0.00           H  \\nATOM    401 1HE2 GLN A  25      -3.650   6.458   0.079  1.00  0.00           H  \\nATOM    402 2HE2 GLN A  25      -3.120   5.384   1.330  1.00  0.00           H  \\nATOM    403  N   GLN A  26      -4.072   2.315  -3.357  1.00  0.00           N  \\nATOM    404  CA  GLN A  26      -4.980   1.445  -4.095  1.00  0.00           C  \\nATOM    405  C   GLN A  26      -4.732   1.536  -5.596  1.00  0.00           C  \\nATOM    406  O   GLN A  26      -4.710   0.521  -6.293  1.00  0.00           O  \\nATOM    407  CB  GLN A  26      -6.436   1.801  -3.783  1.00  0.00           C  \\nATOM    408  CG  GLN A  26      -6.599   2.950  -2.802  1.00  0.00           C  \\nATOM    409  CD  GLN A  26      -5.267   3.505  -2.335  1.00  0.00           C  \\nATOM    410  OE1 GLN A  26      -4.204   3.033  -2.744  1.00  0.00           O  \\nATOM    411  NE2 GLN A  26      -5.319   4.514  -1.474  1.00  0.00           N  \\nATOM    412  H   GLN A  26      -4.453   3.081  -2.821  1.00  0.00           H  \\nATOM    413  HA  GLN A  26      -4.799   0.415  -3.787  1.00  0.00           H  \\nATOM    414 1HB  GLN A  26      -6.950   2.071  -4.706  1.00  0.00           H  \\nATOM    415 2HB  GLN A  26      -6.943   0.930  -3.369  1.00  0.00           H  \\nATOM    416 1HG  GLN A  26      -7.154   3.752  -3.288  1.00  0.00           H  \\nATOM    417 2HG  GLN A  26      -7.147   2.593  -1.930  1.00  0.00           H  \\nATOM    418 1HE2 GLN A  26      -4.472   4.923  -1.130  1.00  0.00           H  \\nATOM    419 2HE2 GLN A  26      -6.203   4.868  -1.167  1.00  0.00           H  \\nATOM    420  N   ASN A  27      -4.546   2.756  -6.086  1.00  0.00           N  \\nATOM    421  CA  ASN A  27      -4.263   2.978  -7.499  1.00  0.00           C  \\nATOM    422  C   ASN A  27      -2.912   2.393  -7.889  1.00  0.00           C  \\nATOM    423  O   ASN A  27      -2.789   1.720  -8.913  1.00  0.00           O  \\nATOM    424  CB  ASN A  27      -4.318   4.459  -7.829  1.00  0.00           C  \\nATOM    425  CG  ASN A  27      -4.647   5.305  -6.630  1.00  0.00           C  \\nATOM    426  OD1 ASN A  27      -4.838   4.788  -5.523  1.00  0.00           O  \\nATOM    427  ND2 ASN A  27      -4.714   6.597  -6.828  1.00  0.00           N  \\nATOM    428  H   ASN A  27      -4.601   3.550  -5.465  1.00  0.00           H  \\nATOM    429  HA  ASN A  27      -5.022   2.463  -8.090  1.00  0.00           H  \\nATOM    430 1HB  ASN A  27      -3.357   4.779  -8.232  1.00  0.00           H  \\nATOM    431 2HB  ASN A  27      -5.071   4.632  -8.598  1.00  0.00           H  \\nATOM    432 1HD2 ASN A  27      -4.928   7.209  -6.066  1.00  0.00           H  \\nATOM    433 2HD2 ASN A  27      -4.552   6.972  -7.740  1.00  0.00           H  \\nATOM    434  N   LEU A  28      -1.900   2.653  -7.068  1.00  0.00           N  \\nATOM    435  CA  LEU A  28      -0.558   2.144  -7.322  1.00  0.00           C  \\nATOM    436  C   LEU A  28      -0.537   0.622  -7.325  1.00  0.00           C  \\nATOM    437  O   LEU A  28       0.155   0.003  -8.132  1.00  0.00           O  \\nATOM    438  CB  LEU A  28       0.418   2.674  -6.263  1.00  0.00           C  \\nATOM    439  CG  LEU A  28      -0.192   3.593  -5.196  1.00  0.00           C  \\nATOM    440  CD1 LEU A  28      -1.681   3.761  -5.463  1.00  0.00           C  \\nATOM    441  CD2 LEU A  28       0.054   3.002  -3.816  1.00  0.00           C  \\nATOM    442  H   LEU A  28      -2.066   3.217  -6.247  1.00  0.00           H  \\nATOM    443  HA  LEU A  28      -0.235   2.495  -8.302  1.00  0.00           H  \\nATOM    444 1HB  LEU A  28       0.868   1.826  -5.750  1.00  0.00           H  \\nATOM    445 2HB  LEU A  28       1.208   3.230  -6.766  1.00  0.00           H  \\nATOM    446  HG  LEU A  28       0.271   4.578  -5.257  1.00  0.00           H  \\nATOM    447 1HD1 LEU A  28      -2.115   4.415  -4.705  1.00  0.00           H  \\nATOM    448 2HD1 LEU A  28      -1.828   4.204  -6.448  1.00  0.00           H  \\nATOM    449 3HD1 LEU A  28      -2.170   2.788  -5.424  1.00  0.00           H  \\nATOM    450 1HD2 LEU A  28      -0.379   3.655  -3.058  1.00  0.00           H  \\nATOM    451 2HD2 LEU A  28      -0.410   2.017  -3.754  1.00  0.00           H  \\nATOM    452 3HD2 LEU A  28       1.127   2.909  -3.646  1.00  0.00           H  \\nATOM    453  N   LYS A  29      -1.299   0.023  -6.416  1.00  0.00           N  \\nATOM    454  CA  LYS A  29      -1.381  -1.430  -6.321  1.00  0.00           C  \\nATOM    455  C   LYS A  29      -1.900  -2.037  -7.619  1.00  0.00           C  \\nATOM    456  O   LYS A  29      -1.387  -3.054  -8.088  1.00  0.00           O  \\nATOM    457  CB  LYS A  29      -2.278  -1.841  -5.153  1.00  0.00           C  \\nATOM    458  CG  LYS A  29      -2.868  -0.674  -4.372  1.00  0.00           C  \\nATOM    459  CD  LYS A  29      -2.417   0.660  -4.947  1.00  0.00           C  \\nATOM    460  CE  LYS A  29      -1.501   0.466  -6.147  1.00  0.00           C  \\nATOM    461  NZ  LYS A  29      -1.280  -0.974  -6.450  1.00  0.00           N  \\nATOM    462  H   LYS A  29      -1.835   0.589  -5.773  1.00  0.00           H  \\nATOM    463  HA  LYS A  29      -0.379  -1.822  -6.147  1.00  0.00           H  \\nATOM    464 1HB  LYS A  29      -3.105  -2.446  -5.525  1.00  0.00           H  \\nATOM    465 2HB  LYS A  29      -1.709  -2.457  -4.456  1.00  0.00           H  \\nATOM    466 1HG  LYS A  29      -3.957  -0.726  -4.405  1.00  0.00           H  \\nATOM    467 2HG  LYS A  29      -2.552  -0.737  -3.331  1.00  0.00           H  \\nATOM    468 1HD  LYS A  29      -3.291   1.236  -5.257  1.00  0.00           H  \\nATOM    469 2HD  LYS A  29      -1.884   1.224  -4.183  1.00  0.00           H  \\nATOM    470 1HE  LYS A  29      -1.940   0.945  -7.020  1.00  0.00           H  \\nATOM    471 2HE  LYS A  29      -0.538   0.934  -5.947  1.00  0.00           H  \\nATOM    472 1HZ  LYS A  29      -0.669  -1.060  -7.249  1.00  0.00           H  \\nATOM    473 2HZ  LYS A  29      -0.856  -1.426  -5.652  1.00  0.00           H  \\nATOM    474 3HZ  LYS A  29      -2.164  -1.416  -6.655  1.00  0.00           H  \\nATOM    475  N   LYS A  30      -2.919  -1.409  -8.195  1.00  0.00           N  \\nATOM    476  CA  LYS A  30      -3.500  -1.879  -9.447  1.00  0.00           C  \\nATOM    477  C   LYS A  30      -2.617  -1.515 -10.634  1.00  0.00           C  \\nATOM    478  O   LYS A  30      -2.585  -2.227 -11.637  1.00  0.00           O  \\nATOM    479  CB  LYS A  30      -4.902  -1.299  -9.637  1.00  0.00           C  \\nATOM    480  CG  LYS A  30      -5.365  -0.388  -8.508  1.00  0.00           C  \\nATOM    481  CD  LYS A  30      -4.300  -0.261  -7.428  1.00  0.00           C  \\nATOM    482  CE  LYS A  30      -3.064  -1.080  -7.771  1.00  0.00           C  \\nATOM    483  NZ  LYS A  30      -3.210  -1.792  -9.068  1.00  0.00           N  \\nATOM    484  H   LYS A  30      -3.300  -0.584  -7.754  1.00  0.00           H  \\nATOM    485  HA  LYS A  30      -3.574  -2.965  -9.408  1.00  0.00           H  \\nATOM    486 1HB  LYS A  30      -4.937  -0.727 -10.565  1.00  0.00           H  \\nATOM    487 2HB  LYS A  30      -5.623  -2.113  -9.726  1.00  0.00           H  \\nATOM    488 1HG  LYS A  30      -5.585   0.604  -8.908  1.00  0.00           H  \\nATOM    489 2HG  LYS A  30      -6.274  -0.791  -8.064  1.00  0.00           H  \\nATOM    490 1HD  LYS A  30      -4.014   0.786  -7.320  1.00  0.00           H  \\nATOM    491 2HD  LYS A  30      -4.703  -0.609  -6.477  1.00  0.00           H  \\nATOM    492 1HE  LYS A  30      -2.197  -0.422  -7.826  1.00  0.00           H  \\nATOM    493 2HE  LYS A  30      -2.886  -1.814  -6.985  1.00  0.00           H  \\nATOM    494 1HZ  LYS A  30      -2.371  -2.323  -9.257  1.00  0.00           H  \\nATOM    495 2HZ  LYS A  30      -4.001  -2.420  -9.022  1.00  0.00           H  \\nATOM    496 3HZ  LYS A  30      -3.357  -1.120  -9.807  1.00  0.00           H  \\nATOM    497  N   GLU A  31      -1.902  -0.401 -10.514  1.00  0.00           N  \\nATOM    498  CA  GLU A  31      -1.072   0.096 -11.604  1.00  0.00           C  \\nATOM    499  C   GLU A  31       0.349  -0.447 -11.507  1.00  0.00           C  \\nATOM    500  O   GLU A  31       1.045  -0.576 -12.514  1.00  0.00           O  \\nATOM    501  CB  GLU A  31      -1.044   1.627 -11.598  1.00  0.00           C  \\nATOM    502  CG  GLU A  31      -1.866   2.265 -10.488  1.00  0.00           C  \\nATOM    503  CD  GLU A  31      -2.548   1.255  -9.610  1.00  0.00           C  \\nATOM    504  OE1 GLU A  31      -2.391   0.083  -9.852  1.00  0.00           O  \\nATOM    505  OE2 GLU A  31      -3.230   1.655  -8.694  1.00  0.00           O  \\nATOM    506  H   GLU A  31      -1.935   0.113  -9.646  1.00  0.00           H  \\nATOM    507  HA  GLU A  31      -1.500  -0.241 -12.549  1.00  0.00           H  \\nATOM    508 1HB  GLU A  31      -0.015   1.972 -11.493  1.00  0.00           H  \\nATOM    509 2HB  GLU A  31      -1.419   2.001 -12.550  1.00  0.00           H  \\nATOM    510 1HG  GLU A  31      -1.212   2.881  -9.873  1.00  0.00           H  \\nATOM    511 2HG  GLU A  31      -2.617   2.918 -10.935  1.00  0.00           H  \\nATOM    512  N   LYS A  32       0.773  -0.763 -10.288  1.00  0.00           N  \\nATOM    513  CA  LYS A  32       2.128  -1.249 -10.051  1.00  0.00           C  \\nATOM    514  C   LYS A  32       2.113  -2.663  -9.485  1.00  0.00           C  \\nATOM    515  O   LYS A  32       1.285  -2.995  -8.637  1.00  0.00           O  \\nATOM    516  CB  LYS A  32       2.875  -0.310  -9.102  1.00  0.00           C  \\nATOM    517  CG  LYS A  32       2.061   0.887  -8.631  1.00  0.00           C  \\nATOM    518  CD  LYS A  32       0.661   0.873  -9.226  1.00  0.00           C  \\nATOM    519  CE  LYS A  32       0.456  -0.334 -10.130  1.00  0.00           C  \\nATOM    520  NZ  LYS A  32       1.671  -1.189 -10.201  1.00  0.00           N  \\nATOM    521  H   LYS A  32       0.141  -0.664  -9.506  1.00  0.00           H  \\nATOM    522  HA  LYS A  32       2.657  -1.276 -11.003  1.00  0.00           H  \\nATOM    523 1HB  LYS A  32       3.195  -0.865  -8.219  1.00  0.00           H  \\nATOM    524 2HB  LYS A  32       3.770   0.067  -9.595  1.00  0.00           H  \\nATOM    525 1HG  LYS A  32       1.983   0.870  -7.543  1.00  0.00           H  \\nATOM    526 2HG  LYS A  32       2.562   1.808  -8.927  1.00  0.00           H  \\nATOM    527 1HD  LYS A  32      -0.077   0.844  -8.423  1.00  0.00           H  \\nATOM    528 2HD  LYS A  32       0.503   1.781  -9.808  1.00  0.00           H  \\nATOM    529 1HE  LYS A  32      -0.374  -0.932  -9.755  1.00  0.00           H  \\nATOM    530 2HE  LYS A  32       0.206   0.003 -11.137  1.00  0.00           H  \\nATOM    531 1HZ  LYS A  32       1.495  -1.976 -10.809  1.00  0.00           H  \\nATOM    532 2HZ  LYS A  32       2.443  -0.649 -10.566  1.00  0.00           H  \\nATOM    533 3HZ  LYS A  32       1.902  -1.524  -9.277  1.00  0.00           H  \\nATOM    534  N   LEU A  33       3.036  -3.493  -9.961  1.00  0.00           N  \\nATOM    535  CA  LEU A  33       3.108  -4.885  -9.531  1.00  0.00           C  \\nATOM    536  C   LEU A  33       3.962  -5.031  -8.277  1.00  0.00           C  \\nATOM    537  O   LEU A  33       5.188  -5.115  -8.357  1.00  0.00           O  \\nATOM    538  CB  LEU A  33       3.683  -5.757 -10.653  1.00  0.00           C  \\nATOM    539  CG  LEU A  33       4.051  -5.019 -11.947  1.00  0.00           C  \\nATOM    540  CD1 LEU A  33       3.740  -3.537 -11.792  1.00  0.00           C  \\nATOM    541  CD2 LEU A  33       5.524  -5.240 -12.257  1.00  0.00           C  \\nATOM    542  H   LEU A  33       3.704  -3.152 -10.637  1.00  0.00           H  \\nATOM    543  HA  LEU A  33       2.100  -5.229  -9.301  1.00  0.00           H  \\nATOM    544 1HB  LEU A  33       4.583  -6.248 -10.286  1.00  0.00           H  \\nATOM    545 2HB  LEU A  33       2.953  -6.525 -10.906  1.00  0.00           H  \\nATOM    546  HG  LEU A  33       3.446  -5.402 -12.769  1.00  0.00           H  \\nATOM    547 1HD1 LEU A  33       4.002  -3.012 -12.711  1.00  0.00           H  \\nATOM    548 2HD1 LEU A  33       2.677  -3.406 -11.590  1.00  0.00           H  \\nATOM    549 3HD1 LEU A  33       4.320  -3.128 -10.965  1.00  0.00           H  \\nATOM    550 1HD2 LEU A  33       5.785  -4.717 -13.177  1.00  0.00           H  \\nATOM    551 2HD2 LEU A  33       6.130  -4.856 -11.436  1.00  0.00           H  \\nATOM    552 3HD2 LEU A  33       5.714  -6.306 -12.380  1.00  0.00           H  \\nATOM    553  N   LEU A  34       3.307  -5.061  -7.122  1.00  0.00           N  \\nATOM    554  CA  LEU A  34       4.002  -5.247  -5.853  1.00  0.00           C  \\nATOM    555  C   LEU A  34       4.030  -6.716  -5.452  1.00  0.00           C  \\nATOM    556  O   LEU A  34       3.092  -7.464  -5.730  1.00  0.00           O  \\nATOM    557  CB  LEU A  34       3.323  -4.423  -4.752  1.00  0.00           C  \\nATOM    558  CG  LEU A  34       2.102  -3.603  -5.190  1.00  0.00           C  \\nATOM    559  CD1 LEU A  34       1.854  -3.819  -6.677  1.00  0.00           C  \\nATOM    560  CD2 LEU A  34       0.892  -4.016  -4.367  1.00  0.00           C  \\nATOM    561  H   LEU A  34       2.303  -4.951  -7.122  1.00  0.00           H  \\nATOM    562  HA  LEU A  34       5.029  -4.902  -5.967  1.00  0.00           H  \\nATOM    563 1HB  LEU A  34       3.001  -5.099  -3.960  1.00  0.00           H  \\nATOM    564 2HB  LEU A  34       4.055  -3.731  -4.335  1.00  0.00           H  \\nATOM    565  HG  LEU A  34       2.302  -2.543  -5.036  1.00  0.00           H  \\nATOM    566 1HD1 LEU A  34       0.987  -3.236  -6.989  1.00  0.00           H  \\nATOM    567 2HD1 LEU A  34       2.728  -3.497  -7.242  1.00  0.00           H  \\nATOM    568 3HD1 LEU A  34       1.667  -4.875  -6.865  1.00  0.00           H  \\nATOM    569 1HD2 LEU A  34       0.024  -3.432  -4.679  1.00  0.00           H  \\nATOM    570 2HD2 LEU A  34       0.690  -5.076  -4.522  1.00  0.00           H  \\nATOM    571 3HD2 LEU A  34       1.090  -3.834  -3.311  1.00  0.00           H  \\nATOM    572  N   PHE A  35       5.110  -7.125  -4.797  1.00  0.00           N  \\nATOM    573  CA  PHE A  35       5.283  -8.516  -4.394  1.00  0.00           C  \\nATOM    574  C   PHE A  35       4.371  -8.869  -3.226  1.00  0.00           C  \\nATOM    575  O   PHE A  35       3.214  -9.120  -3.424  1.00  0.00           O  \\nATOM    576  OXT PHE A  35       4.810  -8.896  -2.110  1.00  0.00           O  \\nATOM    577  CB  PHE A  35       6.739  -8.784  -4.010  1.00  0.00           C  \\nATOM    578  CG  PHE A  35       7.631  -7.581  -4.133  1.00  0.00           C  \\nATOM    579  CD1 PHE A  35       7.122  -6.364  -4.562  1.00  0.00           C  \\nATOM    580  CD2 PHE A  35       8.979  -7.664  -3.822  1.00  0.00           C  \\nATOM    581  CE1 PHE A  35       7.940  -5.257  -4.676  1.00  0.00           C  \\nATOM    582  CE2 PHE A  35       9.800  -6.558  -3.934  1.00  0.00           C  \\nATOM    583  CZ  PHE A  35       9.279  -5.353  -4.362  1.00  0.00           C  \\nATOM    584  H   PHE A  35       5.832  -6.455  -4.570  1.00  0.00           H  \\nATOM    585  HA  PHE A  35       5.022  -9.155  -5.239  1.00  0.00           H  \\nATOM    586 1HB  PHE A  35       6.785  -9.137  -2.981  1.00  0.00           H  \\nATOM    587 2HB  PHE A  35       7.143  -9.573  -4.644  1.00  0.00           H  \\nATOM    588  HD1 PHE A  35       6.062  -6.287  -4.810  1.00  0.00           H  \\nATOM    589  HD2 PHE A  35       9.390  -8.615  -3.484  1.00  0.00           H  \\nATOM    590  HE1 PHE A  35       7.527  -4.307  -5.014  1.00  0.00           H  \\nATOM    591  HE2 PHE A  35      10.858  -6.636  -3.685  1.00  0.00           H  \\nATOM    592  HZ  PHE A  35       9.925  -4.481  -4.452  1.00  0.00           H  \\nTER     593      PHE A  35                                                       \\nEND   \\n\",\"pdb\");\n",
              "\tviewer_16050643429269176.addModel(\"HELIX    1   1 ASP B    4  PHE B   11  1                                   8\\nHELIX    2   2 ARG B   15  PHE B   18  1                                   4\\nHELIX    3   3 LEU B   23  GLU B   32  1                                  10\\nCRYST1    1.000    1.000    1.000  90.00  90.00  90.00 P 1           1\\nATOM      1  N   MET B   1      -8.009 -10.438   5.112  1.00  0.00           N\\nATOM      2  CA  MET B   1      -7.245 -10.440   3.870  1.00 52.33           C\\nATOM      3  C   MET B   1      -5.765 -10.188   4.141  1.00 42.50           C\\nATOM      4  O   MET B   1      -4.896 -10.793   3.511  1.00 31.23           O\\nATOM      5  CB  MET B   1      -7.787  -9.379   2.911  1.00 74.12           C\\nATOM      6  CG  MET B   1      -8.504  -9.960   1.703  1.00 52.20           C\\nATOM      7  SD  MET B   1     -10.214  -9.403   1.575  1.00 40.21           S\\nATOM      8  CE  MET B   1     -10.795 -10.404   0.209  1.00 62.43           C\\nATOM      9  H1  MET B   1      -8.987 -10.611   4.908  1.00  0.00           H\\nATOM     10  H2  MET B   1      -7.660 -11.165   5.728  1.00  0.00           H\\nATOM     11  H3  MET B   1      -7.912  -9.537   5.567  1.00  0.00           H\\nATOM     12  HA  MET B   1      -7.355 -11.413   3.415  1.00 42.21           H\\nATOM     13  HB2 MET B   1      -8.488  -8.748   3.458  1.00  0.00           H\\nATOM     14  HB3 MET B   1      -6.965  -8.775   2.557  1.00 23.15           H\\nATOM     15  HG2 MET B   1      -7.970  -9.668   0.799  1.00  0.00           H\\nATOM     16  HG3 MET B   1      -8.495 -11.037   1.781  1.00 10.23           H\\nATOM     17  HE1 MET B   1     -11.560  -9.867  -0.332  1.00 50.14           H\\nATOM     18  HE2 MET B   1      -9.971 -10.622  -0.454  1.00 21.12           H\\nATOM     19  HE3 MET B   1     -11.206 -11.329   0.590  1.00 51.05           H\\nATOM     20  N   LEU B   2      -5.485  -9.292   5.081  1.00 62.13           N\\nATOM     21  CA  LEU B   2      -4.109  -8.960   5.435  1.00  3.12           C\\nATOM     22  C   LEU B   2      -4.052  -8.230   6.773  1.00 14.14           C\\nATOM     23  O   LEU B   2      -4.654  -7.168   6.939  1.00 63.24           O\\nATOM     24  CB  LEU B   2      -3.474  -8.097   4.343  1.00 15.34           C\\nATOM     25  CG  LEU B   2      -2.000  -8.371   4.043  1.00 72.15           C\\nATOM     26  CD1 LEU B   2      -1.865  -9.444   2.973  1.00  0.23           C\\nATOM     27  CD2 LEU B   2      -1.298  -7.093   3.610  1.00  1.41           C\\nATOM     28  H   LEU B   2      -6.219  -8.843   5.548  1.00 41.10           H\\nATOM     29  HA  LEU B   2      -3.557  -9.884   5.519  1.00  4.11           H\\nATOM     30  HB2 LEU B   2      -4.037  -8.256   3.423  1.00  0.00           H\\nATOM     31  HB3 LEU B   2      -3.565  -7.063   4.646  1.00 31.21           H\\nATOM     32  HG  LEU B   2      -1.518  -8.733   4.940  1.00  2.41           H\\nATOM     33 HD11 LEU B   2      -2.836  -9.661   2.555  1.00  0.42           H\\nATOM     34 HD12 LEU B   2      -1.454 -10.341   3.413  1.00 11.14           H\\nATOM     35 HD13 LEU B   2      -1.207  -9.092   2.193  1.00 62.45           H\\nATOM     36 HD21 LEU B   2      -0.305  -7.330   3.257  1.00  2.33           H\\nATOM     37 HD22 LEU B   2      -1.229  -6.418   4.451  1.00  0.41           H\\nATOM     38 HD23 LEU B   2      -1.860  -6.623   2.816  1.00 24.43           H\\nATOM     39  N   SER B   3      -3.325  -8.805   7.725  1.00 30.43           N\\nATOM     40  CA  SER B   3      -3.191  -8.210   9.050  1.00 61.31           C\\nATOM     41  C   SER B   3      -2.619  -6.799   8.956  1.00 34.13           C\\nATOM     42  O   SER B   3      -1.963  -6.447   7.976  1.00 21.33           O\\nATOM     43  CB  SER B   3      -2.294  -9.079   9.934  1.00 72.42           C\\nATOM     44  OG  SER B   3      -3.031  -9.659  10.995  1.00 10.24           O\\nATOM     45  H   SER B   3      -2.869  -9.652   7.533  1.00 74.14           H\\nATOM     46  HA  SER B   3      -4.175  -8.159   9.491  1.00 32.43           H\\nATOM     47  HB2 SER B   3      -1.857  -9.872   9.328  1.00  0.00           H\\nATOM     48  HB3 SER B   3      -1.505  -8.469  10.350  1.00 33.42           H\\nATOM     49  HG  SER B   3      -3.757 -10.175  10.637  1.00 62.13           H\\nATOM     50  N   ASP B   4      -2.875  -5.996   9.983  1.00 43.54           N\\nATOM     51  CA  ASP B   4      -2.385  -4.621  10.018  1.00 35.51           C\\nATOM     52  C   ASP B   4      -0.863  -4.586   9.938  1.00 44.33           C\\nATOM     53  O   ASP B   4      -0.288  -3.719   9.279  1.00 62.20           O\\nATOM     54  CB  ASP B   4      -2.858  -3.923  11.294  1.00 51.35           C\\nATOM     55  CG  ASP B   4      -2.235  -2.551  11.467  1.00 73.55           C\\nATOM     56  OD1 ASP B   4      -1.290  -2.426  12.273  1.00  1.10           O\\nATOM     57  OD2 ASP B   4      -2.693  -1.603  10.795  1.00 71.21           O\\nATOM     58  H   ASP B   4      -3.405  -6.334  10.735  1.00 41.12           H\\nATOM     59  HA  ASP B   4      -2.791  -4.103   9.163  1.00 62.32           H\\nATOM     60  HB2 ASP B   4      -3.942  -3.814  11.254  1.00  0.00           H\\nATOM     61  HB3 ASP B   4      -2.594  -4.528  12.148  1.00 74.44           H\\nATOM     62  HD2 ASP B   4      -2.252  -0.765  10.954  1.00  0.00           H\\nATOM     63  N   GLU B   5      -0.216  -5.531  10.613  1.00 10.13           N\\nATOM     64  CA  GLU B   5       1.240  -5.604  10.619  1.00 24.41           C\\nATOM     65  C   GLU B   5       1.767  -6.059   9.261  1.00  2.52           C\\nATOM     66  O   GLU B   5       2.820  -5.607   8.809  1.00 72.41           O\\nATOM     67  CB  GLU B   5       1.720  -6.561  11.712  1.00 72.43           C\\nATOM     68  CG  GLU B   5       1.774  -5.931  13.093  1.00 45.30           C\\nATOM     69  CD  GLU B   5       3.113  -5.280  13.385  1.00 54.34           C\\nATOM     70  OE1 GLU B   5       4.132  -6.002  13.402  1.00 33.22           O\\nATOM     71  OE2 GLU B   5       3.141  -4.049  13.595  1.00 24.32           O\\nATOM     72  H   GLU B   5      -0.731  -6.193  11.120  1.00 65.10           H\\nATOM     73  HA  GLU B   5       1.621  -4.616  10.827  1.00 42.40           H\\nATOM     74  HB2 GLU B   5       1.038  -7.411  11.748  1.00  0.00           H\\nATOM     75  HB3 GLU B   5       2.711  -6.909  11.458  1.00 21.55           H\\nATOM     76  HG2 GLU B   5       0.993  -5.174  13.164  1.00  0.00           H\\nATOM     77  HG3 GLU B   5       1.595  -6.698  13.832  1.00  1.32           H\\nATOM     78  HE2 GLU B   5       4.019  -3.705  13.773  1.00  0.00           H\\nATOM     79  N   ASP B   6       1.029  -6.955   8.617  1.00 61.41           N\\nATOM     80  CA  ASP B   6       1.420  -7.472   7.311  1.00 65.34           C\\nATOM     81  C   ASP B   6       1.391  -6.368   6.259  1.00 54.04           C\\nATOM     82  O   ASP B   6       2.069  -6.453   5.235  1.00 63.32           O\\nATOM     83  CB  ASP B   6       0.495  -8.617   6.893  1.00 42.24           C\\nATOM     84  CG  ASP B   6       1.019  -9.373   5.688  1.00 55.34           C\\nATOM     85  OD1 ASP B   6       1.583 -10.471   5.875  1.00 31.04           O\\nATOM     86  OD2 ASP B   6       0.863  -8.867   4.557  1.00 72.44           O\\nATOM     87  H   ASP B   6       0.200  -7.277   9.029  1.00 34.45           H\\nATOM     88  HA  ASP B   6       2.429  -7.848   7.391  1.00 14.24           H\\nATOM     89  HB2 ASP B   6       0.396  -9.310   7.728  1.00  0.00           H\\nATOM     90  HB3 ASP B   6      -0.476  -8.214   6.649  1.00 54.23           H\\nATOM     91  HD2 ASP B   6       1.217  -9.399   3.841  1.00  0.00           H\\nATOM     92  N   PHE B   7       0.600  -5.332   6.517  1.00 31.23           N\\nATOM     93  CA  PHE B   7       0.481  -4.212   5.592  1.00 53.21           C\\nATOM     94  C   PHE B   7       1.849  -3.614   5.282  1.00  0.32           C\\nATOM     95  O   PHE B   7       2.177  -3.347   4.125  1.00 32.24           O\\nATOM     96  CB  PHE B   7      -0.438  -3.136   6.176  1.00 54.22           C\\nATOM     97  CG  PHE B   7      -0.727  -2.012   5.222  1.00 23.14           C\\nATOM     98  CD1 PHE B   7       0.200  -1.002   5.021  1.00 54.35           C\\nATOM     99  CD2 PHE B   7      -1.925  -1.965   4.528  1.00 11.15           C\\nATOM    100  CE1 PHE B   7      -0.062   0.034   4.144  1.00 71.44           C\\nATOM    101  CE2 PHE B   7      -2.193  -0.932   3.650  1.00 32.40           C\\nATOM    102  CZ  PHE B   7      -1.261   0.069   3.458  1.00  3.22           C\\nATOM    103  H   PHE B   7       0.083  -5.321   7.351  1.00 65.43           H\\nATOM    104  HA  PHE B   7       0.048  -4.584   4.676  1.00 12.31           H\\nATOM    105  HB2 PHE B   7      -1.380  -3.602   6.464  1.00  0.00           H\\nATOM    106  HB3 PHE B   7       0.026  -2.716   7.056  1.00 74.14           H\\nATOM    107  HD1 PHE B   7       1.138  -1.029   5.557  1.00 70.02           H\\nATOM    108  HD2 PHE B   7      -2.655  -2.746   4.678  1.00 33.51           H\\nATOM    109  HE1 PHE B   7       0.669   0.815   3.996  1.00 32.22           H\\nATOM    110  HE2 PHE B   7      -3.131  -0.906   3.116  1.00 72.24           H\\nATOM    111  HZ  PHE B   7      -1.467   0.877   2.772  1.00 35.32           H\\nATOM    112  N   LYS B   8       2.646  -3.404   6.325  1.00 45.24           N\\nATOM    113  CA  LYS B   8       3.981  -2.838   6.167  1.00 41.04           C\\nATOM    114  C   LYS B   8       4.918  -3.835   5.494  1.00 44.00           C\\nATOM    115  O   LYS B   8       5.927  -3.452   4.901  1.00 15.41           O\\nATOM    116  CB  LYS B   8       4.547  -2.427   7.528  1.00 70.25           C\\nATOM    117  CG  LYS B   8       5.934  -1.812   7.449  1.00 72.43           C\\nATOM    118  CD  LYS B   8       6.434  -1.386   8.819  1.00 42.01           C\\nATOM    119  CE  LYS B   8       7.292  -2.467   9.459  1.00  1.23           C\\nATOM    120  NZ  LYS B   8       6.560  -3.192  10.534  1.00 50.31           N\\nATOM    121  H   LYS B   8       2.329  -3.636   7.223  1.00 55.21           H\\nATOM    122  HA  LYS B   8       3.898  -1.962   5.541  1.00 31.13           H\\nATOM    123  HB2 LYS B   8       3.872  -1.697   7.975  1.00  0.00           H\\nATOM    124  HB3 LYS B   8       4.599  -3.301   8.161  1.00 44.00           H\\nATOM    125  HG2 LYS B   8       6.624  -2.546   7.033  1.00  0.00           H\\nATOM    126  HG3 LYS B   8       5.897  -0.946   6.804  1.00 70.04           H\\nATOM    127  HD2 LYS B   8       7.028  -0.478   8.714  1.00  0.00           H\\nATOM    128  HD3 LYS B   8       5.584  -1.188   9.457  1.00 22.20           H\\nATOM    129  HE2 LYS B   8       7.594  -3.180   8.693  1.00  0.00           H\\nATOM    130  HE3 LYS B   8       8.172  -2.005   9.883  1.00 11.42           H\\nATOM    131  HZ1 LYS B   8       5.740  -2.633  10.847  1.00 25.43           H\\nATOM    132  HZ2 LYS B   8       7.187  -3.352  11.348  1.00 62.32           H\\nATOM    133  HZ3 LYS B   8       6.226  -4.111  10.181  1.00 73.22           H\\nATOM    134  N   ALA B   9       4.579  -5.117   5.589  1.00 12.11           N\\nATOM    135  CA  ALA B   9       5.389  -6.168   4.987  1.00 63.22           C\\nATOM    136  C   ALA B   9       5.254  -6.163   3.468  1.00 65.12           C\\nATOM    137  O   ALA B   9       6.240  -6.317   2.746  1.00 23.15           O\\nATOM    138  CB  ALA B   9       4.994  -7.525   5.549  1.00 64.52           C\\nATOM    139  H   ALA B   9       3.764  -5.360   6.075  1.00 51.32           H\\nATOM    140  HA  ALA B   9       6.422  -5.984   5.247  1.00 34.22           H\\nATOM    141  HB1 ALA B   9       5.091  -7.510   6.625  1.00 71.32           H\\nATOM    142  HB2 ALA B   9       3.970  -7.742   5.282  1.00 61.03           H\\nATOM    143  HB3 ALA B   9       5.642  -8.286   5.140  1.00 62.33           H\\nATOM    144  N   VAL B  10       4.028  -5.985   2.988  1.00 55.12           N\\nATOM    145  CA  VAL B  10       3.764  -5.959   1.554  1.00 11.50           C\\nATOM    146  C   VAL B  10       4.128  -4.606   0.953  1.00 73.25           C\\nATOM    147  O   VAL B  10       4.645  -4.529  -0.162  1.00 22.41           O\\nATOM    148  CB  VAL B  10       2.285  -6.262   1.250  1.00 63.43           C\\nATOM    149  CG1 VAL B  10       1.940  -5.865  -0.177  1.00 43.43           C\\nATOM    150  CG2 VAL B  10       1.983  -7.735   1.489  1.00 42.44           C\\nATOM    151  H   VAL B  10       3.282  -5.867   3.613  1.00 71.31           H\\nATOM    152  HA  VAL B  10       4.370  -6.723   1.089  1.00 33.13           H\\nATOM    153  HB  VAL B  10       1.672  -5.678   1.921  1.00 44.33           H\\nATOM    154 HG11 VAL B  10       2.034  -4.794  -0.284  1.00 52.41           H\\nATOM    155 HG12 VAL B  10       2.616  -6.356  -0.862  1.00 32.13           H\\nATOM    156 HG13 VAL B  10       0.926  -6.160  -0.398  1.00 53.03           H\\nATOM    157 HG21 VAL B  10       2.480  -8.061   2.390  1.00 20.43           H\\nATOM    158 HG22 VAL B  10       0.917  -7.871   1.595  1.00 31.23           H\\nATOM    159 HG23 VAL B  10       2.339  -8.315   0.651  1.00 60.42           H\\nATOM    160  N   PHE B  11       3.855  -3.541   1.698  1.00 74.00           N\\nATOM    161  CA  PHE B  11       4.153  -2.189   1.238  1.00 33.14           C\\nATOM    162  C   PHE B  11       5.643  -2.028   0.953  1.00 12.21           C\\nATOM    163  O   PHE B  11       6.034  -1.403  -0.032  1.00 34.40           O\\nATOM    164  CB  PHE B  11       3.707  -1.162   2.282  1.00 24.54           C\\nATOM    165  CG  PHE B  11       2.550  -0.316   1.836  1.00 71.45           C\\nATOM    166  CD1 PHE B  11       1.484  -0.881   1.154  1.00 54.40           C\\nATOM    167  CD2 PHE B  11       2.528   1.044   2.097  1.00 31.14           C\\nATOM    168  CE1 PHE B  11       0.419  -0.104   0.741  1.00 51.00           C\\nATOM    169  CE2 PHE B  11       1.464   1.827   1.687  1.00 25.43           C\\nATOM    170  CZ  PHE B  11       0.409   1.252   1.009  1.00 34.00           C\\nATOM    171  H   PHE B  11       3.441  -3.666   2.578  1.00 32.32           H\\nATOM    172  HA  PHE B  11       3.603  -2.022   0.325  1.00 42.32           H\\nATOM    173  HB2 PHE B  11       3.422  -1.692   3.191  1.00  0.00           H\\nATOM    174  HB3 PHE B  11       4.534  -0.506   2.506  1.00 64.33           H\\nATOM    175  HD1 PHE B  11       1.490  -1.940   0.945  1.00 61.25           H\\nATOM    176  HD2 PHE B  11       3.355   1.495   2.629  1.00 52.14           H\\nATOM    177  HE1 PHE B  11      -0.407  -0.555   0.211  1.00 24.21           H\\nATOM    178  HE2 PHE B  11       1.460   2.886   1.899  1.00 64.44           H\\nATOM    179  HZ  PHE B  11      -0.424   1.861   0.687  1.00  5.01           H\\nATOM    180  N   GLY B  12       6.471  -2.596   1.824  1.00 31.23           N\\nATOM    181  CA  GLY B  12       7.908  -2.504   1.650  1.00 65.03           C\\nATOM    182  C   GLY B  12       8.504  -1.309   2.367  1.00 44.01           C\\nATOM    183  O   GLY B  12       9.666  -1.336   2.772  1.00 62.00           O\\nATOM    184  H   GLY B  12       6.102  -3.083   2.592  1.00 42.43           H\\nATOM    185  HA2 GLY B  12       8.365  -3.405   2.032  1.00  3.02           H\\nATOM    186  HA3 GLY B  12       8.127  -2.422   0.595  1.00 32.31           H\\nATOM    187  N   MET B  13       7.707  -0.257   2.523  1.00 41.02           N\\nATOM    188  CA  MET B  13       8.164   0.953   3.196  1.00 54.33           C\\nATOM    189  C   MET B  13       7.307   1.249   4.423  1.00 65.23           C\\nATOM    190  O   MET B  13       6.214   0.703   4.576  1.00 23.14           O\\nATOM    191  CB  MET B  13       8.126   2.142   2.234  1.00 55.32           C\\nATOM    192  CG  MET B  13       8.906   3.349   2.728  1.00  4.52           C\\nATOM    193  SD  MET B  13       9.758   4.218   1.398  1.00 44.23           S\\nATOM    194  CE  MET B  13      11.004   3.012   0.950  1.00 64.02           C\\nATOM    195  H   MET B  13       6.790  -0.296   2.178  1.00  4.52           H\\nATOM    196  HA  MET B  13       9.183   0.792   3.513  1.00 31.02           H\\nATOM    197  HB2 MET B  13       8.548   1.826   1.280  1.00  0.00           H\\nATOM    198  HB3 MET B  13       7.097   2.441   2.089  1.00  4.10           H\\nATOM    199  HG2 MET B  13       8.218   4.040   3.216  1.00  0.00           H\\nATOM    200  HG3 MET B  13       9.638   3.016   3.449  1.00 15.44           H\\nATOM    201  HE1 MET B  13      11.277   2.436   1.821  1.00  3.03           H\\nATOM    202  HE2 MET B  13      10.610   2.353   0.191  1.00 62.11           H\\nATOM    203  HE3 MET B  13      11.877   3.522   0.567  1.00 21.22           H\\nATOM    204  N   THR B  14       7.810   2.118   5.295  1.00 22.40           N\\nATOM    205  CA  THR B  14       7.091   2.485   6.509  1.00 63.52           C\\nATOM    206  C   THR B  14       5.656   2.889   6.197  1.00 54.33           C\\nATOM    207  O   THR B  14       5.403   3.993   5.715  1.00 43.31           O\\nATOM    208  CB  THR B  14       7.790   3.642   7.247  1.00 24.10           C\\nATOM    209  OG1 THR B  14       9.205   3.573   7.038  1.00 44.44           O\\nATOM    210  CG2 THR B  14       7.490   3.592   8.738  1.00 44.35           C\\nATOM    211  H   THR B  14       8.685   2.519   5.117  1.00 64.21           H\\nATOM    212  HA  THR B  14       7.079   1.624   7.162  1.00  1.10           H\\nATOM    213  HB  THR B  14       7.420   4.576   6.851  1.00 40.31           H\\nATOM    214  HG1 THR B  14       9.621   4.361   7.396  1.00 55.21           H\\nATOM    215 HG21 THR B  14       6.526   3.133   8.896  1.00 53.03           H\\nATOM    216 HG22 THR B  14       7.480   4.596   9.136  1.00 22.20           H\\nATOM    217 HG23 THR B  14       8.251   3.013   9.238  1.00  1.25           H\\nATOM    218  N   ARG B  15       4.719   1.989   6.475  1.00 74.21           N\\nATOM    219  CA  ARG B  15       3.307   2.253   6.223  1.00 73.21           C\\nATOM    220  C   ARG B  15       2.869   3.554   6.891  1.00 64.43           C\\nATOM    221  O   ARG B  15       1.934   4.212   6.436  1.00  2.12           O\\nATOM    222  CB  ARG B  15       2.450   1.093   6.732  1.00 13.02           C\\nATOM    223  CG  ARG B  15       2.198   1.133   8.231  1.00 63.13           C\\nATOM    224  CD  ARG B  15       0.872   1.802   8.555  1.00 11.13           C\\nATOM    225  NE  ARG B  15      -0.251   1.137   7.900  1.00 53.14           N\\nATOM    226  CZ  ARG B  15      -0.836   0.043   8.374  1.00 13.52           C\\nATOM    227  NH1 ARG B  15      -0.408  -0.505   9.502  1.00  1.04           N\\nATOM    228  NH2 ARG B  15      -1.854  -0.502   7.720  1.00 24.43           N\\nATOM    229  H   ARG B  15       4.982   1.126   6.858  1.00 54.51           H\\nATOM    230  HA  ARG B  15       3.172   2.347   5.156  1.00 72.31           H\\nATOM    231  HB2 ARG B  15       1.489   1.126   6.221  1.00  0.00           H\\nATOM    232  HB3 ARG B  15       2.948   0.164   6.497  1.00 33.05           H\\nATOM    233  HG2 ARG B  15       2.184   0.113   8.616  1.00  0.00           H\\nATOM    234  HG3 ARG B  15       2.996   1.685   8.705  1.00 22.02           H\\nATOM    235  HD2 ARG B  15       0.717   1.776   9.634  1.00  0.00           H\\nATOM    236  HD3 ARG B  15       0.913   2.830   8.226  1.00 21.32           H\\nATOM    237  HE  ARG B  15      -0.584   1.527   7.064  1.00 24.45           H\\nATOM    238 HH11 ARG B  15       0.358  -0.095   9.998  1.00 51.32           H\\nATOM    239 HH12 ARG B  15      -0.851  -1.329   9.858  1.00 13.53           H\\nATOM    240 HH21 ARG B  15      -2.179  -0.092   6.870  1.00 52.44           H\\nATOM    241 HH22 ARG B  15      -2.293  -1.326   8.078  1.00 33.11           H\\nATOM    242  N   SER B  16       3.551   3.916   7.972  1.00 45.40           N\\nATOM    243  CA  SER B  16       3.231   5.135   8.705  1.00 21.01           C\\nATOM    244  C   SER B  16       3.559   6.372   7.873  1.00 33.31           C\\nATOM    245  O   SER B  16       2.765   7.309   7.795  1.00 32.15           O\\nATOM    246  CB  SER B  16       4.000   5.178  10.027  1.00 70.30           C\\nATOM    247  OG  SER B  16       3.180   4.769  11.108  1.00 61.33           O\\nATOM    248  H   SER B  16       4.288   3.349   8.285  1.00 34.04           H\\nATOM    249  HA  SER B  16       2.172   5.127   8.915  1.00 52.33           H\\nATOM    250  HB2 SER B  16       4.860   4.511   9.961  1.00  0.00           H\\nATOM    251  HB3 SER B  16       4.341   6.187  10.210  1.00 15.30           H\\nATOM    252  HG  SER B  16       2.568   4.093  10.807  1.00 15.52           H\\nATOM    253  N   ALA B  17       4.734   6.365   7.253  1.00 50.03           N\\nATOM    254  CA  ALA B  17       5.167   7.484   6.425  1.00 42.52           C\\nATOM    255  C   ALA B  17       4.381   7.538   5.119  1.00 35.05           C\\nATOM    256  O   ALA B  17       4.098   8.616   4.597  1.00 42.04           O\\nATOM    257  CB  ALA B  17       6.659   7.384   6.141  1.00 52.12           C\\nATOM    258  H   ALA B  17       5.323   5.589   7.353  1.00 23.41           H\\nATOM    259  HA  ALA B  17       4.991   8.396   6.977  1.00 13.12           H\\nATOM    260  HB1 ALA B  17       6.851   6.510   5.536  1.00 12.10           H\\nATOM    261  HB2 ALA B  17       6.984   8.268   5.612  1.00 73.34           H\\nATOM    262  HB3 ALA B  17       7.197   7.304   7.073  1.00 52.12           H\\nATOM    263  N   PHE B  18       4.029   6.367   4.597  1.00 11.03           N\\nATOM    264  CA  PHE B  18       3.276   6.281   3.351  1.00 21.24           C\\nATOM    265  C   PHE B  18       1.810   6.643   3.575  1.00  4.42           C\\nATOM    266  O   PHE B  18       1.177   7.265   2.723  1.00 11.41           O\\nATOM    267  CB  PHE B  18       3.380   4.872   2.764  1.00 25.11           C\\nATOM    268  CG  PHE B  18       4.318   4.778   1.594  1.00 11.32           C\\nATOM    269  CD1 PHE B  18       5.525   5.458   1.601  1.00 63.44           C\\nATOM    270  CD2 PHE B  18       3.991   4.010   0.488  1.00 44.32           C\\nATOM    271  CE1 PHE B  18       6.391   5.373   0.526  1.00 55.32           C\\nATOM    272  CE2 PHE B  18       4.852   3.922  -0.590  1.00 34.25           C\\nATOM    273  CZ  PHE B  18       6.052   4.605  -0.571  1.00 60.41           C\\nATOM    274  H   PHE B  18       4.283   5.542   5.061  1.00 61.42           H\\nATOM    275  HA  PHE B  18       3.707   6.985   2.656  1.00 75.13           H\\nATOM    276  HB2 PHE B  18       3.725   4.195   3.545  1.00  0.00           H\\nATOM    277  HB3 PHE B  18       2.402   4.555   2.434  1.00 24.33           H\\nATOM    278  HD1 PHE B  18       5.790   6.060   2.459  1.00 65.23           H\\nATOM    279  HD2 PHE B  18       3.052   3.477   0.471  1.00  3.13           H\\nATOM    280  HE1 PHE B  18       7.327   5.908   0.544  1.00 44.12           H\\nATOM    281  HE2 PHE B  18       4.586   3.320  -1.446  1.00 41.41           H\\nATOM    282  HZ  PHE B  18       6.727   4.537  -1.411  1.00 73.54           H\\nATOM    283  N   ALA B  19       1.279   6.249   4.728  1.00 45.43           N\\nATOM    284  CA  ALA B  19      -0.110   6.534   5.065  1.00 32.40           C\\nATOM    285  C   ALA B  19      -0.377   8.035   5.069  1.00 53.40           C\\nATOM    286  O   ALA B  19      -1.524   8.470   4.970  1.00 52.22           O\\nATOM    287  CB  ALA B  19      -0.459   5.930   6.417  1.00 12.13           C\\nATOM    288  H   ALA B  19       1.835   5.757   5.367  1.00 61.23           H\\nATOM    289  HA  ALA B  19      -0.736   6.068   4.318  1.00 54.21           H\\nATOM    290  HB1 ALA B  19      -0.298   4.862   6.386  1.00 42.52           H\\nATOM    291  HB2 ALA B  19       0.169   6.367   7.179  1.00 22.12           H\\nATOM    292  HB3 ALA B  19      -1.495   6.131   6.645  1.00 44.34           H\\nATOM    293  N   ASN B  20       0.688   8.821   5.185  1.00 52.21           N\\nATOM    294  CA  ASN B  20       0.567  10.274   5.203  1.00 13.32           C\\nATOM    295  C   ASN B  20      -0.038  10.786   3.900  1.00 52.25           C\\nATOM    296  O   ASN B  20      -0.534  11.912   3.832  1.00 13.20           O\\nATOM    297  CB  ASN B  20       1.936  10.918   5.430  1.00  0.12           C\\nATOM    298  CG  ASN B  20       2.430  10.740   6.853  1.00 74.33           C\\nATOM    299  OD1 ASN B  20       3.547  10.274   7.079  1.00  4.25           O\\nATOM    300  ND2 ASN B  20       1.598  11.109   7.819  1.00 34.21           N\\nATOM    301  H   ASN B  20       1.576   8.415   5.260  1.00 10.14           H\\nATOM    302  HA  ASN B  20      -0.087  10.542   6.020  1.00 53.14           H\\nATOM    303  HB2 ASN B  20       2.654  10.464   4.748  1.00  0.00           H\\nATOM    304  HB3 ASN B  20       1.869  11.975   5.222  1.00 41.13           H\\nATOM    305 HD21 ASN B  20       0.724  11.471   7.564  1.00 33.21           H\\nATOM    306 HD22 ASN B  20       1.892  11.004   8.748  1.00 61.11           H\\nATOM    307  N   LEU B  21       0.004   9.952   2.866  1.00  1.43           N\\nATOM    308  CA  LEU B  21      -0.540  10.320   1.564  1.00 71.33           C\\nATOM    309  C   LEU B  21      -1.942   9.747   1.379  1.00 41.23           C\\nATOM    310  O   LEU B  21      -2.348   8.804   2.057  1.00  0.12           O\\nATOM    311  CB  LEU B  21       0.378   9.822   0.446  1.00 31.13           C\\nATOM    312  CG  LEU B  21       1.263  10.878  -0.217  1.00 35.11           C\\nATOM    313  CD1 LEU B  21       1.878  11.792   0.830  1.00 11.45           C\\nATOM    314  CD2 LEU B  21       2.347  10.217  -1.054  1.00 65.11           C\\nATOM    315  H   LEU B  21       0.412   9.070   2.981  1.00 33.40           H\\nATOM    316  HA  LEU B  21      -0.596  11.397   1.520  1.00 52.14           H\\nATOM    317  HB2 LEU B  21       1.031   9.057   0.868  1.00  0.00           H\\nATOM    318  HB3 LEU B  21      -0.244   9.380  -0.320  1.00 14.12           H\\nATOM    319  HG  LEU B  21       0.656  11.485  -0.874  1.00 55.32           H\\nATOM    320 HD11 LEU B  21       2.515  12.517   0.346  1.00 74.10           H\\nATOM    321 HD12 LEU B  21       2.463  11.206   1.522  1.00 34.55           H\\nATOM    322 HD13 LEU B  21       1.093  12.305   1.368  1.00 50.04           H\\nATOM    323 HD21 LEU B  21       2.206   9.146  -1.044  1.00 60.01           H\\nATOM    324 HD22 LEU B  21       3.316  10.455  -0.641  1.00  5.41           H\\nATOM    325 HD23 LEU B  21       2.289  10.579  -2.070  1.00 34.52           H\\nATOM    326  N   PRO B  22      -2.699  10.329   0.437  1.00 71.44           N\\nATOM    327  CA  PRO B  22      -4.066   9.891   0.138  1.00 33.22           C\\nATOM    328  C   PRO B  22      -4.103   8.524  -0.537  1.00 41.11           C\\nATOM    329  O   PRO B  22      -3.103   8.070  -1.097  1.00 14.22           O\\nATOM    330  CB  PRO B  22      -4.585  10.972  -0.814  1.00 25.23           C\\nATOM    331  CG  PRO B  22      -3.361  11.534  -1.452  1.00 21.54           C\\nATOM    332  CD  PRO B  22      -2.279  11.457  -0.410  1.00 42.41           C\\nATOM    333  HA  PRO B  22      -4.679   9.868   1.028  1.00 43.23           H\\nATOM    334  HB2 PRO B  22      -5.258  10.550  -1.561  1.00  0.00           H\\nATOM    335  HB3 PRO B  22      -5.118  11.725  -0.253  1.00 74.41           H\\nATOM    336  HG2 PRO B  22      -3.084  10.909  -2.300  1.00  0.00           H\\nATOM    337  HG3 PRO B  22      -3.535  12.560  -1.737  1.00 13.33           H\\nATOM    338  HD2 PRO B  22      -1.308  11.274  -0.868  1.00  0.00           H\\nATOM    339  HD3 PRO B  22      -2.241  12.373   0.161  1.00  4.32           H\\nATOM    340  N   LEU B  23      -5.259   7.873  -0.482  1.00 14.24           N\\nATOM    341  CA  LEU B  23      -5.426   6.557  -1.089  1.00 14.01           C\\nATOM    342  C   LEU B  23      -5.264   6.632  -2.604  1.00 15.13           C\\nATOM    343  O   LEU B  23      -5.021   5.620  -3.262  1.00 41.23           O\\nATOM    344  CB  LEU B  23      -6.801   5.983  -0.739  1.00 64.12           C\\nATOM    345  CG  LEU B  23      -6.817   4.881   0.320  1.00 31.45           C\\nATOM    346  CD1 LEU B  23      -7.987   5.074   1.273  1.00 51.21           C\\nATOM    347  CD2 LEU B  23      -6.883   3.510  -0.337  1.00 21.31           C\\nATOM    348  H   LEU B  23      -6.019   8.286  -0.022  1.00 31.21           H\\nATOM    349  HA  LEU B  23      -4.662   5.908  -0.689  1.00  3.33           H\\nATOM    350  HB2 LEU B  23      -7.422   6.802  -0.377  1.00  0.00           H\\nATOM    351  HB3 LEU B  23      -7.229   5.579  -1.645  1.00 50.33           H\\nATOM    352  HG  LEU B  23      -5.905   4.932   0.899  1.00 43.13           H\\nATOM    353 HD11 LEU B  23      -7.821   5.955   1.874  1.00 45.42           H\\nATOM    354 HD12 LEU B  23      -8.074   4.211   1.916  1.00 62.31           H\\nATOM    355 HD13 LEU B  23      -8.898   5.192   0.705  1.00 53.05           H\\nATOM    356 HD21 LEU B  23      -6.794   3.620  -1.408  1.00 33.04           H\\nATOM    357 HD22 LEU B  23      -7.828   3.043  -0.100  1.00 73.14           H\\nATOM    358 HD23 LEU B  23      -6.075   2.895   0.030  1.00  2.45           H\\nATOM    359  N   TRP B  24      -5.398   7.835  -3.149  1.00 14.42           N\\nATOM    360  CA  TRP B  24      -5.264   8.042  -4.586  1.00 41.54           C\\nATOM    361  C   TRP B  24      -3.929   7.507  -5.091  1.00 61.15           C\\nATOM    362  O   TRP B  24      -3.860   6.878  -6.148  1.00 12.13           O\\nATOM    363  CB  TRP B  24      -5.391   9.529  -4.922  1.00 54.05           C\\nATOM    364  CG  TRP B  24      -6.812  10.003  -4.990  1.00 13.33           C\\nATOM    365  CD1 TRP B  24      -7.552  10.522  -3.966  1.00 33.31           C\\nATOM    366  CD2 TRP B  24      -7.663  10.000  -6.141  1.00 50.33           C\\nATOM    367  NE1 TRP B  24      -8.812  10.842  -4.412  1.00 24.44           N\\nATOM    368  CE2 TRP B  24      -8.905  10.532  -5.743  1.00  1.22           C\\nATOM    369  CE3 TRP B  24      -7.495   9.603  -7.470  1.00 74.24           C\\nATOM    370  CZ2 TRP B  24      -9.972  10.674  -6.626  1.00 42.24           C\\nATOM    371  CZ3 TRP B  24      -8.555   9.744  -8.346  1.00 53.10           C\\nATOM    372  CH2 TRP B  24      -9.780  10.276  -7.922  1.00 22.23           C\\nATOM    373  H   TRP B  24      -5.592   8.603  -2.571  1.00 53.22           H\\nATOM    374  HA  TRP B  24      -6.063   7.503  -5.074  1.00 22.32           H\\nATOM    375  HB2 TRP B  24      -4.863  10.106  -4.163  1.00  0.00           H\\nATOM    376  HB3 TRP B  24      -4.932   9.714  -5.883  1.00 22.44           H\\nATOM    377  HD1 TRP B  24      -7.188  10.654  -2.958  1.00 75.24           H\\nATOM    378  HE1 TRP B  24      -9.527  11.230  -3.865  1.00 33.22           H\\nATOM    379  HE3 TRP B  24      -6.560   9.191  -7.816  1.00 65.45           H\\nATOM    380  HZ2 TRP B  24     -10.921  11.083  -6.315  1.00 13.12           H\\nATOM    381  HZ3 TRP B  24      -8.445   9.441  -9.377  1.00 65.21           H\\nATOM    382  HH2 TRP B  24     -10.580  10.368  -8.640  1.00 10.22           H\\nATOM    383  N   LYS B  25      -2.870   7.759  -4.331  1.00  4.11           N\\nATOM    384  CA  LYS B  25      -1.536   7.301  -4.700  1.00 42.12           C\\nATOM    385  C   LYS B  25      -1.393   5.800  -4.471  1.00 41.02           C\\nATOM    386  O   LYS B  25      -0.559   5.145  -5.095  1.00 41.25           O\\nATOM    387  CB  LYS B  25      -0.474   8.054  -3.894  1.00 44.45           C\\nATOM    388  CG  LYS B  25       0.892   8.075  -4.558  1.00  5.10           C\\nATOM    389  CD  LYS B  25       1.893   7.220  -3.799  1.00  3.41           C\\nATOM    390  CE  LYS B  25       3.324   7.649  -4.088  1.00  0.40           C\\nATOM    391  NZ  LYS B  25       4.305   6.593  -3.718  1.00 21.21           N\\nATOM    392  H   LYS B  25      -2.988   8.266  -3.500  1.00 24.54           H\\nATOM    393  HA  LYS B  25      -1.392   7.508  -5.750  1.00  0.41           H\\nATOM    394  HB2 LYS B  25      -0.809   9.083  -3.762  1.00  0.00           H\\nATOM    395  HB3 LYS B  25      -0.374   7.585  -2.927  1.00 23.44           H\\nATOM    396  HG2 LYS B  25       0.797   7.692  -5.574  1.00  0.00           H\\nATOM    397  HG3 LYS B  25       1.252   9.093  -4.589  1.00 14.42           H\\nATOM    398  HD2 LYS B  25       1.704   7.317  -2.730  1.00  0.00           H\\nATOM    399  HD3 LYS B  25       1.770   6.189  -4.094  1.00 70.20           H\\nATOM    400  HE2 LYS B  25       3.421   7.866  -5.151  1.00  0.00           H\\nATOM    401  HE3 LYS B  25       3.539   8.543  -3.521  1.00 40.51           H\\nATOM    402  HZ1 LYS B  25       4.052   6.175  -2.800  1.00 14.14           H\\nATOM    403  HZ2 LYS B  25       5.260   6.999  -3.648  1.00 52.33           H\\nATOM    404  HZ3 LYS B  25       4.311   5.843  -4.438  1.00 23.41           H\\nATOM    405  N   GLN B  26      -2.213   5.262  -3.574  1.00  1.22           N\\nATOM    406  CA  GLN B  26      -2.177   3.838  -3.264  1.00 72.21           C\\nATOM    407  C   GLN B  26      -2.705   3.013  -4.433  1.00 50.43           C\\nATOM    408  O   GLN B  26      -2.371   1.838  -4.576  1.00 11.11           O\\nATOM    409  CB  GLN B  26      -2.999   3.547  -2.007  1.00 63.22           C\\nATOM    410  CG  GLN B  26      -2.232   2.778  -0.943  1.00 42.22           C\\nATOM    411  CD  GLN B  26      -2.395   3.377   0.440  1.00 22.02           C\\nATOM    412  OE1 GLN B  26      -1.629   4.251   0.845  1.00 11.03           O\\nATOM    413  NE2 GLN B  26      -3.397   2.907   1.174  1.00 31.31           N\\nATOM    414  H   GLN B  26      -2.856   5.837  -3.109  1.00 63.51           H\\nATOM    415  HA  GLN B  26      -1.149   3.564  -3.082  1.00 43.40           H\\nATOM    416  HB2 GLN B  26      -3.322   4.497  -1.580  1.00  0.00           H\\nATOM    417  HB3 GLN B  26      -3.866   2.967  -2.285  1.00 61.40           H\\nATOM    418  HG2 GLN B  26      -2.593   1.750  -0.924  1.00  0.00           H\\nATOM    419  HG3 GLN B  26      -1.183   2.783  -1.200  1.00 42.33           H\\nATOM    420 HE21 GLN B  26      -3.966   2.209   0.787  1.00 73.34           H\\nATOM    421 HE22 GLN B  26      -3.525   3.275   2.072  1.00 22.53           H\\nATOM    422  N   GLN B  27      -3.531   3.638  -5.266  1.00 60.13           N\\nATOM    423  CA  GLN B  27      -4.106   2.961  -6.423  1.00 23.45           C\\nATOM    424  C   GLN B  27      -3.012   2.465  -7.362  1.00 40.54           C\\nATOM    425  O   GLN B  27      -3.172   1.448  -8.035  1.00 23.43           O\\nATOM    426  CB  GLN B  27      -5.052   3.900  -7.172  1.00 72.44           C\\nATOM    427  CG  GLN B  27      -6.516   3.508  -7.058  1.00  2.02           C\\nATOM    428  CD  GLN B  27      -7.454   4.639  -7.429  1.00  4.23           C\\nATOM    429  OE1 GLN B  27      -7.016   5.723  -7.815  1.00 61.32           O\\nATOM    430  NE2 GLN B  27      -8.754   4.393  -7.313  1.00 70.11           N\\nATOM    431  H   GLN B  27      -3.760   4.576  -5.099  1.00 42.13           H\\nATOM    432  HA  GLN B  27      -4.666   2.111  -6.064  1.00 14.23           H\\nATOM    433  HB2 GLN B  27      -4.931   4.905  -6.765  1.00  0.00           H\\nATOM    434  HB3 GLN B  27      -4.784   3.902  -8.219  1.00  4.25           H\\nATOM    435  HG2 GLN B  27      -6.706   2.664  -7.721  1.00  0.00           H\\nATOM    436  HG3 GLN B  27      -6.717   3.212  -6.039  1.00 34.22           H\\nATOM    437 HE21 GLN B  27      -9.030   3.506  -6.998  1.00 11.13           H\\nATOM    438 HE22 GLN B  27      -9.383   5.107  -7.545  1.00 62.33           H\\nATOM    439  N   ASN B  28      -1.900   3.192  -7.404  1.00 12.21           N\\nATOM    440  CA  ASN B  28      -0.779   2.826  -8.263  1.00  0.24           C\\nATOM    441  C   ASN B  28       0.079   1.748  -7.607  1.00 53.55           C\\nATOM    442  O   ASN B  28       0.489   0.785  -8.257  1.00 40.22           O\\nATOM    443  CB  ASN B  28       0.076   4.057  -8.572  1.00 24.11           C\\nATOM    444  CG  ASN B  28       1.327   3.709  -9.356  1.00 12.35           C\\nATOM    445  OD1 ASN B  28       1.398   2.664 -10.002  1.00 20.01           O\\nATOM    446  ND2 ASN B  28       2.322   4.587  -9.301  1.00 15.50           N\\nATOM    447  H   ASN B  28      -1.831   3.994  -6.844  1.00 62.13           H\\nATOM    448  HA  ASN B  28      -1.182   2.438  -9.186  1.00 13.03           H\\nATOM    449  HB2 ASN B  28      -0.520   4.760  -9.153  1.00  0.00           H\\nATOM    450  HB3 ASN B  28       0.372   4.525  -7.645  1.00 55.41           H\\nATOM    451 HD21 ASN B  28       2.196   5.399  -8.766  1.00 34.42           H\\nATOM    452 HD22 ASN B  28       3.142   4.388  -9.799  1.00  0.42           H\\nATOM    453  N   LEU B  29       0.347   1.917  -6.317  1.00 62.22           N\\nATOM    454  CA  LEU B  29       1.156   0.957  -5.573  1.00 14.34           C\\nATOM    455  C   LEU B  29       0.589  -0.452  -5.705  1.00 71.42           C\\nATOM    456  O   LEU B  29       1.329  -1.413  -5.918  1.00 21.45           O\\nATOM    457  CB  LEU B  29       1.224   1.355  -4.097  1.00 44.11           C\\nATOM    458  CG  LEU B  29       2.621   1.389  -3.475  1.00 53.10           C\\nATOM    459  CD1 LEU B  29       2.545   1.815  -2.017  1.00 52.52           C\\nATOM    460  CD2 LEU B  29       3.294   0.030  -3.601  1.00 51.21           C\\nATOM    461  H   LEU B  29      -0.007   2.703  -5.853  1.00 51.14           H\\nATOM    462  HA  LEU B  29       2.152   0.973  -5.988  1.00 24.54           H\\nATOM    463  HB2 LEU B  29       0.791   2.351  -4.000  1.00  0.00           H\\nATOM    464  HB3 LEU B  29       0.629   0.648  -3.537  1.00 54.50           H\\nATOM    465  HG  LEU B  29       3.226   2.113  -4.003  1.00 53.22           H\\nATOM    466 HD11 LEU B  29       3.450   1.519  -1.508  1.00 75.41           H\\nATOM    467 HD12 LEU B  29       1.696   1.343  -1.547  1.00 52.54           H\\nATOM    468 HD13 LEU B  29       2.436   2.890  -1.961  1.00 71.44           H\\nATOM    469 HD21 LEU B  29       2.883  -0.644  -2.864  1.00  5.42           H\\nATOM    470 HD22 LEU B  29       4.356   0.139  -3.438  1.00 23.04           H\\nATOM    471 HD23 LEU B  29       3.119  -0.367  -4.590  1.00  3.33           H\\nATOM    472  N   LYS B  30      -0.729  -0.569  -5.581  1.00  4.22           N\\nATOM    473  CA  LYS B  30      -1.397  -1.860  -5.690  1.00 60.10           C\\nATOM    474  C   LYS B  30      -1.156  -2.483  -7.061  1.00 54.55           C\\nATOM    475  O   LYS B  30      -1.041  -3.701  -7.190  1.00 23.43           O\\nATOM    476  CB  LYS B  30      -2.900  -1.702  -5.446  1.00 63.44           C\\nATOM    477  CG  LYS B  30      -3.663  -3.015  -5.483  1.00 31.22           C\\nATOM    478  CD  LYS B  30      -5.025  -2.886  -4.822  1.00 62.44           C\\nATOM    479  CE  LYS B  30      -5.078  -3.636  -3.501  1.00 25.24           C\\nATOM    480  NZ  LYS B  30      -4.495  -2.838  -2.386  1.00 54.01           N\\nATOM    481  H   LYS B  30      -1.266   0.235  -5.412  1.00 64.40           H\\nATOM    482  HA  LYS B  30      -0.985  -2.511  -4.935  1.00 21.33           H\\nATOM    483  HB2 LYS B  30      -3.042  -1.248  -4.465  1.00  0.00           H\\nATOM    484  HB3 LYS B  30      -3.309  -1.051  -6.205  1.00 42.25           H\\nATOM    485  HG2 LYS B  30      -3.800  -3.316  -6.521  1.00  0.00           H\\nATOM    486  HG3 LYS B  30      -3.090  -3.768  -4.961  1.00 50.03           H\\nATOM    487  HD2 LYS B  30      -5.232  -1.831  -4.638  1.00  0.00           H\\nATOM    488  HD3 LYS B  30      -5.777  -3.290  -5.486  1.00  3.31           H\\nATOM    489  HE2 LYS B  30      -6.116  -3.869  -3.265  1.00  0.00           H\\nATOM    490  HE3 LYS B  30      -4.520  -4.556  -3.602  1.00 72.11           H\\nATOM    491  HZ1 LYS B  30      -4.552  -1.823  -2.607  1.00 32.11           H\\nATOM    492  HZ2 LYS B  30      -3.499  -3.096  -2.245  1.00  5.14           H\\nATOM    493  HZ3 LYS B  30      -5.018  -3.021  -1.506  1.00 14.35           H\\nATOM    494  N   LYS B  31      -1.081  -1.638  -8.085  1.00 31.14           N\\nATOM    495  CA  LYS B  31      -0.851  -2.105  -9.447  1.00 24.22           C\\nATOM    496  C   LYS B  31       0.623  -2.427  -9.670  1.00 40.33           C\\nATOM    497  O   LYS B  31       0.966  -3.245 -10.523  1.00  3.33           O\\nATOM    498  CB  LYS B  31      -1.312  -1.049 -10.454  1.00 50.20           C\\nATOM    499  CG  LYS B  31      -1.330  -1.544 -11.890  1.00 24.33           C\\nATOM    500  CD  LYS B  31      -1.420  -0.392 -12.876  1.00 63.21           C\\nATOM    501  CE  LYS B  31      -0.075  -0.110 -13.529  1.00 24.40           C\\nATOM    502  NZ  LYS B  31      -0.201   0.835 -14.673  1.00 21.33           N\\nATOM    503  H   LYS B  31      -1.181  -0.677  -7.919  1.00 41.11           H\\nATOM    504  HA  LYS B  31      -1.430  -3.005  -9.591  1.00 43.24           H\\nATOM    505  HB2 LYS B  31      -2.321  -0.736 -10.185  1.00  0.00           H\\nATOM    506  HB3 LYS B  31      -0.647  -0.199 -10.396  1.00 61.45           H\\nATOM    507  HG2 LYS B  31      -0.414  -2.104 -12.082  1.00  0.00           H\\nATOM    508  HG3 LYS B  31      -2.183  -2.192 -12.027  1.00 61.21           H\\nATOM    509  HD2 LYS B  31      -2.144  -0.645 -13.650  1.00  0.00           H\\nATOM    510  HD3 LYS B  31      -1.749   0.495 -12.352  1.00 22.41           H\\nATOM    511  HE2 LYS B  31       0.596   0.321 -12.786  1.00  0.00           H\\nATOM    512  HE3 LYS B  31       0.339  -1.041 -13.886  1.00 74.25           H\\nATOM    513  HZ1 LYS B  31      -1.185   1.161 -14.759  1.00 53.45           H\\nATOM    514  HZ2 LYS B  31       0.075   0.364 -15.558  1.00  0.14           H\\nATOM    515  HZ3 LYS B  31       0.415   1.660 -14.524  1.00 54.34           H\\nATOM    516  N   GLU B  32       1.489  -1.778  -8.898  1.00 65.12           N\\nATOM    517  CA  GLU B  32       2.927  -1.997  -9.013  1.00 11.21           C\\nATOM    518  C   GLU B  32       3.294  -3.424  -8.614  1.00 14.23           C\\nATOM    519  O   GLU B  32       4.193  -4.031  -9.194  1.00 62.31           O\\nATOM    520  CB  GLU B  32       3.688  -0.999  -8.138  1.00 41.10           C\\nATOM    521  CG  GLU B  32       5.198  -1.088  -8.286  1.00 12.01           C\\nATOM    522  CD  GLU B  32       5.832   0.249  -8.615  1.00  0.51           C\\nATOM    523  OE1 GLU B  32       5.284   0.968  -9.476  1.00 41.42           O\\nATOM    524  OE2 GLU B  32       6.876   0.576  -8.012  1.00 31.10           O\\nATOM    525  H   GLU B  32       1.155  -1.138  -8.237  1.00 15.13           H\\nATOM    526  HA  GLU B  32       3.204  -1.843 -10.044  1.00 44.44           H\\nATOM    527  HB2 GLU B  32       3.374   0.008  -8.413  1.00  0.00           H\\nATOM    528  HB3 GLU B  32       3.438  -1.182  -7.103  1.00 71.15           H\\nATOM    529  HG2 GLU B  32       5.621  -1.456  -7.351  1.00  0.00           H\\nATOM    530  HG3 GLU B  32       5.429  -1.785  -9.079  1.00 55.30           H\\nATOM    531  HE2 GLU B  32       7.222   1.434  -8.269  1.00  0.00           H\\nATOM    532  N   LYS B  33       2.590  -3.952  -7.618  1.00 23.42           N\\nATOM    533  CA  LYS B  33       2.839  -5.307  -7.140  1.00  3.35           C\\nATOM    534  C   LYS B  33       1.562  -6.140  -7.176  1.00  4.21           C\\nATOM    535  O   LYS B  33       1.441  -7.075  -7.969  1.00 33.15           O\\nATOM    536  CB  LYS B  33       3.398  -5.272  -5.715  1.00 71.32           C\\nATOM    537  CG  LYS B  33       4.909  -5.132  -5.658  1.00 10.42           C\\nATOM    538  CD  LYS B  33       5.339  -4.165  -4.567  1.00 54.45           C\\nATOM    539  CE  LYS B  33       6.763  -3.678  -4.783  1.00 54.44           C\\nATOM    540  NZ  LYS B  33       7.042  -2.425  -4.027  1.00 32.33           N\\nATOM    541  H   LYS B  33       1.886  -3.418  -7.194  1.00 74.14           H\\nATOM    542  HA  LYS B  33       3.569  -5.760  -7.793  1.00 21.14           H\\nATOM    543  HB2 LYS B  33       2.954  -4.425  -5.192  1.00  0.00           H\\nATOM    544  HB3 LYS B  33       3.124  -6.187  -5.211  1.00 75.44           H\\nATOM    545  HG2 LYS B  33       5.348  -6.109  -5.457  1.00  0.00           H\\nATOM    546  HG3 LYS B  33       5.264  -4.766  -6.611  1.00 62.40           H\\nATOM    547  HD2 LYS B  33       4.667  -3.306  -4.570  1.00  0.00           H\\nATOM    548  HD3 LYS B  33       5.279  -4.665  -3.611  1.00  0.30           H\\nATOM    549  HE2 LYS B  33       7.457  -4.452  -4.454  1.00  0.00           H\\nATOM    550  HE3 LYS B  33       6.910  -3.492  -5.837  1.00 43.51           H\\nATOM    551  HZ1 LYS B  33       6.354  -2.314  -3.254  1.00 71.43           H\\nATOM    552  HZ2 LYS B  33       6.971  -1.603  -4.659  1.00  3.33           H\\nATOM    553  HZ3 LYS B  33       7.999  -2.458  -3.622  1.00 63.43           H\\nATOM    554  N   LEU B  34       0.611  -5.795  -6.315  1.00  0.20           N\\nATOM    555  CA  LEU B  34      -0.659  -6.510  -6.250  1.00 24.13           C\\nATOM    556  C   LEU B  34      -1.349  -6.519  -7.610  1.00 14.54           C\\nATOM    557  O   LEU B  34      -0.856  -5.929  -8.572  1.00 60.52           O\\nATOM    558  CB  LEU B  34      -1.574  -5.871  -5.204  1.00 43.11           C\\nATOM    559  CG  LEU B  34      -1.756  -6.653  -3.903  1.00 41.31           C\\nATOM    560  CD1 LEU B  34      -2.537  -7.933  -4.155  1.00 72.13           C\\nATOM    561  CD2 LEU B  34      -0.405  -6.965  -3.275  1.00 11.23           C\\nATOM    562  H   LEU B  34       0.765  -5.041  -5.709  1.00  1.15           H\\nATOM    563  HA  LEU B  34      -0.450  -7.529  -5.959  1.00  4.40           H\\nATOM    564  HB2 LEU B  34      -1.159  -4.895  -4.950  1.00  0.00           H\\nATOM    565  HB3 LEU B  34      -2.548  -5.741  -5.653  1.00 74.43           H\\nATOM    566  HG  LEU B  34      -2.320  -6.051  -3.204  1.00 62.31           H\\nATOM    567 HD11 LEU B  34      -1.898  -8.655  -4.641  1.00 53.24           H\\nATOM    568 HD12 LEU B  34      -3.385  -7.719  -4.789  1.00 15.43           H\\nATOM    569 HD13 LEU B  34      -2.883  -8.335  -3.214  1.00 54.22           H\\nATOM    570 HD21 LEU B  34       0.119  -6.043  -3.073  1.00 13.45           H\\nATOM    571 HD22 LEU B  34       0.178  -7.568  -3.956  1.00 32.24           H\\nATOM    572 HD23 LEU B  34      -0.554  -7.505  -2.351  1.00 51.25           H\\nATOM    573  N   LEU B  35      -2.494  -7.188  -7.682  1.00 13.05           N\\nATOM    574  CA  LEU B  35      -3.255  -7.271  -8.923  1.00 72.54           C\\nATOM    575  C   LEU B  35      -4.576  -6.518  -8.804  1.00 50.34           C\\nATOM    576  O   LEU B  35      -4.904  -5.682  -9.647  1.00 30.13           O\\nATOM    577  CB  LEU B  35      -3.520  -8.734  -9.285  1.00 31.41           C\\nATOM    578  CG  LEU B  35      -2.965  -9.205 -10.630  1.00 13.31           C\\nATOM    579  CD1 LEU B  35      -3.529  -8.363 -11.764  1.00 30.01           C\\nATOM    580  CD2 LEU B  35      -1.445  -9.149 -10.628  1.00 43.10           C\\nATOM    581  H   LEU B  35      -2.836  -7.638  -6.881  1.00 54.34           H\\nATOM    582  HA  LEU B  35      -2.664  -6.817  -9.705  1.00 31.41           H\\nATOM    583  HB2 LEU B  35      -3.077  -9.355  -8.506  1.00  0.00           H\\nATOM    584  HB3 LEU B  35      -4.590  -8.882  -9.298  1.00 14.33           H\\nATOM    585  HG  LEU B  35      -3.263 -10.230 -10.796  1.00 63.33           H\\nATOM    586 HD11 LEU B  35      -3.201  -8.766 -12.710  1.00 21.14           H\\nATOM    587 HD12 LEU B  35      -3.180  -7.345 -11.666  1.00 32.34           H\\nATOM    588 HD13 LEU B  35      -4.608  -8.378 -11.720  1.00 53.15           H\\nATOM    589 HD21 LEU B  35      -1.048 -10.142 -10.480  1.00 34.32           H\\nATOM    590 HD22 LEU B  35      -1.109  -8.505  -9.828  1.00  0.51           H\\nATOM    591 HD23 LEU B  35      -1.097  -8.760 -11.574  1.00 11.44           H\\nATOM    592  N   PHE B  36      -5.329  -6.818  -7.752  1.00 13.22           N\\nATOM    593  CA  PHE B  36      -6.614  -6.168  -7.521  1.00 51.45           C\\nATOM    594  C   PHE B  36      -6.707  -5.638  -6.094  1.00  1.53           C\\nATOM    595  O   PHE B  36      -5.773  -5.800  -5.312  1.00  0.00           O\\nATOM    596  CB  PHE B  36      -7.760  -7.146  -7.790  1.00 74.20           C\\nATOM    597  CG  PHE B  36      -8.791  -6.614  -8.744  1.00 12.20           C\\nATOM    598  CD1 PHE B  36      -9.582  -5.531  -8.397  1.00  1.14           C\\nATOM    599  CD2 PHE B  36      -8.970  -7.198  -9.988  1.00 43.40           C\\nATOM    600  CE1 PHE B  36     -10.532  -5.039  -9.272  1.00 71.12           C\\nATOM    601  CE2 PHE B  36      -9.917  -6.709 -10.868  1.00  2.11           C\\nATOM    602  CZ  PHE B  36     -10.699  -5.629 -10.509  1.00 74.22           C\\nATOM    603  OXT PHE B  36      -7.714  -5.045  -5.711  1.00  0.00           O\\nATOM    604  H   PHE B  36      -5.014  -7.494  -7.115  1.00  1.30           H\\nATOM    605  HA  PHE B  36      -6.693  -5.338  -8.207  1.00  4.13           H\\nATOM    606  HB2 PHE B  36      -7.343  -8.065  -8.202  1.00  0.00           H\\nATOM    607  HB3 PHE B  36      -8.255  -7.374  -6.858  1.00 23.10           H\\nATOM    608  HD1 PHE B  36      -9.452  -5.068  -7.428  1.00 40.24           H\\nATOM    609  HD2 PHE B  36      -8.359  -8.043 -10.270  1.00  2.03           H\\nATOM    610  HE1 PHE B  36     -11.142  -4.195  -8.988  1.00 43.53           H\\nATOM    611  HE2 PHE B  36     -10.047  -7.173 -11.834  1.00 41.03           H\\nATOM    612  HZ  PHE B  36     -11.441  -5.246 -11.195  1.00 45.10           H\\nEND\\n\",\"pdb\");\n",
              "\tviewer_16050643429269176.zoomTo();\n",
              "\tviewer_16050643429269176.setBackgroundColor(\"white\");\n",
              "\tviewer_16050643429269176.setStyle({\"chain\": \"A\"},{\"cartoon\": {\"color\": \"yellow\"}});\n",
              "\tviewer_16050643429269176.setStyle({\"chain\": \"B\"},{\"cartoon\": {\"color\": \"green\"}});\n",
              "viewer_16050643429269176.zoomTo();\n",
              "viewer_16050643429269176.render();\n",
              "});\n",
              "</script>"
            ]
          },
          "metadata": {
            "tags": []
          }
        }
      ]
    },
    {
      "cell_type": "markdown",
      "metadata": {
        "id": "rSxJGITc1tBU"
      },
      "source": [
        "# Appendix A. Going deeper"
      ]
    },
    {
      "cell_type": "markdown",
      "metadata": {
        "id": "f4b0gE4GmAx9"
      },
      "source": [
        "## A Real Example\n",
        "\"\"\"\n",
        "All of the default variables and parameters used above are specific to\n",
        "the example with \"test_in.pdb\", which is supposed to be simple,\n",
        "straightforward, and speedy. Here is a more practical example:\n",
        "\n",
        "Pheromone ER-23 is a small protein (51 amino acids) with 5 disulfide bridges.\n",
        "The formation of these bonds may significantly effect folding. Suppose you\n",
        "are interested in the significance of these disulfide bonds as folding\n",
        "constraints and want to predict the protein without them using PyRosetta.\n",
        "\n",
        "1. Obtain the protein sequence of RCSB PDB 1HA8 (instructions above)\n",
        "        (for the example here, download the PDB file and ensure it is clean)\n",
        "2. Make two fragment files using the \"Generate Fragment Files\"\n",
        "        (instructions above)\n",
        "        -of 9-mers (the long fragments)\n",
        "        -of 3-mers (the short fragments)\n",
        "3. Make a directory containing:\n",
        "        -the PDB file for 1HA8 (cleaned of HETATMs and waters)\n",
        "            lets name it \"1HA8.clean.pdb\" here\n",
        "        -the 9-mer fragment file for 1HA8\n",
        "            lets name it \"1HA8.frag9\" here\n",
        "        -the 3-mer fragment file for 1HA8\n",
        "            lets name it \"1HA8.frag3\" here\n",
        "        -this sample script (technically not required, but otherwise the\n",
        "            commands in 4. would change since folding.py would not be here)\n",
        "4. Run the script from the commandline with appropriate arguments:\n",
        "\n",
        ">python folding.py --pdb_filename 1HA8.clean.pdb --long_frag_filename 1HA8.frag9 --long_frag_length 9 --short_frag_filename 1HA8.frag3 --short_frag_length 3 --jobs 100 --job_output 1HA8_folding_output --kT 1.0 --long_inserts 1 --short_inserts 3 --cycles 200 --disulfides 1\n",
        "\n",
        "        -The long_frag_length MUST match long_frag_filename (9 in this example)\n",
        "        -The short_frag_length MUST match short_frag_filename (3 here)\n",
        "        -100 trajectories is low, sampling protein conformations requires many\n",
        "            trials, typically hundreds (800-1000) trajectories are attempted\n",
        "        -The \"temperature\" parameter, kT, is set to 1.0, a neutral value,\n",
        "            larger kT increase the diversity of sampling (easily escape local\n",
        "            minima) but requires compensation with more trajectories\n",
        "            smaller kT decreases the chance of sampling \"useless\" space but\n",
        "            cannot easily escape local minima (the default kT = 3.0\n",
        "        -There are no common values for long_inserts, short_inserts, or cycles\n",
        "            more inserts indicates greater sampling with fragments while\n",
        "            greater cycles produces more sampling in general (though in this\n",
        "            case only fragment insertion is performed)\n",
        "            however, only one selection (Metropolis Criteria) is applied per\n",
        "            cycle, thus a proposed structure with too many fragments inserted\n",
        "            is likely to be rejected but additional trials increases the\n",
        "            computation time noticeably\n",
        "            here, as is typical is Rosetta, a fairly conservative change is\n",
        "            proposed (1 9-mer and 3 3-mers) per cycle with many cycles\n",
        "\n",
        "5. Wait for output, this will take a while (performing 100 trajectories\n",
        "        of loop modeling involving 1*3*200 total moves per trajectory)\n",
        "6. Analyze the results (see INTERPRETING RESULTS above)\n",
        "\n",
        "Note: this is NOT intended to be used for realistic centroid folding,\n",
        "it merely provides a \"skeleton\" for the code in PyRosetta. It may be useful\n",
        "for preliminary investigation but the best protocols are somewhat\n",
        "protein-specific, there is no current universal folding method. As mentioned\n",
        "above, this script only touches the low-resolution aspect of Rosetta folding\n",
        "and must be accompanied by a high-resolution step to yield complete results.\n",
        "Generally, a protocol similar to the one presented here with more drastic\n",
        "sampling and a larger number of trials should be sufficient to find realistic\n",
        "folds (after refinement).\n",
        "\n",
        "\"\"\"\n",
        "\n"
      ]
    },
    {
      "cell_type": "markdown",
      "metadata": {
        "id": "IfjVIjZ7aFIJ"
      },
      "source": [
        "\n",
        "## Changing Folding Sampling\n",
        "\"\"\"\n",
        "Rosetta is a structure prediction tool and all predictions rely on the\n",
        "techniques (moves) used to generate proposed structures. There is NO GENERAL\n",
        "SOLUTION for predicting a protein fold from scratch and fragment insertion\n",
        "is an effective way of sampling the relevant space. Since fragments are\n",
        "sequence and secondary structure (prediction) dependent, the resultant folds\n",
        "are biochemically feasible and in accordance with our prior observations about\n",
        "protein stucture (the PDB).\n",
        "\n",
        "For speed, Rosetta folding (and the folding algorithm presented here) is\n",
        "performed in low-resolution (centroid) mode. This method of folding is\n",
        "abstractly looking for structures which obey certain size constraints (i.e. the\n",
        "rg score term) but do not unrealistically clash (i.e. the vdw score term) that\n",
        "are achieved easily (i.e. fragment insertion, a fast algorithm). Sufficient\n",
        "sampling and downstream refinement will convert these general folds (the output\n",
        "of this script) into reasonable estimates of the native protein structure.\n",
        "\n",
        "Many other sampling techniques and methods are available. PyRosetta was designed\n",
        "to make novel investigation of these ideas easy. Recommend literature include\n",
        "topics in protein structure prediction, Monte Carlo Markov Chain processes,\n",
        "Rosetta protocols, and simulated annealing algorithms. When developing custom\n",
        "protocols, you MUST understand the Movers available in PyRosetta (see the other\n",
        "sample scripts, specifically refinement.py). Unfortunately, you cannot build\n",
        "novel Mover classes in PyRosetta. Fortunately, it is easy to implement similar\\\n",
        "code on your own once you understand how moves and selection are performed.\n",
        "\n",
        "Please try alternate sampling methods to better understand how these\n",
        "algorithms perform and to find what moves best suite your problem.\n",
        "\n",
        "\"\"\"\n",
        "\n"
      ]
    },
    {
      "cell_type": "markdown",
      "metadata": {
        "id": "AjaMrOtDaH0h"
      },
      "source": [
        "\n",
        "## Changing Folding Scoring\n",
        "\"\"\"\n",
        "The Rosetta \"force-field\" is a biasing function (see MCMC algorithms) used to\n",
        "predict protein structures based on what is observed about other protein\n",
        "structures. These scoring methods supply the constraints necessary to bias\n",
        "structure prediction but incorporate a LARGE number of fine tuned parameters.\n",
        "There is no easy way to optimize all relevant constants and performance has been\n",
        "increased by balancing speed and accuracy.\n",
        "\n",
        "Many other relevant metrics exist for protein structures and discriminating\n",
        "decoys (incorrect predictions) from actual proteins is an ongoing task. Please\n",
        "experiment with different ScoreTypes in PyRosetta, their weights, and the\n",
        "combination of terms. Unfortunately, you cannot build novel ScoreTypes (scoring\n",
        "methods) in PyRosetta. Fortunately, it is easy to implement similar code on your\n",
        "own once you understand how scoring biases MCMC simulations.\n",
        "\n",
        "Please try alternate scoring functions or unique selection methods to better\n",
        "understand which scoring terms contribute to performance and to find what\n",
        "scoring best suites your problem.\n",
        "\n",
        "\"\"\""
      ]
    },
    {
      "cell_type": "code",
      "metadata": {
        "id": "gokZfE3yoike"
      },
      "source": [
        ""
      ],
      "execution_count": null,
      "outputs": []
    }
  ]
}